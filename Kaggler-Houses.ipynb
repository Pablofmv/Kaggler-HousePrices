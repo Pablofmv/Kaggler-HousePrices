{
 "cells": [
  {
   "cell_type": "code",
   "execution_count": 1,
   "id": "5e9303a9",
   "metadata": {},
   "outputs": [],
   "source": [
    "import pandas as pd\n",
    "from sklearn.ensemble import RandomForestRegressor\n",
    "from sklearn.preprocessing import LabelEncoder\n",
    "import seaborn as sns"
   ]
  },
  {
   "cell_type": "code",
   "execution_count": 2,
   "id": "ed5a34d2",
   "metadata": {},
   "outputs": [],
   "source": [
    "train = pd.read_csv(\"train.csv\")"
   ]
  },
  {
   "cell_type": "code",
   "execution_count": 3,
   "id": "18dc3d1b",
   "metadata": {},
   "outputs": [
    {
     "data": {
      "text/plain": [
       "(1460, 81)"
      ]
     },
     "execution_count": 3,
     "metadata": {},
     "output_type": "execute_result"
    }
   ],
   "source": [
    "train.shape"
   ]
  },
  {
   "cell_type": "code",
   "execution_count": 4,
   "id": "018a60ae",
   "metadata": {},
   "outputs": [],
   "source": [
    "test = pd.read_csv(\"test.csv\")"
   ]
  },
  {
   "cell_type": "code",
   "execution_count": 5,
   "id": "a630bb79",
   "metadata": {},
   "outputs": [
    {
     "data": {
      "text/plain": [
       "(1459, 80)"
      ]
     },
     "execution_count": 5,
     "metadata": {},
     "output_type": "execute_result"
    }
   ],
   "source": [
    "test.shape"
   ]
  },
  {
   "cell_type": "markdown",
   "id": "8145d800",
   "metadata": {},
   "source": [
    "### First Submission"
   ]
  },
  {
   "cell_type": "code",
   "execution_count": 6,
   "id": "6575a628",
   "metadata": {},
   "outputs": [
    {
     "data": {
      "text/plain": [
       "Index(['Id', 'MSSubClass', 'MSZoning', 'LotFrontage', 'LotArea', 'Street',\n",
       "       'Alley', 'LotShape', 'LandContour', 'Utilities', 'LotConfig',\n",
       "       'LandSlope', 'Neighborhood', 'Condition1', 'Condition2', 'BldgType',\n",
       "       'HouseStyle', 'OverallQual', 'OverallCond', 'YearBuilt', 'YearRemodAdd',\n",
       "       'RoofStyle', 'RoofMatl', 'Exterior1st', 'Exterior2nd', 'MasVnrType',\n",
       "       'MasVnrArea', 'ExterQual', 'ExterCond', 'Foundation', 'BsmtQual',\n",
       "       'BsmtCond', 'BsmtExposure', 'BsmtFinType1', 'BsmtFinSF1',\n",
       "       'BsmtFinType2', 'BsmtFinSF2', 'BsmtUnfSF', 'TotalBsmtSF', 'Heating',\n",
       "       'HeatingQC', 'CentralAir', 'Electrical', '1stFlrSF', '2ndFlrSF',\n",
       "       'LowQualFinSF', 'GrLivArea', 'BsmtFullBath', 'BsmtHalfBath', 'FullBath',\n",
       "       'HalfBath', 'BedroomAbvGr', 'KitchenAbvGr', 'KitchenQual',\n",
       "       'TotRmsAbvGrd', 'Functional', 'Fireplaces', 'FireplaceQu', 'GarageType',\n",
       "       'GarageYrBlt', 'GarageFinish', 'GarageCars', 'GarageArea', 'GarageQual',\n",
       "       'GarageCond', 'PavedDrive', 'WoodDeckSF', 'OpenPorchSF',\n",
       "       'EnclosedPorch', '3SsnPorch', 'ScreenPorch', 'PoolArea', 'PoolQC',\n",
       "       'Fence', 'MiscFeature', 'MiscVal', 'MoSold', 'YrSold', 'SaleType',\n",
       "       'SaleCondition', 'SalePrice'],\n",
       "      dtype='object')"
      ]
     },
     "execution_count": 6,
     "metadata": {},
     "output_type": "execute_result"
    }
   ],
   "source": [
    "train.columns"
   ]
  },
  {
   "cell_type": "code",
   "execution_count": 8,
   "id": "2520a51b",
   "metadata": {},
   "outputs": [],
   "source": [
    "#rf = RandomForestRegressor()"
   ]
  },
  {
   "cell_type": "code",
   "execution_count": 9,
   "id": "38b6914a",
   "metadata": {},
   "outputs": [
    {
     "data": {
      "text/plain": [
       "RandomForestRegressor()"
      ]
     },
     "execution_count": 9,
     "metadata": {},
     "output_type": "execute_result"
    }
   ],
   "source": [
    "#rf.fit(X=train[['LotArea','PoolArea']],y=train['SalePrice'])"
   ]
  },
  {
   "cell_type": "code",
   "execution_count": 10,
   "id": "b43073b9",
   "metadata": {},
   "outputs": [],
   "source": [
    "#test['SalePrice'] = rf.predict(test[['LotArea','PoolArea']])"
   ]
  },
  {
   "cell_type": "code",
   "execution_count": 11,
   "id": "77922782",
   "metadata": {},
   "outputs": [],
   "source": [
    "#test[['Id','SalePrice']].to_csv('first_kaggle_submission.csv', index=False)"
   ]
  },
  {
   "cell_type": "markdown",
   "id": "9a5881c0",
   "metadata": {},
   "source": [
    "#### EDA statistics"
   ]
  },
  {
   "cell_type": "code",
   "execution_count": 7,
   "id": "0fa27edc",
   "metadata": {},
   "outputs": [
    {
     "name": "stdout",
     "output_type": "stream",
     "text": [
      "Train Shape (1460, 81)\n",
      "Test Shape (1459, 80)\n"
     ]
    }
   ],
   "source": [
    "print('Train Shape', train.shape)\n",
    "print('Test Shape', test.shape)"
   ]
  },
  {
   "cell_type": "code",
   "execution_count": 8,
   "id": "a813fa84",
   "metadata": {},
   "outputs": [
    {
     "name": "stdout",
     "output_type": "stream",
     "text": [
      "0     856\n",
      "1    1262\n",
      "2     920\n",
      "3     961\n",
      "4    1145\n",
      "Name: 1stFlrSF, dtype: int64\n"
     ]
    }
   ],
   "source": [
    "print(train['1stFlrSF'].head())"
   ]
  },
  {
   "cell_type": "markdown",
   "id": "3bd94150",
   "metadata": {},
   "source": [
    "#### Data Exploration"
   ]
  },
  {
   "cell_type": "code",
   "execution_count": 9,
   "id": "336f3919",
   "metadata": {},
   "outputs": [],
   "source": [
    "train['Type'] = 'train'"
   ]
  },
  {
   "cell_type": "code",
   "execution_count": 10,
   "id": "c2be4b80",
   "metadata": {},
   "outputs": [],
   "source": [
    "test['Type'] = 'test'"
   ]
  },
  {
   "cell_type": "code",
   "execution_count": 11,
   "id": "610ef4d1",
   "metadata": {},
   "outputs": [],
   "source": [
    "houses = pd.concat([train,test])"
   ]
  },
  {
   "cell_type": "code",
   "execution_count": 12,
   "id": "b3550616",
   "metadata": {},
   "outputs": [
    {
     "data": {
      "text/plain": [
       "Index(['Id', 'MSSubClass', 'MSZoning', 'LotFrontage', 'LotArea', 'Street',\n",
       "       'Alley', 'LotShape', 'LandContour', 'Utilities', 'LotConfig',\n",
       "       'LandSlope', 'Neighborhood', 'Condition1', 'Condition2', 'BldgType',\n",
       "       'HouseStyle', 'OverallQual', 'OverallCond', 'YearBuilt', 'YearRemodAdd',\n",
       "       'RoofStyle', 'RoofMatl', 'Exterior1st', 'Exterior2nd', 'MasVnrType',\n",
       "       'MasVnrArea', 'ExterQual', 'ExterCond', 'Foundation', 'BsmtQual',\n",
       "       'BsmtCond', 'BsmtExposure', 'BsmtFinType1', 'BsmtFinSF1',\n",
       "       'BsmtFinType2', 'BsmtFinSF2', 'BsmtUnfSF', 'TotalBsmtSF', 'Heating',\n",
       "       'HeatingQC', 'CentralAir', 'Electrical', '1stFlrSF', '2ndFlrSF',\n",
       "       'LowQualFinSF', 'GrLivArea', 'BsmtFullBath', 'BsmtHalfBath', 'FullBath',\n",
       "       'HalfBath', 'BedroomAbvGr', 'KitchenAbvGr', 'KitchenQual',\n",
       "       'TotRmsAbvGrd', 'Functional', 'Fireplaces', 'FireplaceQu', 'GarageType',\n",
       "       'GarageYrBlt', 'GarageFinish', 'GarageCars', 'GarageArea', 'GarageQual',\n",
       "       'GarageCond', 'PavedDrive', 'WoodDeckSF', 'OpenPorchSF',\n",
       "       'EnclosedPorch', '3SsnPorch', 'ScreenPorch', 'PoolArea', 'PoolQC',\n",
       "       'Fence', 'MiscFeature', 'MiscVal', 'MoSold', 'YrSold', 'SaleType',\n",
       "       'SaleCondition', 'SalePrice', 'Type'],\n",
       "      dtype='object')"
      ]
     },
     "execution_count": 12,
     "metadata": {},
     "output_type": "execute_result"
    }
   ],
   "source": [
    "houses.columns"
   ]
  },
  {
   "cell_type": "code",
   "execution_count": null,
   "id": "b712ace6",
   "metadata": {},
   "outputs": [],
   "source": []
  },
  {
   "cell_type": "code",
   "execution_count": null,
   "id": "eb8d684a",
   "metadata": {},
   "outputs": [],
   "source": []
  },
  {
   "cell_type": "code",
   "execution_count": null,
   "id": "c06de68f",
   "metadata": {},
   "outputs": [],
   "source": []
  },
  {
   "cell_type": "code",
   "execution_count": null,
   "id": "9610a6ec",
   "metadata": {},
   "outputs": [],
   "source": []
  },
  {
   "cell_type": "code",
   "execution_count": null,
   "id": "df0c0871",
   "metadata": {},
   "outputs": [],
   "source": []
  },
  {
   "cell_type": "markdown",
   "id": "9ea62441",
   "metadata": {},
   "source": [
    "#### Missing values"
   ]
  },
  {
   "cell_type": "code",
   "execution_count": 60,
   "id": "4faf43c4",
   "metadata": {},
   "outputs": [
    {
     "name": "stdout",
     "output_type": "stream",
     "text": [
      "SalePrice    1459\n",
      "dtype: int64\n"
     ]
    }
   ],
   "source": [
    "result = houses.isna().sum()\n",
    "\n",
    "pd.set_option('display.max_rows', len(result))\n",
    "\n",
    "print(result[result>1])\n"
   ]
  },
  {
   "cell_type": "markdown",
   "id": "3e5e6d8d",
   "metadata": {},
   "source": [
    "#### Complete the missing values"
   ]
  },
  {
   "cell_type": "code",
   "execution_count": 14,
   "id": "d186e8e5",
   "metadata": {},
   "outputs": [],
   "source": [
    "from sklearn.impute import SimpleImputer\n",
    "\n",
    "\n",
    "mean_imputer = SimpleImputer(strategy='most_frequent')\n",
    "\n",
    "\n",
    "houses[['MSZoning']] = mean_imputer.fit_transform(houses[['MSZoning']])"
   ]
  },
  {
   "cell_type": "code",
   "execution_count": 15,
   "id": "2ea231bb",
   "metadata": {},
   "outputs": [
    {
     "name": "stderr",
     "output_type": "stream",
     "text": [
      "/Users/pablofranciscomendozavargas/opt/anaconda3/lib/python3.9/site-packages/sklearn/impute/_base.py:49: FutureWarning: Unlike other reduction functions (e.g. `skew`, `kurtosis`), the default behavior of `mode` typically preserves the axis it acts along. In SciPy 1.11.0, this behavior will change: the default value of `keepdims` will become False, the `axis` over which the statistic is taken will be eliminated, and the value None will no longer be accepted. Set `keepdims` to True or False to avoid this warning.\n",
      "  mode = stats.mode(array)\n"
     ]
    }
   ],
   "source": [
    "mean_imputer = SimpleImputer(strategy='most_frequent')\n",
    "houses[['LotFrontage']] = mean_imputer.fit_transform(houses[['LotFrontage']])"
   ]
  },
  {
   "cell_type": "code",
   "execution_count": 16,
   "id": "6285f3de",
   "metadata": {},
   "outputs": [
    {
     "name": "stderr",
     "output_type": "stream",
     "text": [
      "/Users/pablofranciscomendozavargas/opt/anaconda3/lib/python3.9/site-packages/sklearn/impute/_base.py:49: FutureWarning: Unlike other reduction functions (e.g. `skew`, `kurtosis`), the default behavior of `mode` typically preserves the axis it acts along. In SciPy 1.11.0, this behavior will change: the default value of `keepdims` will become False, the `axis` over which the statistic is taken will be eliminated, and the value None will no longer be accepted. Set `keepdims` to True or False to avoid this warning.\n",
      "  mode = stats.mode(array)\n"
     ]
    }
   ],
   "source": [
    "mean_imputer = SimpleImputer(strategy='most_frequent')\n",
    "houses[['LotFrontage']] = mean_imputer.fit_transform(houses[['LotFrontage']])"
   ]
  },
  {
   "cell_type": "code",
   "execution_count": 17,
   "id": "a6ecf35b",
   "metadata": {},
   "outputs": [],
   "source": [
    "mean_imputer = SimpleImputer(strategy='most_frequent')\n",
    "houses[['Alley']] = mean_imputer.fit_transform(houses[['Alley']])"
   ]
  },
  {
   "cell_type": "code",
   "execution_count": 18,
   "id": "a752a363",
   "metadata": {},
   "outputs": [],
   "source": [
    "mean_imputer = SimpleImputer(strategy='most_frequent')\n",
    "houses[['Alley']] = mean_imputer.fit_transform(houses[['Alley']])"
   ]
  },
  {
   "cell_type": "code",
   "execution_count": 19,
   "id": "d393b744",
   "metadata": {},
   "outputs": [],
   "source": [
    "mean_imputer = SimpleImputer(strategy='most_frequent')\n",
    "houses[['Utilities']] = mean_imputer.fit_transform(houses[['Utilities']])"
   ]
  },
  {
   "cell_type": "code",
   "execution_count": 20,
   "id": "7649b4dc",
   "metadata": {},
   "outputs": [],
   "source": [
    "mean_imputer = SimpleImputer(strategy='most_frequent')\n",
    "houses[['MasVnrType']] = mean_imputer.fit_transform(houses[['MasVnrType']])"
   ]
  },
  {
   "cell_type": "code",
   "execution_count": 21,
   "id": "6d052fdf",
   "metadata": {},
   "outputs": [],
   "source": [
    "mean_imputer = SimpleImputer(strategy='mean')\n",
    "houses[['MasVnrArea']] = mean_imputer.fit_transform(houses[['MasVnrArea']])"
   ]
  },
  {
   "cell_type": "code",
   "execution_count": 22,
   "id": "ea7caffc",
   "metadata": {},
   "outputs": [],
   "source": [
    "mean_imputer = SimpleImputer(strategy='most_frequent')\n",
    "houses[['BsmtQual']] = mean_imputer.fit_transform(houses[['BsmtQual']])"
   ]
  },
  {
   "cell_type": "code",
   "execution_count": 23,
   "id": "6f245236",
   "metadata": {},
   "outputs": [],
   "source": [
    "mean_imputer = SimpleImputer(strategy='most_frequent')\n",
    "houses[['BsmtQual']] = mean_imputer.fit_transform(houses[['BsmtQual']])"
   ]
  },
  {
   "cell_type": "code",
   "execution_count": 24,
   "id": "c9fa6e3e",
   "metadata": {},
   "outputs": [],
   "source": [
    "mean_imputer = SimpleImputer(strategy='most_frequent')\n",
    "houses[['BsmtCond']] = mean_imputer.fit_transform(houses[['BsmtCond']])"
   ]
  },
  {
   "cell_type": "code",
   "execution_count": 25,
   "id": "c6e3e3dc",
   "metadata": {},
   "outputs": [],
   "source": [
    "mean_imputer = SimpleImputer(strategy='most_frequent')\n",
    "houses[['BsmtCond']] = mean_imputer.fit_transform(houses[['BsmtCond']])"
   ]
  },
  {
   "cell_type": "code",
   "execution_count": 26,
   "id": "fd1631c1",
   "metadata": {},
   "outputs": [],
   "source": [
    "mean_imputer = SimpleImputer(strategy='most_frequent')\n",
    "houses[['BsmtExposure']] = mean_imputer.fit_transform(houses[['BsmtExposure']])"
   ]
  },
  {
   "cell_type": "code",
   "execution_count": 27,
   "id": "3ec70d61",
   "metadata": {},
   "outputs": [],
   "source": [
    "mean_imputer = SimpleImputer(strategy='most_frequent')\n",
    "houses[['BsmtFinType1']] = mean_imputer.fit_transform(houses[['BsmtFinType1']])"
   ]
  },
  {
   "cell_type": "code",
   "execution_count": 28,
   "id": "746b63cd",
   "metadata": {},
   "outputs": [],
   "source": [
    "mean_imputer = SimpleImputer(strategy='most_frequent')\n",
    "houses[['BsmtFinType2']] = mean_imputer.fit_transform(houses[['BsmtFinType2']])"
   ]
  },
  {
   "cell_type": "code",
   "execution_count": 29,
   "id": "b9f3b329",
   "metadata": {},
   "outputs": [
    {
     "name": "stderr",
     "output_type": "stream",
     "text": [
      "/Users/pablofranciscomendozavargas/opt/anaconda3/lib/python3.9/site-packages/sklearn/impute/_base.py:49: FutureWarning: Unlike other reduction functions (e.g. `skew`, `kurtosis`), the default behavior of `mode` typically preserves the axis it acts along. In SciPy 1.11.0, this behavior will change: the default value of `keepdims` will become False, the `axis` over which the statistic is taken will be eliminated, and the value None will no longer be accepted. Set `keepdims` to True or False to avoid this warning.\n",
      "  mode = stats.mode(array)\n"
     ]
    }
   ],
   "source": [
    "mean_imputer = SimpleImputer(strategy='most_frequent')\n",
    "houses[['BsmtFullBath']] = mean_imputer.fit_transform(houses[['BsmtFullBath']])"
   ]
  },
  {
   "cell_type": "code",
   "execution_count": 30,
   "id": "301d2e00",
   "metadata": {},
   "outputs": [
    {
     "name": "stderr",
     "output_type": "stream",
     "text": [
      "/Users/pablofranciscomendozavargas/opt/anaconda3/lib/python3.9/site-packages/sklearn/impute/_base.py:49: FutureWarning: Unlike other reduction functions (e.g. `skew`, `kurtosis`), the default behavior of `mode` typically preserves the axis it acts along. In SciPy 1.11.0, this behavior will change: the default value of `keepdims` will become False, the `axis` over which the statistic is taken will be eliminated, and the value None will no longer be accepted. Set `keepdims` to True or False to avoid this warning.\n",
      "  mode = stats.mode(array)\n"
     ]
    }
   ],
   "source": [
    "mean_imputer = SimpleImputer(strategy='most_frequent')\n",
    "houses[['BsmtHalfBath']] = mean_imputer.fit_transform(houses[['BsmtHalfBath']])"
   ]
  },
  {
   "cell_type": "code",
   "execution_count": 31,
   "id": "0d4dceb4",
   "metadata": {},
   "outputs": [],
   "source": [
    "mean_imputer = SimpleImputer(strategy='most_frequent')\n",
    "houses[['Functional']] = mean_imputer.fit_transform(houses[['Functional']])"
   ]
  },
  {
   "cell_type": "code",
   "execution_count": 32,
   "id": "163ef80c",
   "metadata": {},
   "outputs": [],
   "source": [
    "mean_imputer = SimpleImputer(strategy='most_frequent')\n",
    "houses[['FireplaceQu']] = mean_imputer.fit_transform(houses[['FireplaceQu']])"
   ]
  },
  {
   "cell_type": "code",
   "execution_count": 33,
   "id": "679b51f2",
   "metadata": {},
   "outputs": [],
   "source": [
    "mean_imputer = SimpleImputer(strategy='most_frequent')\n",
    "houses[['GarageType']] = mean_imputer.fit_transform(houses[['GarageType']])"
   ]
  },
  {
   "cell_type": "code",
   "execution_count": 34,
   "id": "5f51996a",
   "metadata": {},
   "outputs": [
    {
     "name": "stderr",
     "output_type": "stream",
     "text": [
      "/Users/pablofranciscomendozavargas/opt/anaconda3/lib/python3.9/site-packages/sklearn/impute/_base.py:49: FutureWarning: Unlike other reduction functions (e.g. `skew`, `kurtosis`), the default behavior of `mode` typically preserves the axis it acts along. In SciPy 1.11.0, this behavior will change: the default value of `keepdims` will become False, the `axis` over which the statistic is taken will be eliminated, and the value None will no longer be accepted. Set `keepdims` to True or False to avoid this warning.\n",
      "  mode = stats.mode(array)\n"
     ]
    }
   ],
   "source": [
    "mean_imputer = SimpleImputer(strategy='most_frequent')\n",
    "houses[['GarageYrBlt']] = mean_imputer.fit_transform(houses[['GarageYrBlt']])"
   ]
  },
  {
   "cell_type": "code",
   "execution_count": 35,
   "id": "f030f206",
   "metadata": {},
   "outputs": [],
   "source": [
    "mean_imputer = SimpleImputer(strategy='most_frequent')\n",
    "houses[['GarageFinish']] = mean_imputer.fit_transform(houses[['GarageFinish']])"
   ]
  },
  {
   "cell_type": "code",
   "execution_count": 36,
   "id": "fadeeafd",
   "metadata": {},
   "outputs": [],
   "source": [
    "mean_imputer = SimpleImputer(strategy='most_frequent')\n",
    "houses[['GarageQual']] = mean_imputer.fit_transform(houses[['GarageQual']])"
   ]
  },
  {
   "cell_type": "code",
   "execution_count": 37,
   "id": "5705a63d",
   "metadata": {},
   "outputs": [],
   "source": [
    "mean_imputer = SimpleImputer(strategy='most_frequent')\n",
    "houses[['GarageCond']] = mean_imputer.fit_transform(houses[['GarageCond']])"
   ]
  },
  {
   "cell_type": "code",
   "execution_count": 38,
   "id": "d5a2e329",
   "metadata": {},
   "outputs": [],
   "source": [
    "mean_imputer = SimpleImputer(strategy='constant')\n",
    "houses[['PoolQC']] = mean_imputer.fit_transform(houses[['PoolQC']])"
   ]
  },
  {
   "cell_type": "code",
   "execution_count": 39,
   "id": "6dfcb23e",
   "metadata": {},
   "outputs": [],
   "source": [
    "mean_imputer = SimpleImputer(strategy='constant')\n",
    "houses[['Fence']] = mean_imputer.fit_transform(houses[['Fence']])"
   ]
  },
  {
   "cell_type": "code",
   "execution_count": 40,
   "id": "79872a0e",
   "metadata": {},
   "outputs": [],
   "source": [
    "mean_imputer = SimpleImputer(strategy='most_frequent')\n",
    "houses[['MiscFeature']] = mean_imputer.fit_transform(houses[['MiscFeature']])"
   ]
  },
  {
   "cell_type": "code",
   "execution_count": 41,
   "id": "7655d4fc",
   "metadata": {},
   "outputs": [],
   "source": [
    "mean_imputer = SimpleImputer(strategy='most_frequent')\n",
    "houses[['Electrical']] = mean_imputer.fit_transform(houses[['Electrical']])"
   ]
  },
  {
   "cell_type": "code",
   "execution_count": 42,
   "id": "e5858b1b",
   "metadata": {},
   "outputs": [],
   "source": [
    "mean_imputer = SimpleImputer(strategy='most_frequent')\n",
    "houses[['KitchenQual']] = mean_imputer.fit_transform(houses[['KitchenQual']])"
   ]
  },
  {
   "cell_type": "code",
   "execution_count": 43,
   "id": "4d9f82b7",
   "metadata": {},
   "outputs": [
    {
     "name": "stderr",
     "output_type": "stream",
     "text": [
      "/Users/pablofranciscomendozavargas/opt/anaconda3/lib/python3.9/site-packages/sklearn/impute/_base.py:49: FutureWarning: Unlike other reduction functions (e.g. `skew`, `kurtosis`), the default behavior of `mode` typically preserves the axis it acts along. In SciPy 1.11.0, this behavior will change: the default value of `keepdims` will become False, the `axis` over which the statistic is taken will be eliminated, and the value None will no longer be accepted. Set `keepdims` to True or False to avoid this warning.\n",
      "  mode = stats.mode(array)\n"
     ]
    }
   ],
   "source": [
    "mean_imputer = SimpleImputer(strategy='most_frequent')\n",
    "houses[['GarageCars']] = mean_imputer.fit_transform(houses[['GarageCars']])"
   ]
  },
  {
   "cell_type": "code",
   "execution_count": 44,
   "id": "0e613acf",
   "metadata": {},
   "outputs": [],
   "source": [
    "mean_imputer = SimpleImputer(strategy='most_frequent')\n",
    "houses[['SaleType']] = mean_imputer.fit_transform(houses[['SaleType']])"
   ]
  },
  {
   "cell_type": "code",
   "execution_count": 45,
   "id": "9e283d1d",
   "metadata": {},
   "outputs": [
    {
     "name": "stderr",
     "output_type": "stream",
     "text": [
      "/Users/pablofranciscomendozavargas/opt/anaconda3/lib/python3.9/site-packages/sklearn/impute/_base.py:49: FutureWarning: Unlike other reduction functions (e.g. `skew`, `kurtosis`), the default behavior of `mode` typically preserves the axis it acts along. In SciPy 1.11.0, this behavior will change: the default value of `keepdims` will become False, the `axis` over which the statistic is taken will be eliminated, and the value None will no longer be accepted. Set `keepdims` to True or False to avoid this warning.\n",
      "  mode = stats.mode(array)\n"
     ]
    }
   ],
   "source": [
    "mean_imputer = SimpleImputer(strategy='most_frequent')\n",
    "houses[['BsmtFinSF1']] = mean_imputer.fit_transform(houses[['BsmtFinSF1']])"
   ]
  },
  {
   "cell_type": "code",
   "execution_count": 46,
   "id": "5c1eb51c",
   "metadata": {},
   "outputs": [
    {
     "name": "stderr",
     "output_type": "stream",
     "text": [
      "/Users/pablofranciscomendozavargas/opt/anaconda3/lib/python3.9/site-packages/sklearn/impute/_base.py:49: FutureWarning: Unlike other reduction functions (e.g. `skew`, `kurtosis`), the default behavior of `mode` typically preserves the axis it acts along. In SciPy 1.11.0, this behavior will change: the default value of `keepdims` will become False, the `axis` over which the statistic is taken will be eliminated, and the value None will no longer be accepted. Set `keepdims` to True or False to avoid this warning.\n",
      "  mode = stats.mode(array)\n"
     ]
    }
   ],
   "source": [
    "mean_imputer = SimpleImputer(strategy='most_frequent')\n",
    "houses[['BsmtFinSF2']] = mean_imputer.fit_transform(houses[['BsmtFinSF2']])"
   ]
  },
  {
   "cell_type": "code",
   "execution_count": 47,
   "id": "86bba76c",
   "metadata": {},
   "outputs": [
    {
     "name": "stderr",
     "output_type": "stream",
     "text": [
      "/Users/pablofranciscomendozavargas/opt/anaconda3/lib/python3.9/site-packages/sklearn/impute/_base.py:49: FutureWarning: Unlike other reduction functions (e.g. `skew`, `kurtosis`), the default behavior of `mode` typically preserves the axis it acts along. In SciPy 1.11.0, this behavior will change: the default value of `keepdims` will become False, the `axis` over which the statistic is taken will be eliminated, and the value None will no longer be accepted. Set `keepdims` to True or False to avoid this warning.\n",
      "  mode = stats.mode(array)\n"
     ]
    }
   ],
   "source": [
    "mean_imputer = SimpleImputer(strategy='most_frequent')\n",
    "houses[['BsmtUnfSF']] = mean_imputer.fit_transform(houses[['BsmtUnfSF']])"
   ]
  },
  {
   "cell_type": "code",
   "execution_count": 48,
   "id": "15d1872c",
   "metadata": {},
   "outputs": [
    {
     "name": "stderr",
     "output_type": "stream",
     "text": [
      "/Users/pablofranciscomendozavargas/opt/anaconda3/lib/python3.9/site-packages/sklearn/impute/_base.py:49: FutureWarning: Unlike other reduction functions (e.g. `skew`, `kurtosis`), the default behavior of `mode` typically preserves the axis it acts along. In SciPy 1.11.0, this behavior will change: the default value of `keepdims` will become False, the `axis` over which the statistic is taken will be eliminated, and the value None will no longer be accepted. Set `keepdims` to True or False to avoid this warning.\n",
      "  mode = stats.mode(array)\n"
     ]
    }
   ],
   "source": [
    "mean_imputer = SimpleImputer(strategy='most_frequent')\n",
    "houses[['GarageArea']] = mean_imputer.fit_transform(houses[['GarageArea']])"
   ]
  },
  {
   "cell_type": "code",
   "execution_count": null,
   "id": "e43fb50a",
   "metadata": {},
   "outputs": [],
   "source": []
  },
  {
   "cell_type": "code",
   "execution_count": 54,
   "id": "7ef1a10d",
   "metadata": {},
   "outputs": [
    {
     "data": {
      "text/plain": [
       "2919"
      ]
     },
     "execution_count": 54,
     "metadata": {},
     "output_type": "execute_result"
    }
   ],
   "source": [
    "len(houses)"
   ]
  },
  {
   "cell_type": "code",
   "execution_count": 55,
   "id": "c5c9307d",
   "metadata": {},
   "outputs": [
    {
     "data": {
      "text/plain": [
       "1459"
      ]
     },
     "execution_count": 55,
     "metadata": {},
     "output_type": "execute_result"
    }
   ],
   "source": [
    "houses['SalePrice'].isna().sum()"
   ]
  },
  {
   "cell_type": "markdown",
   "id": "54e15ef5",
   "metadata": {},
   "source": [
    "#### Feature Engineering"
   ]
  },
  {
   "cell_type": "code",
   "execution_count": 56,
   "id": "a5931758",
   "metadata": {},
   "outputs": [],
   "source": [
    "houses['TotalArea'] = houses['1stFlrSF'] + houses['2ndFlrSF'] + houses['TotalBsmtSF']"
   ]
  },
  {
   "cell_type": "code",
   "execution_count": 57,
   "id": "9ef6a1b6",
   "metadata": {},
   "outputs": [],
   "source": [
    "houses['GardenArea'] = houses['LotArea'] - houses['1stFlrSF']"
   ]
  },
  {
   "cell_type": "code",
   "execution_count": 58,
   "id": "76901571",
   "metadata": {},
   "outputs": [],
   "source": [
    "houses['TotalBath'] = houses['FullBath'] + houses['HalfBath']"
   ]
  },
  {
   "cell_type": "code",
   "execution_count": 59,
   "id": "800d1fe7",
   "metadata": {},
   "outputs": [],
   "source": [
    "houses.drop(['1stFlrSF', '2ndFlrSF', 'TotalBsmtSF', 'LotArea', 'FullBath', 'HalfBath'], axis=1, inplace=True)"
   ]
  },
  {
   "cell_type": "code",
   "execution_count": null,
   "id": "adfab5b5",
   "metadata": {},
   "outputs": [],
   "source": []
  },
  {
   "cell_type": "code",
   "execution_count": null,
   "id": "72a40554",
   "metadata": {},
   "outputs": [],
   "source": []
  },
  {
   "cell_type": "code",
   "execution_count": null,
   "id": "8ec3809b",
   "metadata": {},
   "outputs": [],
   "source": []
  },
  {
   "cell_type": "markdown",
   "id": "f21b3476",
   "metadata": {},
   "source": [
    "#### One Hot Encoding"
   ]
  },
  {
   "cell_type": "code",
   "execution_count": 61,
   "id": "cb0fe26d",
   "metadata": {},
   "outputs": [
    {
     "data": {
      "text/plain": [
       "(2919, 79)"
      ]
     },
     "execution_count": 61,
     "metadata": {},
     "output_type": "execute_result"
    }
   ],
   "source": [
    "houses.shape"
   ]
  },
  {
   "cell_type": "code",
   "execution_count": 62,
   "id": "30333b54",
   "metadata": {},
   "outputs": [],
   "source": [
    "ohe = pd.get_dummies(houses['LotShape'], prefix='LotShape')\n",
    "houses = pd.concat([houses,ohe], axis=1)"
   ]
  },
  {
   "cell_type": "code",
   "execution_count": 63,
   "id": "4054a12b",
   "metadata": {},
   "outputs": [],
   "source": [
    "houses.drop('LotShape', axis=1, inplace=True)"
   ]
  },
  {
   "cell_type": "code",
   "execution_count": 64,
   "id": "f96d7d10",
   "metadata": {},
   "outputs": [],
   "source": [
    "ohe = pd.get_dummies(houses['LandContour'], prefix='LandContour')\n",
    "houses = pd.concat([houses,ohe], axis=1)"
   ]
  },
  {
   "cell_type": "code",
   "execution_count": 65,
   "id": "cc0af14a",
   "metadata": {},
   "outputs": [],
   "source": [
    "houses.drop('LandContour', axis=1, inplace=True)"
   ]
  },
  {
   "cell_type": "code",
   "execution_count": 66,
   "id": "f27ef03a",
   "metadata": {},
   "outputs": [],
   "source": [
    "ohe = pd.get_dummies(houses['LotConfig'], prefix='LotConfig')\n",
    "houses = pd.concat([houses,ohe], axis=1)"
   ]
  },
  {
   "cell_type": "code",
   "execution_count": 67,
   "id": "0f300ad2",
   "metadata": {},
   "outputs": [],
   "source": [
    "houses.drop('LotConfig', axis=1, inplace=True)"
   ]
  },
  {
   "cell_type": "code",
   "execution_count": 68,
   "id": "eca799ab",
   "metadata": {},
   "outputs": [],
   "source": [
    "ohe = pd.get_dummies(houses['LandSlope'], prefix='LandSlope')\n",
    "houses = pd.concat([houses,ohe], axis=1)"
   ]
  },
  {
   "cell_type": "code",
   "execution_count": 69,
   "id": "183ef45a",
   "metadata": {},
   "outputs": [],
   "source": [
    "houses.drop('LandSlope', axis=1, inplace=True)"
   ]
  },
  {
   "cell_type": "code",
   "execution_count": 70,
   "id": "daf38ce4",
   "metadata": {},
   "outputs": [],
   "source": [
    "ohe = pd.get_dummies(houses['Neighborhood'], prefix='Neighborhood')\n",
    "houses = pd.concat([houses,ohe], axis=1)"
   ]
  },
  {
   "cell_type": "code",
   "execution_count": 71,
   "id": "d8ec4415",
   "metadata": {},
   "outputs": [],
   "source": [
    "houses.drop('Neighborhood', axis=1, inplace=True)"
   ]
  },
  {
   "cell_type": "code",
   "execution_count": 72,
   "id": "3c548894",
   "metadata": {},
   "outputs": [],
   "source": [
    "ohe = pd.get_dummies(houses['Condition1'], prefix='Condition1')\n",
    "houses = pd.concat([houses,ohe], axis=1)"
   ]
  },
  {
   "cell_type": "code",
   "execution_count": 73,
   "id": "47c3514e",
   "metadata": {},
   "outputs": [],
   "source": [
    "houses.drop('Condition1', axis=1, inplace=True)"
   ]
  },
  {
   "cell_type": "code",
   "execution_count": 74,
   "id": "340b19ef",
   "metadata": {},
   "outputs": [],
   "source": [
    "ohe = pd.get_dummies(houses['Condition2'], prefix='Condition2')\n",
    "houses = pd.concat([houses,ohe], axis=1)"
   ]
  },
  {
   "cell_type": "code",
   "execution_count": 75,
   "id": "9aea3050",
   "metadata": {},
   "outputs": [],
   "source": [
    "houses.drop('Condition2', axis=1, inplace=True)"
   ]
  },
  {
   "cell_type": "code",
   "execution_count": 76,
   "id": "fb7e5cd0",
   "metadata": {},
   "outputs": [],
   "source": [
    "ohe = pd.get_dummies(houses['BldgType'], prefix='BldgType')\n",
    "houses = pd.concat([houses,ohe], axis=1)"
   ]
  },
  {
   "cell_type": "code",
   "execution_count": 77,
   "id": "43e4f8ef",
   "metadata": {},
   "outputs": [],
   "source": [
    "houses.drop('BldgType', axis=1, inplace=True)"
   ]
  },
  {
   "cell_type": "code",
   "execution_count": 78,
   "id": "8234e93e",
   "metadata": {},
   "outputs": [],
   "source": [
    "ohe = pd.get_dummies(houses['HouseStyle'], prefix='HouseStyle')\n",
    "houses = pd.concat([houses,ohe], axis=1)"
   ]
  },
  {
   "cell_type": "code",
   "execution_count": 79,
   "id": "d578f7bf",
   "metadata": {},
   "outputs": [],
   "source": [
    "houses.drop('HouseStyle', axis=1, inplace=True)"
   ]
  },
  {
   "cell_type": "code",
   "execution_count": 80,
   "id": "21da4725",
   "metadata": {},
   "outputs": [],
   "source": [
    "ohe = pd.get_dummies(houses['RoofStyle'], prefix='RoofStyle')\n",
    "houses = pd.concat([houses,ohe], axis=1)"
   ]
  },
  {
   "cell_type": "code",
   "execution_count": 81,
   "id": "0b74ca1b",
   "metadata": {},
   "outputs": [],
   "source": [
    "houses.drop('RoofStyle', axis=1, inplace=True)"
   ]
  },
  {
   "cell_type": "code",
   "execution_count": 82,
   "id": "7d1bfdc2",
   "metadata": {},
   "outputs": [],
   "source": [
    "ohe = pd.get_dummies(houses['RoofMatl'], prefix='RoofMatl')\n",
    "houses = pd.concat([houses,ohe], axis=1)"
   ]
  },
  {
   "cell_type": "code",
   "execution_count": 83,
   "id": "ae2c8f18",
   "metadata": {},
   "outputs": [],
   "source": [
    "houses.drop('RoofMatl', axis=1, inplace=True)"
   ]
  },
  {
   "cell_type": "code",
   "execution_count": 84,
   "id": "32bd239c",
   "metadata": {},
   "outputs": [],
   "source": [
    "ohe = pd.get_dummies(houses['Foundation'], prefix='Foundation')\n",
    "houses = pd.concat([houses,ohe], axis=1)"
   ]
  },
  {
   "cell_type": "code",
   "execution_count": 85,
   "id": "ab10d09e",
   "metadata": {},
   "outputs": [],
   "source": [
    "houses.drop('Foundation', axis=1, inplace=True)"
   ]
  },
  {
   "cell_type": "code",
   "execution_count": 86,
   "id": "a77937d5",
   "metadata": {},
   "outputs": [],
   "source": [
    "ohe = pd.get_dummies(houses['Heating'], prefix='Heating')\n",
    "houses = pd.concat([houses,ohe], axis=1)"
   ]
  },
  {
   "cell_type": "code",
   "execution_count": 87,
   "id": "72ca199a",
   "metadata": {},
   "outputs": [],
   "source": [
    "houses.drop('Heating', axis=1, inplace=True)"
   ]
  },
  {
   "cell_type": "code",
   "execution_count": 88,
   "id": "81b7bbca",
   "metadata": {},
   "outputs": [],
   "source": [
    "ohe = pd.get_dummies(houses['PavedDrive'], prefix='PavedDrive')\n",
    "houses = pd.concat([houses,ohe], axis=1)"
   ]
  },
  {
   "cell_type": "code",
   "execution_count": 89,
   "id": "39332e1c",
   "metadata": {},
   "outputs": [],
   "source": [
    "houses.drop('PavedDrive', axis=1, inplace=True)"
   ]
  },
  {
   "cell_type": "code",
   "execution_count": 90,
   "id": "ed1dd623",
   "metadata": {},
   "outputs": [],
   "source": [
    "ohe = pd.get_dummies(houses['MSZoning'], prefix='MSZoning')\n",
    "houses = pd.concat([houses,ohe], axis=1)"
   ]
  },
  {
   "cell_type": "code",
   "execution_count": 91,
   "id": "9c95df2d",
   "metadata": {},
   "outputs": [],
   "source": [
    "houses.drop('MSZoning', axis=1, inplace=True)"
   ]
  },
  {
   "cell_type": "code",
   "execution_count": 92,
   "id": "328017aa",
   "metadata": {},
   "outputs": [],
   "source": [
    "ohe = pd.get_dummies(houses['Alley'], prefix='Alley')\n",
    "houses = pd.concat([houses,ohe], axis=1)"
   ]
  },
  {
   "cell_type": "code",
   "execution_count": 93,
   "id": "b6c10290",
   "metadata": {},
   "outputs": [],
   "source": [
    "houses.drop('Alley', axis=1, inplace=True)"
   ]
  },
  {
   "cell_type": "code",
   "execution_count": 94,
   "id": "a15a6921",
   "metadata": {},
   "outputs": [],
   "source": [
    "ohe = pd.get_dummies(houses['Exterior1st'], prefix='Exterior1st')\n",
    "houses = pd.concat([houses,ohe], axis=1)"
   ]
  },
  {
   "cell_type": "code",
   "execution_count": 95,
   "id": "7902d37c",
   "metadata": {},
   "outputs": [],
   "source": [
    "houses.drop('Exterior1st', axis=1, inplace=True)"
   ]
  },
  {
   "cell_type": "code",
   "execution_count": 96,
   "id": "75d0e2ee",
   "metadata": {},
   "outputs": [],
   "source": [
    "ohe = pd.get_dummies(houses['Exterior2nd'], prefix='Exterior2nd')\n",
    "houses = pd.concat([houses,ohe], axis=1)"
   ]
  },
  {
   "cell_type": "code",
   "execution_count": 97,
   "id": "a6404605",
   "metadata": {},
   "outputs": [],
   "source": [
    "houses.drop('Exterior2nd', axis=1, inplace=True)"
   ]
  },
  {
   "cell_type": "code",
   "execution_count": 98,
   "id": "fdef7e18",
   "metadata": {},
   "outputs": [],
   "source": [
    "ohe = pd.get_dummies(houses['MasVnrType'], prefix='MasVnrType')\n",
    "houses = pd.concat([houses,ohe], axis=1)"
   ]
  },
  {
   "cell_type": "code",
   "execution_count": 99,
   "id": "e96638af",
   "metadata": {},
   "outputs": [],
   "source": [
    "houses.drop('MasVnrType', axis=1, inplace=True)"
   ]
  },
  {
   "cell_type": "code",
   "execution_count": 100,
   "id": "306f87a7",
   "metadata": {},
   "outputs": [],
   "source": [
    "ohe = pd.get_dummies(houses['BsmtQual'], prefix='BsmtQual')\n",
    "houses = pd.concat([houses,ohe], axis=1)"
   ]
  },
  {
   "cell_type": "code",
   "execution_count": 101,
   "id": "45966fe6",
   "metadata": {},
   "outputs": [],
   "source": [
    "houses.drop('BsmtQual', axis=1, inplace=True)"
   ]
  },
  {
   "cell_type": "code",
   "execution_count": 102,
   "id": "f2e16be4",
   "metadata": {},
   "outputs": [],
   "source": [
    "ohe = pd.get_dummies(houses['BsmtCond'], prefix='BsmtCond')\n",
    "houses = pd.concat([houses,ohe], axis=1)"
   ]
  },
  {
   "cell_type": "code",
   "execution_count": 103,
   "id": "a928e134",
   "metadata": {},
   "outputs": [],
   "source": [
    "houses.drop('BsmtCond', axis=1, inplace=True)"
   ]
  },
  {
   "cell_type": "code",
   "execution_count": 104,
   "id": "e8aacfdd",
   "metadata": {},
   "outputs": [],
   "source": [
    "ohe = pd.get_dummies(houses['BsmtExposure'], prefix='BsmtExposure')\n",
    "houses = pd.concat([houses,ohe], axis=1)"
   ]
  },
  {
   "cell_type": "code",
   "execution_count": 105,
   "id": "ce19e76a",
   "metadata": {},
   "outputs": [],
   "source": [
    "houses.drop('BsmtExposure', axis=1, inplace=True)"
   ]
  },
  {
   "cell_type": "code",
   "execution_count": 106,
   "id": "f38dfbb0",
   "metadata": {},
   "outputs": [],
   "source": [
    "ohe = pd.get_dummies(houses['BsmtFinType1'], prefix='BsmtFinType1')\n",
    "houses = pd.concat([houses,ohe], axis=1)"
   ]
  },
  {
   "cell_type": "code",
   "execution_count": 107,
   "id": "dc2e5402",
   "metadata": {},
   "outputs": [],
   "source": [
    "houses.drop('BsmtFinType1', axis=1, inplace=True)"
   ]
  },
  {
   "cell_type": "code",
   "execution_count": 108,
   "id": "41a85c70",
   "metadata": {},
   "outputs": [],
   "source": [
    "ohe = pd.get_dummies(houses['BsmtFinType2'], prefix='BsmtFinType2')\n",
    "houses = pd.concat([houses,ohe], axis=1)"
   ]
  },
  {
   "cell_type": "code",
   "execution_count": 109,
   "id": "9c70fa90",
   "metadata": {},
   "outputs": [],
   "source": [
    "houses.drop('BsmtFinType2', axis=1, inplace=True)"
   ]
  },
  {
   "cell_type": "code",
   "execution_count": 110,
   "id": "6d3b4f75",
   "metadata": {},
   "outputs": [],
   "source": [
    "ohe = pd.get_dummies(houses['Electrical'], prefix='Electrical')\n",
    "houses = pd.concat([houses,ohe], axis=1)"
   ]
  },
  {
   "cell_type": "code",
   "execution_count": 111,
   "id": "9ed2fe5f",
   "metadata": {},
   "outputs": [],
   "source": [
    "houses.drop('Electrical', axis=1, inplace=True)"
   ]
  },
  {
   "cell_type": "code",
   "execution_count": 112,
   "id": "b78288aa",
   "metadata": {},
   "outputs": [],
   "source": [
    "ohe = pd.get_dummies(houses['KitchenQual'], prefix='KitchenQual')\n",
    "houses = pd.concat([houses,ohe], axis=1)"
   ]
  },
  {
   "cell_type": "code",
   "execution_count": 113,
   "id": "bdd6d43b",
   "metadata": {},
   "outputs": [],
   "source": [
    "houses.drop('KitchenQual', axis=1, inplace=True)"
   ]
  },
  {
   "cell_type": "code",
   "execution_count": 114,
   "id": "69d0e61a",
   "metadata": {},
   "outputs": [],
   "source": [
    "ohe = pd.get_dummies(houses['Functional'], prefix='Functional')\n",
    "houses = pd.concat([houses,ohe], axis=1)"
   ]
  },
  {
   "cell_type": "code",
   "execution_count": 115,
   "id": "8881831f",
   "metadata": {},
   "outputs": [],
   "source": [
    "houses.drop('Functional', axis=1, inplace=True)"
   ]
  },
  {
   "cell_type": "code",
   "execution_count": 116,
   "id": "f1b6e121",
   "metadata": {},
   "outputs": [],
   "source": [
    "ohe = pd.get_dummies(houses['FireplaceQu'], prefix='FireplaceQu')\n",
    "houses = pd.concat([houses,ohe], axis=1)"
   ]
  },
  {
   "cell_type": "code",
   "execution_count": 117,
   "id": "436b6bfe",
   "metadata": {},
   "outputs": [],
   "source": [
    "houses.drop('FireplaceQu', axis=1, inplace=True)"
   ]
  },
  {
   "cell_type": "code",
   "execution_count": 118,
   "id": "f1fbc87a",
   "metadata": {},
   "outputs": [],
   "source": [
    "ohe = pd.get_dummies(houses['GarageType'], prefix='GarageType')\n",
    "houses = pd.concat([houses,ohe], axis=1)"
   ]
  },
  {
   "cell_type": "code",
   "execution_count": 119,
   "id": "1427523b",
   "metadata": {},
   "outputs": [],
   "source": [
    "houses.drop('GarageType', axis=1, inplace=True)"
   ]
  },
  {
   "cell_type": "code",
   "execution_count": 120,
   "id": "2f7cc4da",
   "metadata": {},
   "outputs": [],
   "source": [
    "ohe = pd.get_dummies(houses['GarageFinish'], prefix='GarageFinish')\n",
    "houses = pd.concat([houses,ohe], axis=1)"
   ]
  },
  {
   "cell_type": "code",
   "execution_count": 121,
   "id": "e216dac1",
   "metadata": {},
   "outputs": [],
   "source": [
    "houses.drop('GarageFinish', axis=1, inplace=True)"
   ]
  },
  {
   "cell_type": "code",
   "execution_count": 122,
   "id": "db224565",
   "metadata": {},
   "outputs": [],
   "source": [
    "ohe = pd.get_dummies(houses['GarageQual'], prefix='GarageQual')\n",
    "houses = pd.concat([houses,ohe], axis=1)"
   ]
  },
  {
   "cell_type": "code",
   "execution_count": 123,
   "id": "677204ed",
   "metadata": {},
   "outputs": [],
   "source": [
    "houses.drop('GarageQual', axis=1, inplace=True)"
   ]
  },
  {
   "cell_type": "code",
   "execution_count": 124,
   "id": "ed9d8ab5",
   "metadata": {},
   "outputs": [],
   "source": [
    "ohe = pd.get_dummies(houses['MiscFeature'], prefix='MiscFeature')\n",
    "houses = pd.concat([houses,ohe], axis=1)"
   ]
  },
  {
   "cell_type": "code",
   "execution_count": 125,
   "id": "27ed2e0b",
   "metadata": {},
   "outputs": [],
   "source": [
    "houses.drop('MiscFeature', axis=1, inplace=True)"
   ]
  },
  {
   "cell_type": "code",
   "execution_count": 126,
   "id": "c70154d0",
   "metadata": {},
   "outputs": [],
   "source": [
    "ohe = pd.get_dummies(houses['SaleCondition'], prefix='SaleCondition')\n",
    "houses = pd.concat([houses,ohe], axis=1)"
   ]
  },
  {
   "cell_type": "code",
   "execution_count": 127,
   "id": "8d7e3f8b",
   "metadata": {},
   "outputs": [],
   "source": [
    "houses.drop('SaleCondition', axis=1, inplace=True)"
   ]
  },
  {
   "cell_type": "code",
   "execution_count": 128,
   "id": "8ddbb1ab",
   "metadata": {},
   "outputs": [],
   "source": [
    "ohe = pd.get_dummies(houses['GarageCond'], prefix='GarageCond')\n",
    "houses = pd.concat([houses,ohe], axis=1)"
   ]
  },
  {
   "cell_type": "code",
   "execution_count": 129,
   "id": "2d4f376f",
   "metadata": {},
   "outputs": [],
   "source": [
    "houses.drop('GarageCond', axis=1, inplace=True)"
   ]
  },
  {
   "cell_type": "code",
   "execution_count": 130,
   "id": "a29ee088",
   "metadata": {},
   "outputs": [],
   "source": [
    "ohe = pd.get_dummies(houses['PoolQC'], prefix='PoolQC')\n",
    "houses = pd.concat([houses,ohe], axis=1)"
   ]
  },
  {
   "cell_type": "code",
   "execution_count": 131,
   "id": "b7ebd5ac",
   "metadata": {},
   "outputs": [],
   "source": [
    "houses.drop('PoolQC', axis=1, inplace=True)"
   ]
  },
  {
   "cell_type": "code",
   "execution_count": 132,
   "id": "ee695048",
   "metadata": {},
   "outputs": [],
   "source": [
    "ohe = pd.get_dummies(houses['Fence'], prefix='Fence')\n",
    "houses = pd.concat([houses,ohe], axis=1)"
   ]
  },
  {
   "cell_type": "code",
   "execution_count": 133,
   "id": "1ab9f0ff",
   "metadata": {},
   "outputs": [],
   "source": [
    "houses.drop('Fence', axis=1, inplace=True)"
   ]
  },
  {
   "cell_type": "code",
   "execution_count": 134,
   "id": "47b35986",
   "metadata": {},
   "outputs": [],
   "source": [
    "ohe = pd.get_dummies(houses['SaleType'], prefix='SaleType')\n",
    "houses = pd.concat([houses,ohe], axis=1)"
   ]
  },
  {
   "cell_type": "code",
   "execution_count": 135,
   "id": "7d2bf606",
   "metadata": {},
   "outputs": [],
   "source": [
    "houses.drop('SaleType', axis=1, inplace=True)"
   ]
  },
  {
   "cell_type": "code",
   "execution_count": null,
   "id": "b8159767",
   "metadata": {},
   "outputs": [],
   "source": []
  },
  {
   "cell_type": "code",
   "execution_count": null,
   "id": "ad965d9c",
   "metadata": {},
   "outputs": [],
   "source": []
  },
  {
   "cell_type": "code",
   "execution_count": null,
   "id": "a895a0b1",
   "metadata": {},
   "outputs": [],
   "source": []
  },
  {
   "cell_type": "markdown",
   "id": "e7aacc56",
   "metadata": {},
   "source": [
    "#### Label Encoding"
   ]
  },
  {
   "cell_type": "code",
   "execution_count": 136,
   "id": "9e957aa5",
   "metadata": {},
   "outputs": [
    {
     "data": {
      "text/plain": [
       "array([1, 0])"
      ]
     },
     "execution_count": 136,
     "metadata": {},
     "output_type": "execute_result"
    }
   ],
   "source": [
    "le = LabelEncoder()\n",
    "houses['CentralAir'] = le.fit_transform(houses['CentralAir'])\n",
    "houses['CentralAir'].unique()"
   ]
  },
  {
   "cell_type": "code",
   "execution_count": 137,
   "id": "87d6aa71",
   "metadata": {},
   "outputs": [
    {
     "data": {
      "text/plain": [
       "array([1, 0])"
      ]
     },
     "execution_count": 137,
     "metadata": {},
     "output_type": "execute_result"
    }
   ],
   "source": [
    "le = LabelEncoder()\n",
    "houses['Street'] = le.fit_transform(houses['Street'])\n",
    "houses['Street'].unique()"
   ]
  },
  {
   "cell_type": "code",
   "execution_count": 138,
   "id": "f88b7446",
   "metadata": {},
   "outputs": [
    {
     "data": {
      "text/plain": [
       "array([0, 1])"
      ]
     },
     "execution_count": 138,
     "metadata": {},
     "output_type": "execute_result"
    }
   ],
   "source": [
    "le = LabelEncoder()\n",
    "houses['Utilities'] = le.fit_transform(houses['Utilities'])\n",
    "houses['Utilities'].unique()"
   ]
  },
  {
   "cell_type": "code",
   "execution_count": 139,
   "id": "7148a82d",
   "metadata": {},
   "outputs": [],
   "source": [
    "mapping = {'Ex': 5, 'Gd': 4, 'TA': 3, 'Fa': 2, 'Po':1}"
   ]
  },
  {
   "cell_type": "code",
   "execution_count": 140,
   "id": "e24750d6",
   "metadata": {},
   "outputs": [],
   "source": [
    "houses['ExterQual'] = houses['ExterQual'].replace(mapping)"
   ]
  },
  {
   "cell_type": "code",
   "execution_count": 141,
   "id": "6fc2a4d4",
   "metadata": {},
   "outputs": [],
   "source": [
    "houses['ExterCond'] = houses['ExterCond'].replace(mapping)"
   ]
  },
  {
   "cell_type": "code",
   "execution_count": 142,
   "id": "9bb1de7d",
   "metadata": {},
   "outputs": [],
   "source": [
    "houses['HeatingQC'] = houses['HeatingQC'].replace(mapping)"
   ]
  },
  {
   "cell_type": "code",
   "execution_count": 143,
   "id": "57a179f4",
   "metadata": {},
   "outputs": [
    {
     "data": {
      "text/plain": [
       "(2919, 276)"
      ]
     },
     "execution_count": 143,
     "metadata": {},
     "output_type": "execute_result"
    }
   ],
   "source": [
    "houses.shape"
   ]
  },
  {
   "cell_type": "code",
   "execution_count": null,
   "id": "33169ebe",
   "metadata": {},
   "outputs": [],
   "source": []
  },
  {
   "cell_type": "code",
   "execution_count": null,
   "id": "9fbaf847",
   "metadata": {},
   "outputs": [],
   "source": []
  },
  {
   "cell_type": "markdown",
   "id": "777c54f8",
   "metadata": {},
   "source": [
    "#### Convert Dates"
   ]
  },
  {
   "cell_type": "code",
   "execution_count": 144,
   "id": "b720637e",
   "metadata": {},
   "outputs": [],
   "source": [
    "houses['GarageYrBlt'] = pd.to_datetime(houses['GarageYrBlt'], format='%Y', errors='coerce')"
   ]
  },
  {
   "cell_type": "code",
   "execution_count": 145,
   "id": "eaeb2930",
   "metadata": {},
   "outputs": [
    {
     "data": {
      "text/plain": [
       "0   2003-01-01\n",
       "1   1976-01-01\n",
       "2   2001-01-01\n",
       "3   1998-01-01\n",
       "4   2000-01-01\n",
       "Name: GarageYrBlt, dtype: datetime64[ns]"
      ]
     },
     "execution_count": 145,
     "metadata": {},
     "output_type": "execute_result"
    }
   ],
   "source": [
    "houses['GarageYrBlt'].head()"
   ]
  },
  {
   "cell_type": "code",
   "execution_count": 146,
   "id": "32ec2de0",
   "metadata": {},
   "outputs": [],
   "source": [
    "houses['GarageYrBlt'] = houses['GarageYrBlt'].dt.year"
   ]
  },
  {
   "cell_type": "code",
   "execution_count": 147,
   "id": "78140aee",
   "metadata": {},
   "outputs": [
    {
     "data": {
      "text/plain": [
       "0    2003\n",
       "Name: GarageYrBlt, dtype: int64"
      ]
     },
     "execution_count": 147,
     "metadata": {},
     "output_type": "execute_result"
    }
   ],
   "source": [
    "houses['GarageYrBlt'].head(1)"
   ]
  },
  {
   "cell_type": "markdown",
   "id": "a56bf797",
   "metadata": {},
   "source": [
    "#### Select Columns"
   ]
  },
  {
   "cell_type": "code",
   "execution_count": 66,
   "id": "3e8b5887",
   "metadata": {},
   "outputs": [],
   "source": [
    "correct_columns = ['Street','TotalArea','GardenArea','TotalBath','LowQualFinSF','GrLivArea','BedroomAbvGr','KitchenAbvGr','TotRmsAbvGrd','Fireplaces','GarageArea','WoodDeckSF','OpenPorchSF']"
   ]
  },
  {
   "cell_type": "code",
   "execution_count": 67,
   "id": "da46a2ef",
   "metadata": {},
   "outputs": [],
   "source": [
    "columns = []"
   ]
  },
  {
   "cell_type": "code",
   "execution_count": 68,
   "id": "74a09bbf",
   "metadata": {},
   "outputs": [],
   "source": [
    "columns += correct_columns"
   ]
  },
  {
   "cell_type": "code",
   "execution_count": 69,
   "id": "584d583b",
   "metadata": {},
   "outputs": [
    {
     "data": {
      "text/plain": [
       "['Street',\n",
       " 'TotalArea',\n",
       " 'GardenArea',\n",
       " 'TotalBath',\n",
       " 'LowQualFinSF',\n",
       " 'GrLivArea',\n",
       " 'BedroomAbvGr',\n",
       " 'KitchenAbvGr',\n",
       " 'TotRmsAbvGrd',\n",
       " 'Fireplaces',\n",
       " 'GarageArea',\n",
       " 'WoodDeckSF',\n",
       " 'OpenPorchSF']"
      ]
     },
     "execution_count": 69,
     "metadata": {},
     "output_type": "execute_result"
    }
   ],
   "source": [
    "columns"
   ]
  },
  {
   "cell_type": "code",
   "execution_count": 70,
   "id": "5d7154bf",
   "metadata": {},
   "outputs": [],
   "source": [
    "x = ([col for col in houses.columns if 'LotShape' in col])\n",
    "columns += x"
   ]
  },
  {
   "cell_type": "code",
   "execution_count": 71,
   "id": "a1f40628",
   "metadata": {},
   "outputs": [],
   "source": [
    "x = ([col for col in houses.columns if 'LandContour' in col])\n",
    "columns += x"
   ]
  },
  {
   "cell_type": "code",
   "execution_count": 72,
   "id": "595b9232",
   "metadata": {},
   "outputs": [],
   "source": [
    "x = ([col for col in houses.columns if 'LotConfig' in col])\n",
    "columns += x"
   ]
  },
  {
   "cell_type": "code",
   "execution_count": 73,
   "id": "18d388f1",
   "metadata": {},
   "outputs": [],
   "source": [
    "x = ([col for col in houses.columns if 'LandSlope' in col])\n",
    "columns += x"
   ]
  },
  {
   "cell_type": "code",
   "execution_count": 74,
   "id": "22e5f9f9",
   "metadata": {},
   "outputs": [],
   "source": [
    "x = ([col for col in houses.columns if 'Neighborhood' in col])\n",
    "columns += x"
   ]
  },
  {
   "cell_type": "code",
   "execution_count": 75,
   "id": "3a87631a",
   "metadata": {},
   "outputs": [],
   "source": [
    "x = ([col for col in houses.columns if 'Condition1' in col])\n",
    "columns += x"
   ]
  },
  {
   "cell_type": "code",
   "execution_count": 76,
   "id": "637d090f",
   "metadata": {},
   "outputs": [],
   "source": [
    "x = ([col for col in houses.columns if 'Condition2' in col])\n",
    "columns += x"
   ]
  },
  {
   "cell_type": "code",
   "execution_count": 77,
   "id": "8a8e1b0a",
   "metadata": {},
   "outputs": [],
   "source": [
    "x = ([col for col in houses.columns if 'BldgType' in col])\n",
    "columns += x"
   ]
  },
  {
   "cell_type": "code",
   "execution_count": 78,
   "id": "254ce29f",
   "metadata": {},
   "outputs": [],
   "source": [
    "x = ([col for col in houses.columns if 'HouseStyle' in col])\n",
    "columns += x"
   ]
  },
  {
   "cell_type": "code",
   "execution_count": 79,
   "id": "6982ba48",
   "metadata": {},
   "outputs": [],
   "source": [
    "x = ([col for col in houses.columns if 'RoofStyle' in col])\n",
    "columns += x"
   ]
  },
  {
   "cell_type": "code",
   "execution_count": 80,
   "id": "8459650a",
   "metadata": {},
   "outputs": [],
   "source": [
    "x = ([col for col in houses.columns if 'RoofMatl' in col])\n",
    "columns += x"
   ]
  },
  {
   "cell_type": "code",
   "execution_count": 81,
   "id": "fdef655c",
   "metadata": {},
   "outputs": [],
   "source": [
    "x = ([col for col in houses.columns if 'Foundation' in col])\n",
    "columns += x"
   ]
  },
  {
   "cell_type": "code",
   "execution_count": 82,
   "id": "a15f62a4",
   "metadata": {},
   "outputs": [],
   "source": [
    "x = ([col for col in houses.columns if 'Heating' in col])\n",
    "columns += x"
   ]
  },
  {
   "cell_type": "code",
   "execution_count": 83,
   "id": "3370b6cb",
   "metadata": {},
   "outputs": [],
   "source": [
    "x = ([col for col in houses.columns if 'PavedDrive' in col])\n",
    "columns += x"
   ]
  },
  {
   "cell_type": "code",
   "execution_count": null,
   "id": "bffcd5a3",
   "metadata": {},
   "outputs": [],
   "source": []
  },
  {
   "cell_type": "code",
   "execution_count": null,
   "id": "39b7cd6a",
   "metadata": {},
   "outputs": [],
   "source": []
  },
  {
   "cell_type": "code",
   "execution_count": null,
   "id": "8417a1e6",
   "metadata": {},
   "outputs": [],
   "source": []
  },
  {
   "cell_type": "code",
   "execution_count": null,
   "id": "0cf44ab3",
   "metadata": {},
   "outputs": [],
   "source": []
  },
  {
   "cell_type": "code",
   "execution_count": null,
   "id": "61f62199",
   "metadata": {},
   "outputs": [],
   "source": []
  },
  {
   "cell_type": "code",
   "execution_count": 84,
   "id": "d1250a47",
   "metadata": {},
   "outputs": [
    {
     "data": {
      "text/plain": [
       "['Street',\n",
       " 'TotalArea',\n",
       " 'GardenArea',\n",
       " 'TotalBath',\n",
       " 'LowQualFinSF',\n",
       " 'GrLivArea',\n",
       " 'BedroomAbvGr',\n",
       " 'KitchenAbvGr',\n",
       " 'TotRmsAbvGrd',\n",
       " 'Fireplaces',\n",
       " 'GarageArea',\n",
       " 'WoodDeckSF',\n",
       " 'OpenPorchSF',\n",
       " 'LotShape_IR1',\n",
       " 'LotShape_IR2',\n",
       " 'LotShape_IR3',\n",
       " 'LotShape_Reg',\n",
       " 'LandContour_Bnk',\n",
       " 'LandContour_HLS',\n",
       " 'LandContour_Low',\n",
       " 'LandContour_Lvl',\n",
       " 'LotConfig_Corner',\n",
       " 'LotConfig_CulDSac',\n",
       " 'LotConfig_FR2',\n",
       " 'LotConfig_FR3',\n",
       " 'LotConfig_Inside',\n",
       " 'LandSlope_Gtl',\n",
       " 'LandSlope_Mod',\n",
       " 'LandSlope_Sev',\n",
       " 'Neighborhood_Blmngtn',\n",
       " 'Neighborhood_Blueste',\n",
       " 'Neighborhood_BrDale',\n",
       " 'Neighborhood_BrkSide',\n",
       " 'Neighborhood_ClearCr',\n",
       " 'Neighborhood_CollgCr',\n",
       " 'Neighborhood_Crawfor',\n",
       " 'Neighborhood_Edwards',\n",
       " 'Neighborhood_Gilbert',\n",
       " 'Neighborhood_IDOTRR',\n",
       " 'Neighborhood_MeadowV',\n",
       " 'Neighborhood_Mitchel',\n",
       " 'Neighborhood_NAmes',\n",
       " 'Neighborhood_NPkVill',\n",
       " 'Neighborhood_NWAmes',\n",
       " 'Neighborhood_NoRidge',\n",
       " 'Neighborhood_NridgHt',\n",
       " 'Neighborhood_OldTown',\n",
       " 'Neighborhood_SWISU',\n",
       " 'Neighborhood_Sawyer',\n",
       " 'Neighborhood_SawyerW',\n",
       " 'Neighborhood_Somerst',\n",
       " 'Neighborhood_StoneBr',\n",
       " 'Neighborhood_Timber',\n",
       " 'Neighborhood_Veenker',\n",
       " 'Condition1_Artery',\n",
       " 'Condition1_Feedr',\n",
       " 'Condition1_Norm',\n",
       " 'Condition1_PosA',\n",
       " 'Condition1_PosN',\n",
       " 'Condition1_RRAe',\n",
       " 'Condition1_RRAn',\n",
       " 'Condition1_RRNe',\n",
       " 'Condition1_RRNn',\n",
       " 'Condition2_Artery',\n",
       " 'Condition2_Feedr',\n",
       " 'Condition2_Norm',\n",
       " 'Condition2_PosA',\n",
       " 'Condition2_PosN',\n",
       " 'Condition2_RRAe',\n",
       " 'Condition2_RRAn',\n",
       " 'Condition2_RRNn',\n",
       " 'BldgType_1Fam',\n",
       " 'BldgType_2fmCon',\n",
       " 'BldgType_Duplex',\n",
       " 'BldgType_Twnhs',\n",
       " 'BldgType_TwnhsE',\n",
       " 'HouseStyle_1.5Fin',\n",
       " 'HouseStyle_1.5Unf',\n",
       " 'HouseStyle_1Story',\n",
       " 'HouseStyle_2.5Fin',\n",
       " 'HouseStyle_2.5Unf',\n",
       " 'HouseStyle_2Story',\n",
       " 'HouseStyle_SFoyer',\n",
       " 'HouseStyle_SLvl',\n",
       " 'RoofStyle_Flat',\n",
       " 'RoofStyle_Gable',\n",
       " 'RoofStyle_Gambrel',\n",
       " 'RoofStyle_Hip',\n",
       " 'RoofStyle_Mansard',\n",
       " 'RoofStyle_Shed',\n",
       " 'RoofMatl_ClyTile',\n",
       " 'RoofMatl_CompShg',\n",
       " 'RoofMatl_Membran',\n",
       " 'RoofMatl_Metal',\n",
       " 'RoofMatl_Roll',\n",
       " 'RoofMatl_Tar&Grv',\n",
       " 'RoofMatl_WdShake',\n",
       " 'RoofMatl_WdShngl',\n",
       " 'Foundation_BrkTil',\n",
       " 'Foundation_CBlock',\n",
       " 'Foundation_PConc',\n",
       " 'Foundation_Slab',\n",
       " 'Foundation_Stone',\n",
       " 'Foundation_Wood',\n",
       " 'HeatingQC',\n",
       " 'Heating_Floor',\n",
       " 'Heating_GasA',\n",
       " 'Heating_GasW',\n",
       " 'Heating_Grav',\n",
       " 'Heating_OthW',\n",
       " 'Heating_Wall',\n",
       " 'PavedDrive_N',\n",
       " 'PavedDrive_P',\n",
       " 'PavedDrive_Y']"
      ]
     },
     "execution_count": 84,
     "metadata": {},
     "output_type": "execute_result"
    }
   ],
   "source": [
    "columns"
   ]
  },
  {
   "cell_type": "code",
   "execution_count": null,
   "id": "295d14cc",
   "metadata": {},
   "outputs": [],
   "source": []
  },
  {
   "cell_type": "code",
   "execution_count": null,
   "id": "bfc80622",
   "metadata": {},
   "outputs": [],
   "source": []
  },
  {
   "cell_type": "code",
   "execution_count": null,
   "id": "0ed2f3cb",
   "metadata": {},
   "outputs": [],
   "source": []
  },
  {
   "cell_type": "code",
   "execution_count": null,
   "id": "74e51908",
   "metadata": {},
   "outputs": [],
   "source": []
  },
  {
   "cell_type": "code",
   "execution_count": null,
   "id": "b7363216",
   "metadata": {},
   "outputs": [],
   "source": []
  },
  {
   "cell_type": "code",
   "execution_count": null,
   "id": "65f7ca88",
   "metadata": {},
   "outputs": [],
   "source": []
  },
  {
   "cell_type": "code",
   "execution_count": null,
   "id": "2016a238",
   "metadata": {},
   "outputs": [],
   "source": []
  },
  {
   "cell_type": "code",
   "execution_count": null,
   "id": "1301c083",
   "metadata": {},
   "outputs": [],
   "source": []
  },
  {
   "cell_type": "markdown",
   "id": "c4ae939a",
   "metadata": {},
   "source": [
    "#### Split train and test"
   ]
  },
  {
   "cell_type": "code",
   "execution_count": 148,
   "id": "00791e5a",
   "metadata": {},
   "outputs": [],
   "source": [
    "train = houses[houses['Type']=='train']"
   ]
  },
  {
   "cell_type": "code",
   "execution_count": 149,
   "id": "470a3dc0",
   "metadata": {},
   "outputs": [
    {
     "data": {
      "text/plain": [
       "(1460, 276)"
      ]
     },
     "execution_count": 149,
     "metadata": {},
     "output_type": "execute_result"
    }
   ],
   "source": [
    "train.shape"
   ]
  },
  {
   "cell_type": "code",
   "execution_count": 150,
   "id": "89fcf975",
   "metadata": {},
   "outputs": [
    {
     "name": "stderr",
     "output_type": "stream",
     "text": [
      "/var/folders/sq/dl_vqf5n05z5z05q_14d_wmw0000gn/T/ipykernel_32738/1447841662.py:1: SettingWithCopyWarning: \n",
      "A value is trying to be set on a copy of a slice from a DataFrame\n",
      "\n",
      "See the caveats in the documentation: https://pandas.pydata.org/pandas-docs/stable/user_guide/indexing.html#returning-a-view-versus-a-copy\n",
      "  train.drop('Type', axis=1, inplace=True)\n"
     ]
    }
   ],
   "source": [
    "train.drop('Type', axis=1, inplace=True)"
   ]
  },
  {
   "cell_type": "code",
   "execution_count": 151,
   "id": "4d7dd9d1",
   "metadata": {},
   "outputs": [],
   "source": [
    "test = houses[houses['Type']=='test']"
   ]
  },
  {
   "cell_type": "code",
   "execution_count": 152,
   "id": "77b8338c",
   "metadata": {},
   "outputs": [
    {
     "data": {
      "text/plain": [
       "(1459, 276)"
      ]
     },
     "execution_count": 152,
     "metadata": {},
     "output_type": "execute_result"
    }
   ],
   "source": [
    "test.shape"
   ]
  },
  {
   "cell_type": "code",
   "execution_count": 153,
   "id": "73ca35b9",
   "metadata": {},
   "outputs": [
    {
     "name": "stderr",
     "output_type": "stream",
     "text": [
      "/var/folders/sq/dl_vqf5n05z5z05q_14d_wmw0000gn/T/ipykernel_32738/1167011423.py:1: SettingWithCopyWarning: \n",
      "A value is trying to be set on a copy of a slice from a DataFrame\n",
      "\n",
      "See the caveats in the documentation: https://pandas.pydata.org/pandas-docs/stable/user_guide/indexing.html#returning-a-view-versus-a-copy\n",
      "  test.drop('Type', axis=1, inplace=True)\n"
     ]
    }
   ],
   "source": [
    "test.drop('Type', axis=1, inplace=True)"
   ]
  },
  {
   "cell_type": "markdown",
   "id": "04cf691f",
   "metadata": {},
   "source": [
    "#### Filter NA Columns"
   ]
  },
  {
   "cell_type": "code",
   "execution_count": 154,
   "id": "a4d5657c",
   "metadata": {},
   "outputs": [
    {
     "name": "stdout",
     "output_type": "stream",
     "text": [
      "Series([], dtype: int64)\n"
     ]
    }
   ],
   "source": [
    "result = train.isna().sum()\n",
    "\n",
    "pd.set_option('display.max_rows', len(result))\n",
    "\n",
    "print(result[result==1])"
   ]
  },
  {
   "cell_type": "code",
   "execution_count": 157,
   "id": "56eeee76",
   "metadata": {},
   "outputs": [
    {
     "name": "stdout",
     "output_type": "stream",
     "text": [
      "Series([], dtype: int64)\n"
     ]
    }
   ],
   "source": [
    "result = test.isna().sum()\n",
    "\n",
    "pd.set_option('display.max_rows', len(result))\n",
    "\n",
    "print(result[result==1])"
   ]
  },
  {
   "cell_type": "code",
   "execution_count": 149,
   "id": "bfacc363",
   "metadata": {},
   "outputs": [
    {
     "data": {
      "text/plain": [
       "Index(['SalePrice'], dtype='object')"
      ]
     },
     "execution_count": 149,
     "metadata": {},
     "output_type": "execute_result"
    }
   ],
   "source": [
    "test.columns[test.isna().sum() > 1]"
   ]
  },
  {
   "cell_type": "code",
   "execution_count": 156,
   "id": "b3c2a059",
   "metadata": {},
   "outputs": [
    {
     "name": "stderr",
     "output_type": "stream",
     "text": [
      "/var/folders/sq/dl_vqf5n05z5z05q_14d_wmw0000gn/T/ipykernel_32738/3434746067.py:2: SettingWithCopyWarning: \n",
      "A value is trying to be set on a copy of a slice from a DataFrame\n",
      "\n",
      "See the caveats in the documentation: https://pandas.pydata.org/pandas-docs/stable/user_guide/indexing.html#returning-a-view-versus-a-copy\n",
      "  test['TotalArea'].fillna(average_total_area, inplace=True)\n"
     ]
    }
   ],
   "source": [
    "average_total_area = test['TotalArea'].mean()\n",
    "test['TotalArea'].fillna(average_total_area, inplace=True)"
   ]
  },
  {
   "cell_type": "code",
   "execution_count": 158,
   "id": "18fccd92",
   "metadata": {},
   "outputs": [
    {
     "name": "stdout",
     "output_type": "stream",
     "text": [
      "Series([], dtype: int64)\n"
     ]
    }
   ],
   "source": [
    "result = test.isna().sum()\n",
    "\n",
    "pd.set_option('display.max_rows', len(result))\n",
    "\n",
    "print(result[result==1])"
   ]
  },
  {
   "cell_type": "code",
   "execution_count": 218,
   "id": "98c1bd93",
   "metadata": {},
   "outputs": [
    {
     "name": "stderr",
     "output_type": "stream",
     "text": [
      "/var/folders/sq/dl_vqf5n05z5z05q_14d_wmw0000gn/T/ipykernel_32316/2045763681.py:2: SettingWithCopyWarning: \n",
      "A value is trying to be set on a copy of a slice from a DataFrame\n",
      "\n",
      "See the caveats in the documentation: https://pandas.pydata.org/pandas-docs/stable/user_guide/indexing.html#returning-a-view-versus-a-copy\n",
      "  test['GarageArea'].fillna(average_total_area, inplace=True)\n"
     ]
    }
   ],
   "source": [
    "average_total_area = test['GarageArea'].mean()\n",
    "test['GarageArea'].fillna(average_total_area, inplace=True)"
   ]
  },
  {
   "cell_type": "markdown",
   "id": "708fad07",
   "metadata": {},
   "source": [
    "#### Prepare the dataframe for the model"
   ]
  },
  {
   "cell_type": "code",
   "execution_count": 159,
   "id": "302cf975",
   "metadata": {},
   "outputs": [
    {
     "data": {
      "text/plain": [
       "275"
      ]
     },
     "execution_count": 159,
     "metadata": {},
     "output_type": "execute_result"
    }
   ],
   "source": [
    "len(train.columns)"
   ]
  },
  {
   "cell_type": "code",
   "execution_count": 160,
   "id": "0dbe0f0a",
   "metadata": {},
   "outputs": [],
   "source": [
    "y = train['SalePrice']"
   ]
  },
  {
   "cell_type": "code",
   "execution_count": 161,
   "id": "4b4674cc",
   "metadata": {},
   "outputs": [],
   "source": [
    "x = train.drop('SalePrice', axis=1)"
   ]
  },
  {
   "cell_type": "code",
   "execution_count": 162,
   "id": "4d371210",
   "metadata": {},
   "outputs": [
    {
     "data": {
      "text/plain": [
       "(1460, 274)"
      ]
     },
     "execution_count": 162,
     "metadata": {},
     "output_type": "execute_result"
    }
   ],
   "source": [
    "x.shape"
   ]
  },
  {
   "cell_type": "code",
   "execution_count": 163,
   "id": "12efb37f",
   "metadata": {},
   "outputs": [
    {
     "data": {
      "text/plain": [
       "(1460,)"
      ]
     },
     "execution_count": 163,
     "metadata": {},
     "output_type": "execute_result"
    }
   ],
   "source": [
    "y.shape"
   ]
  },
  {
   "cell_type": "code",
   "execution_count": 164,
   "id": "3c8e2943",
   "metadata": {},
   "outputs": [],
   "source": [
    "test = test.drop('SalePrice', axis=1)"
   ]
  },
  {
   "cell_type": "code",
   "execution_count": 165,
   "id": "cebed3c2",
   "metadata": {},
   "outputs": [
    {
     "data": {
      "text/plain": [
       "274"
      ]
     },
     "execution_count": 165,
     "metadata": {},
     "output_type": "execute_result"
    }
   ],
   "source": [
    "len(test.columns)"
   ]
  },
  {
   "cell_type": "markdown",
   "id": "7d0b2ce0",
   "metadata": {},
   "source": [
    "#### Apply the model "
   ]
  },
  {
   "cell_type": "code",
   "execution_count": 166,
   "id": "7929c669",
   "metadata": {},
   "outputs": [],
   "source": [
    "rf_3 = RandomForestRegressor()"
   ]
  },
  {
   "cell_type": "code",
   "execution_count": 167,
   "id": "a4ea0f7f",
   "metadata": {},
   "outputs": [
    {
     "name": "stdout",
     "output_type": "stream",
     "text": [
      "'TA' is not included in any column.\n"
     ]
    },
    {
     "name": "stderr",
     "output_type": "stream",
     "text": [
      "/var/folders/sq/dl_vqf5n05z5z05q_14d_wmw0000gn/T/ipykernel_32738/4108255698.py:3: FutureWarning: elementwise comparison failed; returning scalar instead, but in the future will perform elementwise comparison\n",
      "  if 'train' in dataframe[column].values:\n"
     ]
    }
   ],
   "source": [
    "def has_value_ta(dataframe):\n",
    "    for column in dataframe.columns:\n",
    "        if 'train' in dataframe[column].values:\n",
    "            return True, column\n",
    "    return False, None\n",
    "\n",
    "# Check if 'TA' is included in the dataframe and get the column name\n",
    "has_ta, column_with_ta = has_value_ta(x)\n",
    "\n",
    "if has_ta:\n",
    "    print(f\"'TA' is included in column '{column_with_ta}'.\")\n",
    "else:\n",
    "    print(\"'TA' is not included in any column.\")"
   ]
  },
  {
   "cell_type": "code",
   "execution_count": 168,
   "id": "a0846700",
   "metadata": {},
   "outputs": [
    {
     "data": {
      "text/plain": [
       "RandomForestRegressor()"
      ]
     },
     "execution_count": 168,
     "metadata": {},
     "output_type": "execute_result"
    }
   ],
   "source": [
    "rf_3.fit(X=x,y=y)"
   ]
  },
  {
   "cell_type": "code",
   "execution_count": 169,
   "id": "7703a8dd",
   "metadata": {},
   "outputs": [],
   "source": [
    "test['SalePrice'] = rf_3.predict(test)"
   ]
  },
  {
   "cell_type": "markdown",
   "id": "f694cb92",
   "metadata": {},
   "source": [
    "#### Validate name before"
   ]
  },
  {
   "cell_type": "code",
   "execution_count": 170,
   "id": "a8515fd0",
   "metadata": {},
   "outputs": [],
   "source": [
    "test[['Id','SalePrice']].to_csv('fourth_kaggle_submission.csv', index=False)"
   ]
  },
  {
   "cell_type": "code",
   "execution_count": null,
   "id": "4517b380",
   "metadata": {},
   "outputs": [],
   "source": []
  },
  {
   "cell_type": "code",
   "execution_count": null,
   "id": "caf55106",
   "metadata": {},
   "outputs": [],
   "source": []
  },
  {
   "cell_type": "code",
   "execution_count": null,
   "id": "10ac0ae2",
   "metadata": {},
   "outputs": [],
   "source": []
  }
 ],
 "metadata": {
  "kernelspec": {
   "display_name": "Python 3 (ipykernel)",
   "language": "python",
   "name": "python3"
  },
  "language_info": {
   "codemirror_mode": {
    "name": "ipython",
    "version": 3
   },
   "file_extension": ".py",
   "mimetype": "text/x-python",
   "name": "python",
   "nbconvert_exporter": "python",
   "pygments_lexer": "ipython3",
   "version": "3.9.13"
  }
 },
 "nbformat": 4,
 "nbformat_minor": 5
}
