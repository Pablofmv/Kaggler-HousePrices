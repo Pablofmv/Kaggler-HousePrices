{
 "cells": [
  {
   "cell_type": "code",
   "execution_count": 1,
   "id": "5e9303a9",
   "metadata": {},
   "outputs": [],
   "source": [
    "import pandas as pd\n",
    "from sklearn.ensemble import RandomForestRegressor\n",
    "from sklearn.preprocessing import LabelEncoder\n",
    "import seaborn as sns\n",
    "import matplotlib.pyplot as plt\n",
    "from sklearn.feature_selection import RFE"
   ]
  },
  {
   "cell_type": "code",
   "execution_count": 2,
   "id": "ed5a34d2",
   "metadata": {},
   "outputs": [],
   "source": [
    "train = pd.read_csv(\"train.csv\")"
   ]
  },
  {
   "cell_type": "code",
   "execution_count": 3,
   "id": "18dc3d1b",
   "metadata": {},
   "outputs": [
    {
     "data": {
      "text/plain": [
       "(1460, 81)"
      ]
     },
     "execution_count": 3,
     "metadata": {},
     "output_type": "execute_result"
    }
   ],
   "source": [
    "train.shape"
   ]
  },
  {
   "cell_type": "code",
   "execution_count": 4,
   "id": "018a60ae",
   "metadata": {},
   "outputs": [],
   "source": [
    "test = pd.read_csv(\"test.csv\")"
   ]
  },
  {
   "cell_type": "code",
   "execution_count": 5,
   "id": "a630bb79",
   "metadata": {},
   "outputs": [
    {
     "data": {
      "text/plain": [
       "(1459, 80)"
      ]
     },
     "execution_count": 5,
     "metadata": {},
     "output_type": "execute_result"
    }
   ],
   "source": [
    "test.shape"
   ]
  },
  {
   "cell_type": "markdown",
   "id": "8145d800",
   "metadata": {},
   "source": [
    "### First Submission"
   ]
  },
  {
   "cell_type": "code",
   "execution_count": 6,
   "id": "6575a628",
   "metadata": {},
   "outputs": [
    {
     "data": {
      "text/plain": [
       "Index(['Id', 'MSSubClass', 'MSZoning', 'LotFrontage', 'LotArea', 'Street',\n",
       "       'Alley', 'LotShape', 'LandContour', 'Utilities', 'LotConfig',\n",
       "       'LandSlope', 'Neighborhood', 'Condition1', 'Condition2', 'BldgType',\n",
       "       'HouseStyle', 'OverallQual', 'OverallCond', 'YearBuilt', 'YearRemodAdd',\n",
       "       'RoofStyle', 'RoofMatl', 'Exterior1st', 'Exterior2nd', 'MasVnrType',\n",
       "       'MasVnrArea', 'ExterQual', 'ExterCond', 'Foundation', 'BsmtQual',\n",
       "       'BsmtCond', 'BsmtExposure', 'BsmtFinType1', 'BsmtFinSF1',\n",
       "       'BsmtFinType2', 'BsmtFinSF2', 'BsmtUnfSF', 'TotalBsmtSF', 'Heating',\n",
       "       'HeatingQC', 'CentralAir', 'Electrical', '1stFlrSF', '2ndFlrSF',\n",
       "       'LowQualFinSF', 'GrLivArea', 'BsmtFullBath', 'BsmtHalfBath', 'FullBath',\n",
       "       'HalfBath', 'BedroomAbvGr', 'KitchenAbvGr', 'KitchenQual',\n",
       "       'TotRmsAbvGrd', 'Functional', 'Fireplaces', 'FireplaceQu', 'GarageType',\n",
       "       'GarageYrBlt', 'GarageFinish', 'GarageCars', 'GarageArea', 'GarageQual',\n",
       "       'GarageCond', 'PavedDrive', 'WoodDeckSF', 'OpenPorchSF',\n",
       "       'EnclosedPorch', '3SsnPorch', 'ScreenPorch', 'PoolArea', 'PoolQC',\n",
       "       'Fence', 'MiscFeature', 'MiscVal', 'MoSold', 'YrSold', 'SaleType',\n",
       "       'SaleCondition', 'SalePrice'],\n",
       "      dtype='object')"
      ]
     },
     "execution_count": 6,
     "metadata": {},
     "output_type": "execute_result"
    }
   ],
   "source": [
    "train.columns"
   ]
  },
  {
   "cell_type": "code",
   "execution_count": 7,
   "id": "2520a51b",
   "metadata": {},
   "outputs": [],
   "source": [
    "#rf = RandomForestRegressor()"
   ]
  },
  {
   "cell_type": "code",
   "execution_count": 9,
   "id": "38b6914a",
   "metadata": {},
   "outputs": [
    {
     "data": {
      "text/plain": [
       "RandomForestRegressor()"
      ]
     },
     "execution_count": 9,
     "metadata": {},
     "output_type": "execute_result"
    }
   ],
   "source": [
    "#rf.fit(X=train[['LotArea','PoolArea']],y=train['SalePrice'])"
   ]
  },
  {
   "cell_type": "code",
   "execution_count": 10,
   "id": "b43073b9",
   "metadata": {},
   "outputs": [],
   "source": [
    "#test['SalePrice'] = rf.predict(test[['LotArea','PoolArea']])"
   ]
  },
  {
   "cell_type": "code",
   "execution_count": 11,
   "id": "77922782",
   "metadata": {},
   "outputs": [],
   "source": [
    "#test[['Id','SalePrice']].to_csv('first_kaggle_submission.csv', index=False)"
   ]
  },
  {
   "cell_type": "markdown",
   "id": "9a5881c0",
   "metadata": {},
   "source": [
    "#### EDA statistics"
   ]
  },
  {
   "cell_type": "code",
   "execution_count": 7,
   "id": "0fa27edc",
   "metadata": {},
   "outputs": [
    {
     "name": "stdout",
     "output_type": "stream",
     "text": [
      "Train Shape (1460, 81)\n",
      "Test Shape (1459, 80)\n"
     ]
    }
   ],
   "source": [
    "print('Train Shape', train.shape)\n",
    "print('Test Shape', test.shape)"
   ]
  },
  {
   "cell_type": "code",
   "execution_count": 8,
   "id": "a813fa84",
   "metadata": {},
   "outputs": [
    {
     "name": "stdout",
     "output_type": "stream",
     "text": [
      "0     856\n",
      "1    1262\n",
      "2     920\n",
      "3     961\n",
      "4    1145\n",
      "Name: 1stFlrSF, dtype: int64\n"
     ]
    }
   ],
   "source": [
    "print(train['1stFlrSF'].head())"
   ]
  },
  {
   "cell_type": "markdown",
   "id": "3bd94150",
   "metadata": {},
   "source": [
    "#### Data Exploration"
   ]
  },
  {
   "cell_type": "code",
   "execution_count": 9,
   "id": "336f3919",
   "metadata": {},
   "outputs": [],
   "source": [
    "train['Type'] = 'train'"
   ]
  },
  {
   "cell_type": "code",
   "execution_count": 10,
   "id": "c2be4b80",
   "metadata": {},
   "outputs": [],
   "source": [
    "test['Type'] = 'test'"
   ]
  },
  {
   "cell_type": "code",
   "execution_count": 11,
   "id": "610ef4d1",
   "metadata": {},
   "outputs": [],
   "source": [
    "houses = pd.concat([train,test])"
   ]
  },
  {
   "cell_type": "code",
   "execution_count": 12,
   "id": "b3550616",
   "metadata": {},
   "outputs": [
    {
     "data": {
      "text/plain": [
       "Index(['Id', 'MSSubClass', 'MSZoning', 'LotFrontage', 'LotArea', 'Street',\n",
       "       'Alley', 'LotShape', 'LandContour', 'Utilities', 'LotConfig',\n",
       "       'LandSlope', 'Neighborhood', 'Condition1', 'Condition2', 'BldgType',\n",
       "       'HouseStyle', 'OverallQual', 'OverallCond', 'YearBuilt', 'YearRemodAdd',\n",
       "       'RoofStyle', 'RoofMatl', 'Exterior1st', 'Exterior2nd', 'MasVnrType',\n",
       "       'MasVnrArea', 'ExterQual', 'ExterCond', 'Foundation', 'BsmtQual',\n",
       "       'BsmtCond', 'BsmtExposure', 'BsmtFinType1', 'BsmtFinSF1',\n",
       "       'BsmtFinType2', 'BsmtFinSF2', 'BsmtUnfSF', 'TotalBsmtSF', 'Heating',\n",
       "       'HeatingQC', 'CentralAir', 'Electrical', '1stFlrSF', '2ndFlrSF',\n",
       "       'LowQualFinSF', 'GrLivArea', 'BsmtFullBath', 'BsmtHalfBath', 'FullBath',\n",
       "       'HalfBath', 'BedroomAbvGr', 'KitchenAbvGr', 'KitchenQual',\n",
       "       'TotRmsAbvGrd', 'Functional', 'Fireplaces', 'FireplaceQu', 'GarageType',\n",
       "       'GarageYrBlt', 'GarageFinish', 'GarageCars', 'GarageArea', 'GarageQual',\n",
       "       'GarageCond', 'PavedDrive', 'WoodDeckSF', 'OpenPorchSF',\n",
       "       'EnclosedPorch', '3SsnPorch', 'ScreenPorch', 'PoolArea', 'PoolQC',\n",
       "       'Fence', 'MiscFeature', 'MiscVal', 'MoSold', 'YrSold', 'SaleType',\n",
       "       'SaleCondition', 'SalePrice', 'Type'],\n",
       "      dtype='object')"
      ]
     },
     "execution_count": 12,
     "metadata": {},
     "output_type": "execute_result"
    }
   ],
   "source": [
    "houses.columns"
   ]
  },
  {
   "cell_type": "code",
   "execution_count": 13,
   "id": "b712ace6",
   "metadata": {},
   "outputs": [
    {
     "name": "stdout",
     "output_type": "stream",
     "text": [
      "<class 'pandas.core.frame.DataFrame'>\n",
      "Int64Index: 2919 entries, 0 to 1458\n",
      "Data columns (total 82 columns):\n",
      " #   Column         Non-Null Count  Dtype  \n",
      "---  ------         --------------  -----  \n",
      " 0   Id             2919 non-null   int64  \n",
      " 1   MSSubClass     2919 non-null   int64  \n",
      " 2   MSZoning       2915 non-null   object \n",
      " 3   LotFrontage    2433 non-null   float64\n",
      " 4   LotArea        2919 non-null   int64  \n",
      " 5   Street         2919 non-null   object \n",
      " 6   Alley          198 non-null    object \n",
      " 7   LotShape       2919 non-null   object \n",
      " 8   LandContour    2919 non-null   object \n",
      " 9   Utilities      2917 non-null   object \n",
      " 10  LotConfig      2919 non-null   object \n",
      " 11  LandSlope      2919 non-null   object \n",
      " 12  Neighborhood   2919 non-null   object \n",
      " 13  Condition1     2919 non-null   object \n",
      " 14  Condition2     2919 non-null   object \n",
      " 15  BldgType       2919 non-null   object \n",
      " 16  HouseStyle     2919 non-null   object \n",
      " 17  OverallQual    2919 non-null   int64  \n",
      " 18  OverallCond    2919 non-null   int64  \n",
      " 19  YearBuilt      2919 non-null   int64  \n",
      " 20  YearRemodAdd   2919 non-null   int64  \n",
      " 21  RoofStyle      2919 non-null   object \n",
      " 22  RoofMatl       2919 non-null   object \n",
      " 23  Exterior1st    2918 non-null   object \n",
      " 24  Exterior2nd    2918 non-null   object \n",
      " 25  MasVnrType     2895 non-null   object \n",
      " 26  MasVnrArea     2896 non-null   float64\n",
      " 27  ExterQual      2919 non-null   object \n",
      " 28  ExterCond      2919 non-null   object \n",
      " 29  Foundation     2919 non-null   object \n",
      " 30  BsmtQual       2838 non-null   object \n",
      " 31  BsmtCond       2837 non-null   object \n",
      " 32  BsmtExposure   2837 non-null   object \n",
      " 33  BsmtFinType1   2840 non-null   object \n",
      " 34  BsmtFinSF1     2918 non-null   float64\n",
      " 35  BsmtFinType2   2839 non-null   object \n",
      " 36  BsmtFinSF2     2918 non-null   float64\n",
      " 37  BsmtUnfSF      2918 non-null   float64\n",
      " 38  TotalBsmtSF    2918 non-null   float64\n",
      " 39  Heating        2919 non-null   object \n",
      " 40  HeatingQC      2919 non-null   object \n",
      " 41  CentralAir     2919 non-null   object \n",
      " 42  Electrical     2918 non-null   object \n",
      " 43  1stFlrSF       2919 non-null   int64  \n",
      " 44  2ndFlrSF       2919 non-null   int64  \n",
      " 45  LowQualFinSF   2919 non-null   int64  \n",
      " 46  GrLivArea      2919 non-null   int64  \n",
      " 47  BsmtFullBath   2917 non-null   float64\n",
      " 48  BsmtHalfBath   2917 non-null   float64\n",
      " 49  FullBath       2919 non-null   int64  \n",
      " 50  HalfBath       2919 non-null   int64  \n",
      " 51  BedroomAbvGr   2919 non-null   int64  \n",
      " 52  KitchenAbvGr   2919 non-null   int64  \n",
      " 53  KitchenQual    2918 non-null   object \n",
      " 54  TotRmsAbvGrd   2919 non-null   int64  \n",
      " 55  Functional     2917 non-null   object \n",
      " 56  Fireplaces     2919 non-null   int64  \n",
      " 57  FireplaceQu    1499 non-null   object \n",
      " 58  GarageType     2762 non-null   object \n",
      " 59  GarageYrBlt    2760 non-null   float64\n",
      " 60  GarageFinish   2760 non-null   object \n",
      " 61  GarageCars     2918 non-null   float64\n",
      " 62  GarageArea     2918 non-null   float64\n",
      " 63  GarageQual     2760 non-null   object \n",
      " 64  GarageCond     2760 non-null   object \n",
      " 65  PavedDrive     2919 non-null   object \n",
      " 66  WoodDeckSF     2919 non-null   int64  \n",
      " 67  OpenPorchSF    2919 non-null   int64  \n",
      " 68  EnclosedPorch  2919 non-null   int64  \n",
      " 69  3SsnPorch      2919 non-null   int64  \n",
      " 70  ScreenPorch    2919 non-null   int64  \n",
      " 71  PoolArea       2919 non-null   int64  \n",
      " 72  PoolQC         10 non-null     object \n",
      " 73  Fence          571 non-null    object \n",
      " 74  MiscFeature    105 non-null    object \n",
      " 75  MiscVal        2919 non-null   int64  \n",
      " 76  MoSold         2919 non-null   int64  \n",
      " 77  YrSold         2919 non-null   int64  \n",
      " 78  SaleType       2918 non-null   object \n",
      " 79  SaleCondition  2919 non-null   object \n",
      " 80  SalePrice      1460 non-null   float64\n",
      " 81  Type           2919 non-null   object \n",
      "dtypes: float64(12), int64(26), object(44)\n",
      "memory usage: 1.8+ MB\n",
      "None\n"
     ]
    }
   ],
   "source": [
    "print(houses.info())"
   ]
  },
  {
   "cell_type": "markdown",
   "id": "dba5d5a0",
   "metadata": {},
   "source": [
    "#### Working with Datatypes"
   ]
  },
  {
   "cell_type": "code",
   "execution_count": 14,
   "id": "e923ce47",
   "metadata": {},
   "outputs": [],
   "source": [
    "Yr_col = [x for x in houses.columns if 'Yr' in x]"
   ]
  },
  {
   "cell_type": "code",
   "execution_count": 15,
   "id": "da2e2c4b",
   "metadata": {},
   "outputs": [
    {
     "data": {
      "text/plain": [
       "['GarageYrBlt', 'YrSold']"
      ]
     },
     "execution_count": 15,
     "metadata": {},
     "output_type": "execute_result"
    }
   ],
   "source": [
    "Yr_col"
   ]
  },
  {
   "cell_type": "code",
   "execution_count": 16,
   "id": "0ee4d180",
   "metadata": {},
   "outputs": [],
   "source": [
    "Year_col = [x for x in houses.columns if 'Year' in x]"
   ]
  },
  {
   "cell_type": "code",
   "execution_count": 17,
   "id": "8aadfee8",
   "metadata": {},
   "outputs": [
    {
     "data": {
      "text/plain": [
       "['YearBuilt', 'YearRemodAdd']"
      ]
     },
     "execution_count": 17,
     "metadata": {},
     "output_type": "execute_result"
    }
   ],
   "source": [
    "Year_col"
   ]
  },
  {
   "cell_type": "code",
   "execution_count": 18,
   "id": "c14ae0bd",
   "metadata": {},
   "outputs": [],
   "source": [
    "houses['GarageYrBlt'] = pd.to_datetime(houses['GarageYrBlt'], format='%Y', errors='coerce')"
   ]
  },
  {
   "cell_type": "code",
   "execution_count": 19,
   "id": "cb3ca534",
   "metadata": {},
   "outputs": [],
   "source": [
    "houses['GarageYrBlt'] = houses['GarageYrBlt'].dt.year"
   ]
  },
  {
   "cell_type": "code",
   "execution_count": 20,
   "id": "25a62ed2",
   "metadata": {},
   "outputs": [],
   "source": [
    "houses['YrSold'] = pd.to_datetime(houses['YrSold'], format='%Y', errors='coerce')"
   ]
  },
  {
   "cell_type": "code",
   "execution_count": 21,
   "id": "4156f68d",
   "metadata": {},
   "outputs": [],
   "source": [
    "houses['YrSold'] = houses['YrSold'].dt.year"
   ]
  },
  {
   "cell_type": "code",
   "execution_count": 22,
   "id": "8fa93c71",
   "metadata": {},
   "outputs": [],
   "source": [
    "houses['YearBuilt'] = pd.to_datetime(houses['YearBuilt'], format='%Y', errors='coerce')"
   ]
  },
  {
   "cell_type": "code",
   "execution_count": 23,
   "id": "897eee38",
   "metadata": {},
   "outputs": [],
   "source": [
    "houses['YearBuilt'] = houses['YearBuilt'].dt.year"
   ]
  },
  {
   "cell_type": "code",
   "execution_count": 24,
   "id": "b911f464",
   "metadata": {},
   "outputs": [],
   "source": [
    "houses['YearRemodAdd'] = pd.to_datetime(houses['YearRemodAdd'], format='%Y', errors='coerce')"
   ]
  },
  {
   "cell_type": "code",
   "execution_count": 25,
   "id": "8d5e9d5c",
   "metadata": {},
   "outputs": [],
   "source": [
    "houses['YearRemodAdd'] = houses['YearRemodAdd'].dt.year"
   ]
  },
  {
   "cell_type": "code",
   "execution_count": null,
   "id": "814b5e90",
   "metadata": {},
   "outputs": [],
   "source": []
  },
  {
   "cell_type": "code",
   "execution_count": null,
   "id": "46cd0afd",
   "metadata": {},
   "outputs": [],
   "source": []
  },
  {
   "cell_type": "code",
   "execution_count": null,
   "id": "df0c0871",
   "metadata": {},
   "outputs": [],
   "source": []
  },
  {
   "cell_type": "markdown",
   "id": "9ea62441",
   "metadata": {},
   "source": [
    "#### Missing values"
   ]
  },
  {
   "cell_type": "code",
   "execution_count": 26,
   "id": "4faf43c4",
   "metadata": {},
   "outputs": [
    {
     "name": "stdout",
     "output_type": "stream",
     "text": [
      "MSZoning           4\n",
      "LotFrontage      486\n",
      "Alley           2721\n",
      "Utilities          2\n",
      "MasVnrType        24\n",
      "MasVnrArea        23\n",
      "BsmtQual          81\n",
      "BsmtCond          82\n",
      "BsmtExposure      82\n",
      "BsmtFinType1      79\n",
      "BsmtFinType2      80\n",
      "BsmtFullBath       2\n",
      "BsmtHalfBath       2\n",
      "Functional         2\n",
      "FireplaceQu     1420\n",
      "GarageType       157\n",
      "GarageYrBlt      159\n",
      "GarageFinish     159\n",
      "GarageQual       159\n",
      "GarageCond       159\n",
      "PoolQC          2909\n",
      "Fence           2348\n",
      "MiscFeature     2814\n",
      "SalePrice       1459\n",
      "dtype: int64\n"
     ]
    }
   ],
   "source": [
    "result = houses.isna().sum()\n",
    "\n",
    "pd.set_option('display.max_rows', len(result))\n",
    "\n",
    "print(result[result>1])\n"
   ]
  },
  {
   "cell_type": "markdown",
   "id": "3e5e6d8d",
   "metadata": {},
   "source": [
    "#### Complete the missing values"
   ]
  },
  {
   "cell_type": "code",
   "execution_count": 27,
   "id": "d186e8e5",
   "metadata": {},
   "outputs": [],
   "source": [
    "from sklearn.impute import SimpleImputer\n",
    "\n",
    "\n",
    "mean_imputer = SimpleImputer(strategy='most_frequent')\n",
    "\n",
    "\n",
    "houses[['MSZoning']] = mean_imputer.fit_transform(houses[['MSZoning']])"
   ]
  },
  {
   "cell_type": "code",
   "execution_count": 28,
   "id": "2ea231bb",
   "metadata": {},
   "outputs": [
    {
     "name": "stderr",
     "output_type": "stream",
     "text": [
      "/Users/pablofranciscomendozavargas/opt/anaconda3/lib/python3.9/site-packages/sklearn/impute/_base.py:49: FutureWarning: Unlike other reduction functions (e.g. `skew`, `kurtosis`), the default behavior of `mode` typically preserves the axis it acts along. In SciPy 1.11.0, this behavior will change: the default value of `keepdims` will become False, the `axis` over which the statistic is taken will be eliminated, and the value None will no longer be accepted. Set `keepdims` to True or False to avoid this warning.\n",
      "  mode = stats.mode(array)\n"
     ]
    }
   ],
   "source": [
    "mean_imputer = SimpleImputer(strategy='most_frequent')\n",
    "houses[['LotFrontage']] = mean_imputer.fit_transform(houses[['LotFrontage']])"
   ]
  },
  {
   "cell_type": "code",
   "execution_count": 29,
   "id": "6285f3de",
   "metadata": {},
   "outputs": [
    {
     "name": "stderr",
     "output_type": "stream",
     "text": [
      "/Users/pablofranciscomendozavargas/opt/anaconda3/lib/python3.9/site-packages/sklearn/impute/_base.py:49: FutureWarning: Unlike other reduction functions (e.g. `skew`, `kurtosis`), the default behavior of `mode` typically preserves the axis it acts along. In SciPy 1.11.0, this behavior will change: the default value of `keepdims` will become False, the `axis` over which the statistic is taken will be eliminated, and the value None will no longer be accepted. Set `keepdims` to True or False to avoid this warning.\n",
      "  mode = stats.mode(array)\n"
     ]
    }
   ],
   "source": [
    "mean_imputer = SimpleImputer(strategy='most_frequent')\n",
    "houses[['LotFrontage']] = mean_imputer.fit_transform(houses[['LotFrontage']])"
   ]
  },
  {
   "cell_type": "code",
   "execution_count": 30,
   "id": "a6ecf35b",
   "metadata": {},
   "outputs": [],
   "source": [
    "mean_imputer = SimpleImputer(strategy='most_frequent')\n",
    "houses[['Alley']] = mean_imputer.fit_transform(houses[['Alley']])"
   ]
  },
  {
   "cell_type": "code",
   "execution_count": 31,
   "id": "a752a363",
   "metadata": {},
   "outputs": [],
   "source": [
    "mean_imputer = SimpleImputer(strategy='most_frequent')\n",
    "houses[['Alley']] = mean_imputer.fit_transform(houses[['Alley']])"
   ]
  },
  {
   "cell_type": "code",
   "execution_count": 32,
   "id": "d393b744",
   "metadata": {},
   "outputs": [],
   "source": [
    "mean_imputer = SimpleImputer(strategy='most_frequent')\n",
    "houses[['Utilities']] = mean_imputer.fit_transform(houses[['Utilities']])"
   ]
  },
  {
   "cell_type": "code",
   "execution_count": 33,
   "id": "7649b4dc",
   "metadata": {},
   "outputs": [],
   "source": [
    "mean_imputer = SimpleImputer(strategy='most_frequent')\n",
    "houses[['MasVnrType']] = mean_imputer.fit_transform(houses[['MasVnrType']])"
   ]
  },
  {
   "cell_type": "code",
   "execution_count": 34,
   "id": "6d052fdf",
   "metadata": {},
   "outputs": [],
   "source": [
    "mean_imputer = SimpleImputer(strategy='mean')\n",
    "houses[['MasVnrArea']] = mean_imputer.fit_transform(houses[['MasVnrArea']])"
   ]
  },
  {
   "cell_type": "code",
   "execution_count": 35,
   "id": "ea7caffc",
   "metadata": {},
   "outputs": [],
   "source": [
    "mean_imputer = SimpleImputer(strategy='most_frequent')\n",
    "houses[['BsmtQual']] = mean_imputer.fit_transform(houses[['BsmtQual']])"
   ]
  },
  {
   "cell_type": "code",
   "execution_count": 36,
   "id": "6f245236",
   "metadata": {},
   "outputs": [],
   "source": [
    "mean_imputer = SimpleImputer(strategy='most_frequent')\n",
    "houses[['BsmtQual']] = mean_imputer.fit_transform(houses[['BsmtQual']])"
   ]
  },
  {
   "cell_type": "code",
   "execution_count": 37,
   "id": "c9fa6e3e",
   "metadata": {},
   "outputs": [],
   "source": [
    "mean_imputer = SimpleImputer(strategy='most_frequent')\n",
    "houses[['BsmtCond']] = mean_imputer.fit_transform(houses[['BsmtCond']])"
   ]
  },
  {
   "cell_type": "code",
   "execution_count": 38,
   "id": "c6e3e3dc",
   "metadata": {},
   "outputs": [],
   "source": [
    "mean_imputer = SimpleImputer(strategy='most_frequent')\n",
    "houses[['BsmtCond']] = mean_imputer.fit_transform(houses[['BsmtCond']])"
   ]
  },
  {
   "cell_type": "code",
   "execution_count": 39,
   "id": "fd1631c1",
   "metadata": {},
   "outputs": [],
   "source": [
    "mean_imputer = SimpleImputer(strategy='most_frequent')\n",
    "houses[['BsmtExposure']] = mean_imputer.fit_transform(houses[['BsmtExposure']])"
   ]
  },
  {
   "cell_type": "code",
   "execution_count": 40,
   "id": "3ec70d61",
   "metadata": {},
   "outputs": [],
   "source": [
    "mean_imputer = SimpleImputer(strategy='most_frequent')\n",
    "houses[['BsmtFinType1']] = mean_imputer.fit_transform(houses[['BsmtFinType1']])"
   ]
  },
  {
   "cell_type": "code",
   "execution_count": 41,
   "id": "746b63cd",
   "metadata": {},
   "outputs": [],
   "source": [
    "mean_imputer = SimpleImputer(strategy='most_frequent')\n",
    "houses[['BsmtFinType2']] = mean_imputer.fit_transform(houses[['BsmtFinType2']])"
   ]
  },
  {
   "cell_type": "code",
   "execution_count": 42,
   "id": "b9f3b329",
   "metadata": {},
   "outputs": [
    {
     "name": "stderr",
     "output_type": "stream",
     "text": [
      "/Users/pablofranciscomendozavargas/opt/anaconda3/lib/python3.9/site-packages/sklearn/impute/_base.py:49: FutureWarning: Unlike other reduction functions (e.g. `skew`, `kurtosis`), the default behavior of `mode` typically preserves the axis it acts along. In SciPy 1.11.0, this behavior will change: the default value of `keepdims` will become False, the `axis` over which the statistic is taken will be eliminated, and the value None will no longer be accepted. Set `keepdims` to True or False to avoid this warning.\n",
      "  mode = stats.mode(array)\n"
     ]
    }
   ],
   "source": [
    "mean_imputer = SimpleImputer(strategy='most_frequent')\n",
    "houses[['BsmtFullBath']] = mean_imputer.fit_transform(houses[['BsmtFullBath']])"
   ]
  },
  {
   "cell_type": "code",
   "execution_count": 43,
   "id": "301d2e00",
   "metadata": {},
   "outputs": [
    {
     "name": "stderr",
     "output_type": "stream",
     "text": [
      "/Users/pablofranciscomendozavargas/opt/anaconda3/lib/python3.9/site-packages/sklearn/impute/_base.py:49: FutureWarning: Unlike other reduction functions (e.g. `skew`, `kurtosis`), the default behavior of `mode` typically preserves the axis it acts along. In SciPy 1.11.0, this behavior will change: the default value of `keepdims` will become False, the `axis` over which the statistic is taken will be eliminated, and the value None will no longer be accepted. Set `keepdims` to True or False to avoid this warning.\n",
      "  mode = stats.mode(array)\n"
     ]
    }
   ],
   "source": [
    "mean_imputer = SimpleImputer(strategy='most_frequent')\n",
    "houses[['BsmtHalfBath']] = mean_imputer.fit_transform(houses[['BsmtHalfBath']])"
   ]
  },
  {
   "cell_type": "code",
   "execution_count": 44,
   "id": "0d4dceb4",
   "metadata": {},
   "outputs": [],
   "source": [
    "mean_imputer = SimpleImputer(strategy='most_frequent')\n",
    "houses[['Functional']] = mean_imputer.fit_transform(houses[['Functional']])"
   ]
  },
  {
   "cell_type": "code",
   "execution_count": 45,
   "id": "163ef80c",
   "metadata": {},
   "outputs": [],
   "source": [
    "mean_imputer = SimpleImputer(strategy='most_frequent')\n",
    "houses[['FireplaceQu']] = mean_imputer.fit_transform(houses[['FireplaceQu']])"
   ]
  },
  {
   "cell_type": "code",
   "execution_count": 46,
   "id": "679b51f2",
   "metadata": {},
   "outputs": [],
   "source": [
    "mean_imputer = SimpleImputer(strategy='most_frequent')\n",
    "houses[['GarageType']] = mean_imputer.fit_transform(houses[['GarageType']])"
   ]
  },
  {
   "cell_type": "code",
   "execution_count": 47,
   "id": "5f51996a",
   "metadata": {},
   "outputs": [
    {
     "name": "stderr",
     "output_type": "stream",
     "text": [
      "/Users/pablofranciscomendozavargas/opt/anaconda3/lib/python3.9/site-packages/sklearn/impute/_base.py:49: FutureWarning: Unlike other reduction functions (e.g. `skew`, `kurtosis`), the default behavior of `mode` typically preserves the axis it acts along. In SciPy 1.11.0, this behavior will change: the default value of `keepdims` will become False, the `axis` over which the statistic is taken will be eliminated, and the value None will no longer be accepted. Set `keepdims` to True or False to avoid this warning.\n",
      "  mode = stats.mode(array)\n"
     ]
    }
   ],
   "source": [
    "mean_imputer = SimpleImputer(strategy='most_frequent')\n",
    "houses[['GarageYrBlt']] = mean_imputer.fit_transform(houses[['GarageYrBlt']])"
   ]
  },
  {
   "cell_type": "code",
   "execution_count": 48,
   "id": "f030f206",
   "metadata": {},
   "outputs": [],
   "source": [
    "mean_imputer = SimpleImputer(strategy='most_frequent')\n",
    "houses[['GarageFinish']] = mean_imputer.fit_transform(houses[['GarageFinish']])"
   ]
  },
  {
   "cell_type": "code",
   "execution_count": 49,
   "id": "fadeeafd",
   "metadata": {},
   "outputs": [],
   "source": [
    "mean_imputer = SimpleImputer(strategy='most_frequent')\n",
    "houses[['GarageQual']] = mean_imputer.fit_transform(houses[['GarageQual']])"
   ]
  },
  {
   "cell_type": "code",
   "execution_count": 50,
   "id": "5705a63d",
   "metadata": {},
   "outputs": [],
   "source": [
    "mean_imputer = SimpleImputer(strategy='most_frequent')\n",
    "houses[['GarageCond']] = mean_imputer.fit_transform(houses[['GarageCond']])"
   ]
  },
  {
   "cell_type": "code",
   "execution_count": 51,
   "id": "d5a2e329",
   "metadata": {},
   "outputs": [],
   "source": [
    "mean_imputer = SimpleImputer(strategy='constant')\n",
    "houses[['PoolQC']] = mean_imputer.fit_transform(houses[['PoolQC']])"
   ]
  },
  {
   "cell_type": "code",
   "execution_count": 52,
   "id": "6dfcb23e",
   "metadata": {},
   "outputs": [],
   "source": [
    "mean_imputer = SimpleImputer(strategy='constant')\n",
    "houses[['Fence']] = mean_imputer.fit_transform(houses[['Fence']])"
   ]
  },
  {
   "cell_type": "code",
   "execution_count": 53,
   "id": "79872a0e",
   "metadata": {},
   "outputs": [],
   "source": [
    "mean_imputer = SimpleImputer(strategy='most_frequent')\n",
    "houses[['MiscFeature']] = mean_imputer.fit_transform(houses[['MiscFeature']])"
   ]
  },
  {
   "cell_type": "code",
   "execution_count": 54,
   "id": "7655d4fc",
   "metadata": {},
   "outputs": [],
   "source": [
    "mean_imputer = SimpleImputer(strategy='most_frequent')\n",
    "houses[['Electrical']] = mean_imputer.fit_transform(houses[['Electrical']])"
   ]
  },
  {
   "cell_type": "code",
   "execution_count": 55,
   "id": "e5858b1b",
   "metadata": {},
   "outputs": [],
   "source": [
    "mean_imputer = SimpleImputer(strategy='most_frequent')\n",
    "houses[['KitchenQual']] = mean_imputer.fit_transform(houses[['KitchenQual']])"
   ]
  },
  {
   "cell_type": "code",
   "execution_count": 56,
   "id": "4d9f82b7",
   "metadata": {},
   "outputs": [
    {
     "name": "stderr",
     "output_type": "stream",
     "text": [
      "/Users/pablofranciscomendozavargas/opt/anaconda3/lib/python3.9/site-packages/sklearn/impute/_base.py:49: FutureWarning: Unlike other reduction functions (e.g. `skew`, `kurtosis`), the default behavior of `mode` typically preserves the axis it acts along. In SciPy 1.11.0, this behavior will change: the default value of `keepdims` will become False, the `axis` over which the statistic is taken will be eliminated, and the value None will no longer be accepted. Set `keepdims` to True or False to avoid this warning.\n",
      "  mode = stats.mode(array)\n"
     ]
    }
   ],
   "source": [
    "mean_imputer = SimpleImputer(strategy='most_frequent')\n",
    "houses[['GarageCars']] = mean_imputer.fit_transform(houses[['GarageCars']])"
   ]
  },
  {
   "cell_type": "code",
   "execution_count": 57,
   "id": "0e613acf",
   "metadata": {},
   "outputs": [],
   "source": [
    "mean_imputer = SimpleImputer(strategy='most_frequent')\n",
    "houses[['SaleType']] = mean_imputer.fit_transform(houses[['SaleType']])"
   ]
  },
  {
   "cell_type": "code",
   "execution_count": 58,
   "id": "9e283d1d",
   "metadata": {},
   "outputs": [
    {
     "name": "stderr",
     "output_type": "stream",
     "text": [
      "/Users/pablofranciscomendozavargas/opt/anaconda3/lib/python3.9/site-packages/sklearn/impute/_base.py:49: FutureWarning: Unlike other reduction functions (e.g. `skew`, `kurtosis`), the default behavior of `mode` typically preserves the axis it acts along. In SciPy 1.11.0, this behavior will change: the default value of `keepdims` will become False, the `axis` over which the statistic is taken will be eliminated, and the value None will no longer be accepted. Set `keepdims` to True or False to avoid this warning.\n",
      "  mode = stats.mode(array)\n"
     ]
    }
   ],
   "source": [
    "mean_imputer = SimpleImputer(strategy='most_frequent')\n",
    "houses[['BsmtFinSF1']] = mean_imputer.fit_transform(houses[['BsmtFinSF1']])"
   ]
  },
  {
   "cell_type": "code",
   "execution_count": 59,
   "id": "5c1eb51c",
   "metadata": {},
   "outputs": [
    {
     "name": "stderr",
     "output_type": "stream",
     "text": [
      "/Users/pablofranciscomendozavargas/opt/anaconda3/lib/python3.9/site-packages/sklearn/impute/_base.py:49: FutureWarning: Unlike other reduction functions (e.g. `skew`, `kurtosis`), the default behavior of `mode` typically preserves the axis it acts along. In SciPy 1.11.0, this behavior will change: the default value of `keepdims` will become False, the `axis` over which the statistic is taken will be eliminated, and the value None will no longer be accepted. Set `keepdims` to True or False to avoid this warning.\n",
      "  mode = stats.mode(array)\n"
     ]
    }
   ],
   "source": [
    "mean_imputer = SimpleImputer(strategy='most_frequent')\n",
    "houses[['BsmtFinSF2']] = mean_imputer.fit_transform(houses[['BsmtFinSF2']])"
   ]
  },
  {
   "cell_type": "code",
   "execution_count": 60,
   "id": "86bba76c",
   "metadata": {},
   "outputs": [
    {
     "name": "stderr",
     "output_type": "stream",
     "text": [
      "/Users/pablofranciscomendozavargas/opt/anaconda3/lib/python3.9/site-packages/sklearn/impute/_base.py:49: FutureWarning: Unlike other reduction functions (e.g. `skew`, `kurtosis`), the default behavior of `mode` typically preserves the axis it acts along. In SciPy 1.11.0, this behavior will change: the default value of `keepdims` will become False, the `axis` over which the statistic is taken will be eliminated, and the value None will no longer be accepted. Set `keepdims` to True or False to avoid this warning.\n",
      "  mode = stats.mode(array)\n"
     ]
    }
   ],
   "source": [
    "mean_imputer = SimpleImputer(strategy='most_frequent')\n",
    "houses[['BsmtUnfSF']] = mean_imputer.fit_transform(houses[['BsmtUnfSF']])"
   ]
  },
  {
   "cell_type": "code",
   "execution_count": 61,
   "id": "15d1872c",
   "metadata": {},
   "outputs": [
    {
     "name": "stderr",
     "output_type": "stream",
     "text": [
      "/Users/pablofranciscomendozavargas/opt/anaconda3/lib/python3.9/site-packages/sklearn/impute/_base.py:49: FutureWarning: Unlike other reduction functions (e.g. `skew`, `kurtosis`), the default behavior of `mode` typically preserves the axis it acts along. In SciPy 1.11.0, this behavior will change: the default value of `keepdims` will become False, the `axis` over which the statistic is taken will be eliminated, and the value None will no longer be accepted. Set `keepdims` to True or False to avoid this warning.\n",
      "  mode = stats.mode(array)\n"
     ]
    }
   ],
   "source": [
    "mean_imputer = SimpleImputer(strategy='most_frequent')\n",
    "houses[['GarageArea']] = mean_imputer.fit_transform(houses[['GarageArea']])"
   ]
  },
  {
   "cell_type": "code",
   "execution_count": null,
   "id": "e43fb50a",
   "metadata": {},
   "outputs": [],
   "source": []
  },
  {
   "cell_type": "code",
   "execution_count": 62,
   "id": "7ef1a10d",
   "metadata": {},
   "outputs": [
    {
     "data": {
      "text/plain": [
       "2919"
      ]
     },
     "execution_count": 62,
     "metadata": {},
     "output_type": "execute_result"
    }
   ],
   "source": [
    "len(houses)"
   ]
  },
  {
   "cell_type": "code",
   "execution_count": 63,
   "id": "c5c9307d",
   "metadata": {},
   "outputs": [
    {
     "data": {
      "text/plain": [
       "1459"
      ]
     },
     "execution_count": 63,
     "metadata": {},
     "output_type": "execute_result"
    }
   ],
   "source": [
    "houses['SalePrice'].isna().sum()"
   ]
  },
  {
   "cell_type": "markdown",
   "id": "54e15ef5",
   "metadata": {},
   "source": [
    "#### Feature Engineering"
   ]
  },
  {
   "cell_type": "code",
   "execution_count": 64,
   "id": "a5931758",
   "metadata": {},
   "outputs": [],
   "source": [
    "houses['TotalArea'] = houses['1stFlrSF'] + houses['2ndFlrSF'] + houses['TotalBsmtSF']"
   ]
  },
  {
   "cell_type": "code",
   "execution_count": 65,
   "id": "9ef6a1b6",
   "metadata": {},
   "outputs": [],
   "source": [
    "houses['GardenArea'] = houses['LotArea'] - houses['1stFlrSF']"
   ]
  },
  {
   "cell_type": "code",
   "execution_count": 66,
   "id": "76901571",
   "metadata": {},
   "outputs": [],
   "source": [
    "houses['TotalBath'] = houses['FullBath'] + houses['HalfBath']"
   ]
  },
  {
   "cell_type": "code",
   "execution_count": 67,
   "id": "800d1fe7",
   "metadata": {},
   "outputs": [],
   "source": [
    "houses.drop(['1stFlrSF', '2ndFlrSF', 'TotalBsmtSF', 'LotArea', 'FullBath', 'HalfBath'], axis=1, inplace=True)"
   ]
  },
  {
   "cell_type": "code",
   "execution_count": null,
   "id": "adfab5b5",
   "metadata": {},
   "outputs": [],
   "source": []
  },
  {
   "cell_type": "code",
   "execution_count": null,
   "id": "72a40554",
   "metadata": {},
   "outputs": [],
   "source": []
  },
  {
   "cell_type": "code",
   "execution_count": null,
   "id": "8ec3809b",
   "metadata": {},
   "outputs": [],
   "source": []
  },
  {
   "cell_type": "markdown",
   "id": "f21b3476",
   "metadata": {},
   "source": [
    "#### One Hot Encoding"
   ]
  },
  {
   "cell_type": "code",
   "execution_count": 68,
   "id": "cb0fe26d",
   "metadata": {},
   "outputs": [
    {
     "data": {
      "text/plain": [
       "(2919, 79)"
      ]
     },
     "execution_count": 68,
     "metadata": {},
     "output_type": "execute_result"
    }
   ],
   "source": [
    "houses.shape"
   ]
  },
  {
   "cell_type": "code",
   "execution_count": 69,
   "id": "30333b54",
   "metadata": {},
   "outputs": [],
   "source": [
    "ohe = pd.get_dummies(houses['LotShape'], prefix='LotShape')\n",
    "houses = pd.concat([houses,ohe], axis=1)"
   ]
  },
  {
   "cell_type": "code",
   "execution_count": 70,
   "id": "4054a12b",
   "metadata": {},
   "outputs": [],
   "source": [
    "houses.drop('LotShape', axis=1, inplace=True)"
   ]
  },
  {
   "cell_type": "code",
   "execution_count": 71,
   "id": "f96d7d10",
   "metadata": {},
   "outputs": [],
   "source": [
    "ohe = pd.get_dummies(houses['LandContour'], prefix='LandContour')\n",
    "houses = pd.concat([houses,ohe], axis=1)"
   ]
  },
  {
   "cell_type": "code",
   "execution_count": 72,
   "id": "cc0af14a",
   "metadata": {},
   "outputs": [],
   "source": [
    "houses.drop('LandContour', axis=1, inplace=True)"
   ]
  },
  {
   "cell_type": "code",
   "execution_count": 73,
   "id": "f27ef03a",
   "metadata": {},
   "outputs": [],
   "source": [
    "ohe = pd.get_dummies(houses['LotConfig'], prefix='LotConfig')\n",
    "houses = pd.concat([houses,ohe], axis=1)"
   ]
  },
  {
   "cell_type": "code",
   "execution_count": 74,
   "id": "0f300ad2",
   "metadata": {},
   "outputs": [],
   "source": [
    "houses.drop('LotConfig', axis=1, inplace=True)"
   ]
  },
  {
   "cell_type": "code",
   "execution_count": 75,
   "id": "eca799ab",
   "metadata": {},
   "outputs": [],
   "source": [
    "ohe = pd.get_dummies(houses['LandSlope'], prefix='LandSlope')\n",
    "houses = pd.concat([houses,ohe], axis=1)"
   ]
  },
  {
   "cell_type": "code",
   "execution_count": 76,
   "id": "183ef45a",
   "metadata": {},
   "outputs": [],
   "source": [
    "houses.drop('LandSlope', axis=1, inplace=True)"
   ]
  },
  {
   "cell_type": "code",
   "execution_count": 77,
   "id": "daf38ce4",
   "metadata": {},
   "outputs": [],
   "source": [
    "ohe = pd.get_dummies(houses['Neighborhood'], prefix='Neighborhood')\n",
    "houses = pd.concat([houses,ohe], axis=1)"
   ]
  },
  {
   "cell_type": "code",
   "execution_count": 78,
   "id": "d8ec4415",
   "metadata": {},
   "outputs": [],
   "source": [
    "houses.drop('Neighborhood', axis=1, inplace=True)"
   ]
  },
  {
   "cell_type": "code",
   "execution_count": 79,
   "id": "3c548894",
   "metadata": {},
   "outputs": [],
   "source": [
    "ohe = pd.get_dummies(houses['Condition1'], prefix='Condition1')\n",
    "houses = pd.concat([houses,ohe], axis=1)"
   ]
  },
  {
   "cell_type": "code",
   "execution_count": 80,
   "id": "47c3514e",
   "metadata": {},
   "outputs": [],
   "source": [
    "houses.drop('Condition1', axis=1, inplace=True)"
   ]
  },
  {
   "cell_type": "code",
   "execution_count": 81,
   "id": "340b19ef",
   "metadata": {},
   "outputs": [],
   "source": [
    "ohe = pd.get_dummies(houses['Condition2'], prefix='Condition2')\n",
    "houses = pd.concat([houses,ohe], axis=1)"
   ]
  },
  {
   "cell_type": "code",
   "execution_count": 82,
   "id": "9aea3050",
   "metadata": {},
   "outputs": [],
   "source": [
    "houses.drop('Condition2', axis=1, inplace=True)"
   ]
  },
  {
   "cell_type": "code",
   "execution_count": 83,
   "id": "fb7e5cd0",
   "metadata": {},
   "outputs": [],
   "source": [
    "ohe = pd.get_dummies(houses['BldgType'], prefix='BldgType')\n",
    "houses = pd.concat([houses,ohe], axis=1)"
   ]
  },
  {
   "cell_type": "code",
   "execution_count": 84,
   "id": "43e4f8ef",
   "metadata": {},
   "outputs": [],
   "source": [
    "houses.drop('BldgType', axis=1, inplace=True)"
   ]
  },
  {
   "cell_type": "code",
   "execution_count": 85,
   "id": "8234e93e",
   "metadata": {},
   "outputs": [],
   "source": [
    "ohe = pd.get_dummies(houses['HouseStyle'], prefix='HouseStyle')\n",
    "houses = pd.concat([houses,ohe], axis=1)"
   ]
  },
  {
   "cell_type": "code",
   "execution_count": 86,
   "id": "d578f7bf",
   "metadata": {},
   "outputs": [],
   "source": [
    "houses.drop('HouseStyle', axis=1, inplace=True)"
   ]
  },
  {
   "cell_type": "code",
   "execution_count": 87,
   "id": "21da4725",
   "metadata": {},
   "outputs": [],
   "source": [
    "ohe = pd.get_dummies(houses['RoofStyle'], prefix='RoofStyle')\n",
    "houses = pd.concat([houses,ohe], axis=1)"
   ]
  },
  {
   "cell_type": "code",
   "execution_count": 88,
   "id": "0b74ca1b",
   "metadata": {},
   "outputs": [],
   "source": [
    "houses.drop('RoofStyle', axis=1, inplace=True)"
   ]
  },
  {
   "cell_type": "code",
   "execution_count": 89,
   "id": "7d1bfdc2",
   "metadata": {},
   "outputs": [],
   "source": [
    "ohe = pd.get_dummies(houses['RoofMatl'], prefix='RoofMatl')\n",
    "houses = pd.concat([houses,ohe], axis=1)"
   ]
  },
  {
   "cell_type": "code",
   "execution_count": 90,
   "id": "ae2c8f18",
   "metadata": {},
   "outputs": [],
   "source": [
    "houses.drop('RoofMatl', axis=1, inplace=True)"
   ]
  },
  {
   "cell_type": "code",
   "execution_count": 91,
   "id": "32bd239c",
   "metadata": {},
   "outputs": [],
   "source": [
    "ohe = pd.get_dummies(houses['Foundation'], prefix='Foundation')\n",
    "houses = pd.concat([houses,ohe], axis=1)"
   ]
  },
  {
   "cell_type": "code",
   "execution_count": 92,
   "id": "ab10d09e",
   "metadata": {},
   "outputs": [],
   "source": [
    "houses.drop('Foundation', axis=1, inplace=True)"
   ]
  },
  {
   "cell_type": "code",
   "execution_count": 93,
   "id": "a77937d5",
   "metadata": {},
   "outputs": [],
   "source": [
    "ohe = pd.get_dummies(houses['Heating'], prefix='Heating')\n",
    "houses = pd.concat([houses,ohe], axis=1)"
   ]
  },
  {
   "cell_type": "code",
   "execution_count": 94,
   "id": "72ca199a",
   "metadata": {},
   "outputs": [],
   "source": [
    "houses.drop('Heating', axis=1, inplace=True)"
   ]
  },
  {
   "cell_type": "code",
   "execution_count": 95,
   "id": "81b7bbca",
   "metadata": {},
   "outputs": [],
   "source": [
    "ohe = pd.get_dummies(houses['PavedDrive'], prefix='PavedDrive')\n",
    "houses = pd.concat([houses,ohe], axis=1)"
   ]
  },
  {
   "cell_type": "code",
   "execution_count": 96,
   "id": "39332e1c",
   "metadata": {},
   "outputs": [],
   "source": [
    "houses.drop('PavedDrive', axis=1, inplace=True)"
   ]
  },
  {
   "cell_type": "code",
   "execution_count": 97,
   "id": "ed1dd623",
   "metadata": {},
   "outputs": [],
   "source": [
    "ohe = pd.get_dummies(houses['MSZoning'], prefix='MSZoning')\n",
    "houses = pd.concat([houses,ohe], axis=1)"
   ]
  },
  {
   "cell_type": "code",
   "execution_count": 98,
   "id": "9c95df2d",
   "metadata": {},
   "outputs": [],
   "source": [
    "houses.drop('MSZoning', axis=1, inplace=True)"
   ]
  },
  {
   "cell_type": "code",
   "execution_count": 99,
   "id": "328017aa",
   "metadata": {},
   "outputs": [],
   "source": [
    "ohe = pd.get_dummies(houses['Alley'], prefix='Alley')\n",
    "houses = pd.concat([houses,ohe], axis=1)"
   ]
  },
  {
   "cell_type": "code",
   "execution_count": 100,
   "id": "b6c10290",
   "metadata": {},
   "outputs": [],
   "source": [
    "houses.drop('Alley', axis=1, inplace=True)"
   ]
  },
  {
   "cell_type": "code",
   "execution_count": 101,
   "id": "a15a6921",
   "metadata": {},
   "outputs": [],
   "source": [
    "ohe = pd.get_dummies(houses['Exterior1st'], prefix='Exterior1st')\n",
    "houses = pd.concat([houses,ohe], axis=1)"
   ]
  },
  {
   "cell_type": "code",
   "execution_count": 102,
   "id": "7902d37c",
   "metadata": {},
   "outputs": [],
   "source": [
    "houses.drop('Exterior1st', axis=1, inplace=True)"
   ]
  },
  {
   "cell_type": "code",
   "execution_count": 103,
   "id": "75d0e2ee",
   "metadata": {},
   "outputs": [],
   "source": [
    "ohe = pd.get_dummies(houses['Exterior2nd'], prefix='Exterior2nd')\n",
    "houses = pd.concat([houses,ohe], axis=1)"
   ]
  },
  {
   "cell_type": "code",
   "execution_count": 104,
   "id": "a6404605",
   "metadata": {},
   "outputs": [],
   "source": [
    "houses.drop('Exterior2nd', axis=1, inplace=True)"
   ]
  },
  {
   "cell_type": "code",
   "execution_count": 105,
   "id": "fdef7e18",
   "metadata": {},
   "outputs": [],
   "source": [
    "ohe = pd.get_dummies(houses['MasVnrType'], prefix='MasVnrType')\n",
    "houses = pd.concat([houses,ohe], axis=1)"
   ]
  },
  {
   "cell_type": "code",
   "execution_count": 106,
   "id": "e96638af",
   "metadata": {},
   "outputs": [],
   "source": [
    "houses.drop('MasVnrType', axis=1, inplace=True)"
   ]
  },
  {
   "cell_type": "code",
   "execution_count": 107,
   "id": "306f87a7",
   "metadata": {},
   "outputs": [],
   "source": [
    "ohe = pd.get_dummies(houses['BsmtQual'], prefix='BsmtQual')\n",
    "houses = pd.concat([houses,ohe], axis=1)"
   ]
  },
  {
   "cell_type": "code",
   "execution_count": 108,
   "id": "45966fe6",
   "metadata": {},
   "outputs": [],
   "source": [
    "houses.drop('BsmtQual', axis=1, inplace=True)"
   ]
  },
  {
   "cell_type": "code",
   "execution_count": 109,
   "id": "f2e16be4",
   "metadata": {},
   "outputs": [],
   "source": [
    "ohe = pd.get_dummies(houses['BsmtCond'], prefix='BsmtCond')\n",
    "houses = pd.concat([houses,ohe], axis=1)"
   ]
  },
  {
   "cell_type": "code",
   "execution_count": 110,
   "id": "a928e134",
   "metadata": {},
   "outputs": [],
   "source": [
    "houses.drop('BsmtCond', axis=1, inplace=True)"
   ]
  },
  {
   "cell_type": "code",
   "execution_count": 111,
   "id": "e8aacfdd",
   "metadata": {},
   "outputs": [],
   "source": [
    "ohe = pd.get_dummies(houses['BsmtExposure'], prefix='BsmtExposure')\n",
    "houses = pd.concat([houses,ohe], axis=1)"
   ]
  },
  {
   "cell_type": "code",
   "execution_count": 112,
   "id": "ce19e76a",
   "metadata": {},
   "outputs": [],
   "source": [
    "houses.drop('BsmtExposure', axis=1, inplace=True)"
   ]
  },
  {
   "cell_type": "code",
   "execution_count": 113,
   "id": "f38dfbb0",
   "metadata": {},
   "outputs": [],
   "source": [
    "ohe = pd.get_dummies(houses['BsmtFinType1'], prefix='BsmtFinType1')\n",
    "houses = pd.concat([houses,ohe], axis=1)"
   ]
  },
  {
   "cell_type": "code",
   "execution_count": 114,
   "id": "dc2e5402",
   "metadata": {},
   "outputs": [],
   "source": [
    "houses.drop('BsmtFinType1', axis=1, inplace=True)"
   ]
  },
  {
   "cell_type": "code",
   "execution_count": 115,
   "id": "41a85c70",
   "metadata": {},
   "outputs": [],
   "source": [
    "ohe = pd.get_dummies(houses['BsmtFinType2'], prefix='BsmtFinType2')\n",
    "houses = pd.concat([houses,ohe], axis=1)"
   ]
  },
  {
   "cell_type": "code",
   "execution_count": 116,
   "id": "9c70fa90",
   "metadata": {},
   "outputs": [],
   "source": [
    "houses.drop('BsmtFinType2', axis=1, inplace=True)"
   ]
  },
  {
   "cell_type": "code",
   "execution_count": 117,
   "id": "6d3b4f75",
   "metadata": {},
   "outputs": [],
   "source": [
    "ohe = pd.get_dummies(houses['Electrical'], prefix='Electrical')\n",
    "houses = pd.concat([houses,ohe], axis=1)"
   ]
  },
  {
   "cell_type": "code",
   "execution_count": 118,
   "id": "9ed2fe5f",
   "metadata": {},
   "outputs": [],
   "source": [
    "houses.drop('Electrical', axis=1, inplace=True)"
   ]
  },
  {
   "cell_type": "code",
   "execution_count": 119,
   "id": "b78288aa",
   "metadata": {},
   "outputs": [],
   "source": [
    "ohe = pd.get_dummies(houses['KitchenQual'], prefix='KitchenQual')\n",
    "houses = pd.concat([houses,ohe], axis=1)"
   ]
  },
  {
   "cell_type": "code",
   "execution_count": 120,
   "id": "bdd6d43b",
   "metadata": {},
   "outputs": [],
   "source": [
    "houses.drop('KitchenQual', axis=1, inplace=True)"
   ]
  },
  {
   "cell_type": "code",
   "execution_count": 121,
   "id": "69d0e61a",
   "metadata": {},
   "outputs": [],
   "source": [
    "ohe = pd.get_dummies(houses['Functional'], prefix='Functional')\n",
    "houses = pd.concat([houses,ohe], axis=1)"
   ]
  },
  {
   "cell_type": "code",
   "execution_count": 122,
   "id": "8881831f",
   "metadata": {},
   "outputs": [],
   "source": [
    "houses.drop('Functional', axis=1, inplace=True)"
   ]
  },
  {
   "cell_type": "code",
   "execution_count": 123,
   "id": "f1b6e121",
   "metadata": {},
   "outputs": [],
   "source": [
    "ohe = pd.get_dummies(houses['FireplaceQu'], prefix='FireplaceQu')\n",
    "houses = pd.concat([houses,ohe], axis=1)"
   ]
  },
  {
   "cell_type": "code",
   "execution_count": 124,
   "id": "436b6bfe",
   "metadata": {},
   "outputs": [],
   "source": [
    "houses.drop('FireplaceQu', axis=1, inplace=True)"
   ]
  },
  {
   "cell_type": "code",
   "execution_count": 125,
   "id": "f1fbc87a",
   "metadata": {},
   "outputs": [],
   "source": [
    "ohe = pd.get_dummies(houses['GarageType'], prefix='GarageType')\n",
    "houses = pd.concat([houses,ohe], axis=1)"
   ]
  },
  {
   "cell_type": "code",
   "execution_count": 126,
   "id": "1427523b",
   "metadata": {},
   "outputs": [],
   "source": [
    "houses.drop('GarageType', axis=1, inplace=True)"
   ]
  },
  {
   "cell_type": "code",
   "execution_count": 127,
   "id": "2f7cc4da",
   "metadata": {},
   "outputs": [],
   "source": [
    "ohe = pd.get_dummies(houses['GarageFinish'], prefix='GarageFinish')\n",
    "houses = pd.concat([houses,ohe], axis=1)"
   ]
  },
  {
   "cell_type": "code",
   "execution_count": 128,
   "id": "e216dac1",
   "metadata": {},
   "outputs": [],
   "source": [
    "houses.drop('GarageFinish', axis=1, inplace=True)"
   ]
  },
  {
   "cell_type": "code",
   "execution_count": 129,
   "id": "db224565",
   "metadata": {},
   "outputs": [],
   "source": [
    "ohe = pd.get_dummies(houses['GarageQual'], prefix='GarageQual')\n",
    "houses = pd.concat([houses,ohe], axis=1)"
   ]
  },
  {
   "cell_type": "code",
   "execution_count": 130,
   "id": "677204ed",
   "metadata": {},
   "outputs": [],
   "source": [
    "houses.drop('GarageQual', axis=1, inplace=True)"
   ]
  },
  {
   "cell_type": "code",
   "execution_count": 131,
   "id": "ed9d8ab5",
   "metadata": {},
   "outputs": [],
   "source": [
    "ohe = pd.get_dummies(houses['MiscFeature'], prefix='MiscFeature')\n",
    "houses = pd.concat([houses,ohe], axis=1)"
   ]
  },
  {
   "cell_type": "code",
   "execution_count": 132,
   "id": "27ed2e0b",
   "metadata": {},
   "outputs": [],
   "source": [
    "houses.drop('MiscFeature', axis=1, inplace=True)"
   ]
  },
  {
   "cell_type": "code",
   "execution_count": 133,
   "id": "c70154d0",
   "metadata": {},
   "outputs": [],
   "source": [
    "ohe = pd.get_dummies(houses['SaleCondition'], prefix='SaleCondition')\n",
    "houses = pd.concat([houses,ohe], axis=1)"
   ]
  },
  {
   "cell_type": "code",
   "execution_count": 134,
   "id": "8d7e3f8b",
   "metadata": {},
   "outputs": [],
   "source": [
    "houses.drop('SaleCondition', axis=1, inplace=True)"
   ]
  },
  {
   "cell_type": "code",
   "execution_count": 135,
   "id": "8ddbb1ab",
   "metadata": {},
   "outputs": [],
   "source": [
    "ohe = pd.get_dummies(houses['GarageCond'], prefix='GarageCond')\n",
    "houses = pd.concat([houses,ohe], axis=1)"
   ]
  },
  {
   "cell_type": "code",
   "execution_count": 136,
   "id": "2d4f376f",
   "metadata": {},
   "outputs": [],
   "source": [
    "houses.drop('GarageCond', axis=1, inplace=True)"
   ]
  },
  {
   "cell_type": "code",
   "execution_count": 137,
   "id": "a29ee088",
   "metadata": {},
   "outputs": [],
   "source": [
    "ohe = pd.get_dummies(houses['PoolQC'], prefix='PoolQC')\n",
    "houses = pd.concat([houses,ohe], axis=1)"
   ]
  },
  {
   "cell_type": "code",
   "execution_count": 138,
   "id": "b7ebd5ac",
   "metadata": {},
   "outputs": [],
   "source": [
    "houses.drop('PoolQC', axis=1, inplace=True)"
   ]
  },
  {
   "cell_type": "code",
   "execution_count": 139,
   "id": "ee695048",
   "metadata": {},
   "outputs": [],
   "source": [
    "ohe = pd.get_dummies(houses['Fence'], prefix='Fence')\n",
    "houses = pd.concat([houses,ohe], axis=1)"
   ]
  },
  {
   "cell_type": "code",
   "execution_count": 140,
   "id": "1ab9f0ff",
   "metadata": {},
   "outputs": [],
   "source": [
    "houses.drop('Fence', axis=1, inplace=True)"
   ]
  },
  {
   "cell_type": "code",
   "execution_count": 141,
   "id": "47b35986",
   "metadata": {},
   "outputs": [],
   "source": [
    "ohe = pd.get_dummies(houses['SaleType'], prefix='SaleType')\n",
    "houses = pd.concat([houses,ohe], axis=1)"
   ]
  },
  {
   "cell_type": "code",
   "execution_count": 142,
   "id": "7d2bf606",
   "metadata": {},
   "outputs": [],
   "source": [
    "houses.drop('SaleType', axis=1, inplace=True)"
   ]
  },
  {
   "cell_type": "code",
   "execution_count": null,
   "id": "b8159767",
   "metadata": {},
   "outputs": [],
   "source": []
  },
  {
   "cell_type": "code",
   "execution_count": null,
   "id": "ad965d9c",
   "metadata": {},
   "outputs": [],
   "source": []
  },
  {
   "cell_type": "code",
   "execution_count": null,
   "id": "a895a0b1",
   "metadata": {},
   "outputs": [],
   "source": []
  },
  {
   "cell_type": "markdown",
   "id": "e7aacc56",
   "metadata": {},
   "source": [
    "#### Label Encoding"
   ]
  },
  {
   "cell_type": "code",
   "execution_count": 143,
   "id": "9e957aa5",
   "metadata": {},
   "outputs": [
    {
     "data": {
      "text/plain": [
       "array([1, 0])"
      ]
     },
     "execution_count": 143,
     "metadata": {},
     "output_type": "execute_result"
    }
   ],
   "source": [
    "le = LabelEncoder()\n",
    "houses['CentralAir'] = le.fit_transform(houses['CentralAir'])\n",
    "houses['CentralAir'].unique()"
   ]
  },
  {
   "cell_type": "code",
   "execution_count": 144,
   "id": "87d6aa71",
   "metadata": {},
   "outputs": [
    {
     "data": {
      "text/plain": [
       "array([1, 0])"
      ]
     },
     "execution_count": 144,
     "metadata": {},
     "output_type": "execute_result"
    }
   ],
   "source": [
    "le = LabelEncoder()\n",
    "houses['Street'] = le.fit_transform(houses['Street'])\n",
    "houses['Street'].unique()"
   ]
  },
  {
   "cell_type": "code",
   "execution_count": 145,
   "id": "f88b7446",
   "metadata": {},
   "outputs": [
    {
     "data": {
      "text/plain": [
       "array([0, 1])"
      ]
     },
     "execution_count": 145,
     "metadata": {},
     "output_type": "execute_result"
    }
   ],
   "source": [
    "le = LabelEncoder()\n",
    "houses['Utilities'] = le.fit_transform(houses['Utilities'])\n",
    "houses['Utilities'].unique()"
   ]
  },
  {
   "cell_type": "code",
   "execution_count": 146,
   "id": "7148a82d",
   "metadata": {},
   "outputs": [],
   "source": [
    "mapping = {'Ex': 5, 'Gd': 4, 'TA': 3, 'Fa': 2, 'Po':1}"
   ]
  },
  {
   "cell_type": "code",
   "execution_count": 147,
   "id": "e24750d6",
   "metadata": {},
   "outputs": [],
   "source": [
    "houses['ExterQual'] = houses['ExterQual'].replace(mapping)"
   ]
  },
  {
   "cell_type": "code",
   "execution_count": 148,
   "id": "6fc2a4d4",
   "metadata": {},
   "outputs": [],
   "source": [
    "houses['ExterCond'] = houses['ExterCond'].replace(mapping)"
   ]
  },
  {
   "cell_type": "code",
   "execution_count": 149,
   "id": "9bb1de7d",
   "metadata": {},
   "outputs": [],
   "source": [
    "houses['HeatingQC'] = houses['HeatingQC'].replace(mapping)"
   ]
  },
  {
   "cell_type": "code",
   "execution_count": 150,
   "id": "57a179f4",
   "metadata": {},
   "outputs": [
    {
     "data": {
      "text/plain": [
       "(2919, 276)"
      ]
     },
     "execution_count": 150,
     "metadata": {},
     "output_type": "execute_result"
    }
   ],
   "source": [
    "houses.shape"
   ]
  },
  {
   "cell_type": "code",
   "execution_count": null,
   "id": "33169ebe",
   "metadata": {},
   "outputs": [],
   "source": []
  },
  {
   "cell_type": "code",
   "execution_count": null,
   "id": "9fbaf847",
   "metadata": {},
   "outputs": [],
   "source": []
  },
  {
   "cell_type": "markdown",
   "id": "a56bf797",
   "metadata": {},
   "source": [
    "#### Features with little variance"
   ]
  },
  {
   "cell_type": "code",
   "execution_count": 151,
   "id": "bffcd5a3",
   "metadata": {},
   "outputs": [
    {
     "name": "stdout",
     "output_type": "stream",
     "text": [
      "3SsnPorch                 93.69\n",
      "Alley_Grvl                 0.03\n",
      "Alley_Pave                36.44\n",
      "BedroomAbvGr               0.08\n",
      "BldgType_1Fam              0.20\n",
      "BldgType_2fmCon           46.10\n",
      "BldgType_Duplex           25.79\n",
      "BldgType_Twnhs            29.42\n",
      "BldgType_TwnhsE           11.86\n",
      "BsmtCond_Fa               27.08\n",
      "BsmtCond_Gd               22.93\n",
      "BsmtCond_Po              583.00\n",
      "BsmtCond_TA                0.09\n",
      "BsmtExposure_Av            5.99\n",
      "BsmtExposure_Gd            9.58\n",
      "BsmtExposure_Mn           11.22\n",
      "BsmtExposure_No            0.47\n",
      "BsmtFinSF1                 1.07\n",
      "BsmtFinSF2                11.65\n",
      "BsmtFinType1_ALQ           5.81\n",
      "BsmtFinType1_BLQ           9.85\n",
      "BsmtFinType1_GLQ           2.44\n",
      "BsmtFinType1_LwQ          17.96\n",
      "BsmtFinType1_Rec           9.14\n",
      "BsmtFinType1_Unf           2.14\n",
      "BsmtFinType2_ALQ          55.15\n",
      "BsmtFinType2_BLQ          41.94\n",
      "BsmtFinType2_GLQ          84.88\n",
      "BsmtFinType2_LwQ          32.56\n",
      "BsmtFinType2_Rec          26.81\n",
      "BsmtFinType2_Unf           0.13\n",
      "BsmtFullBath               1.49\n",
      "BsmtHalfBath              16.04\n",
      "BsmtQual_Ex               10.32\n",
      "BsmtQual_Fa               32.18\n",
      "BsmtQual_Gd                1.41\n",
      "BsmtQual_TA                1.14\n",
      "BsmtUnfSF                  0.61\n",
      "CentralAir                 0.07\n",
      "Condition1_Artery         30.74\n",
      "Condition1_Feedr          16.80\n",
      "Condition1_Norm            0.16\n",
      "Condition1_PosA          145.00\n",
      "Condition1_PosN           73.87\n",
      "Condition1_RRAe          103.29\n",
      "Condition1_RRAn           57.40\n",
      "Condition1_RRNe          485.67\n",
      "Condition1_RRNn          323.44\n",
      "Condition2_Artery        583.00\n",
      "Condition2_Feedr         223.62\n",
      "Condition2_Norm            0.01\n",
      "Condition2_PosA          729.00\n",
      "Condition2_PosN          729.00\n",
      "Condition2_RRAe         2919.00\n",
      "Condition2_RRAn         2919.00\n",
      "Condition2_RRNn         1459.00\n",
      "Electrical_FuseA          14.53\n",
      "Electrical_FuseF          57.40\n",
      "Electrical_FuseP         364.00\n",
      "Electrical_Mix          2919.00\n",
      "Electrical_SBrkr           0.09\n",
      "EnclosedPorch              7.74\n",
      "ExterCond                  0.01\n",
      "ExterQual                  0.03\n",
      "Exterior1st_AsbShng       65.36\n",
      "Exterior1st_AsphShn     1459.00\n",
      "Exterior1st_BrkComm      485.67\n",
      "Exterior1st_BrkFace       32.56\n",
      "Exterior1st_CBlock      1459.00\n",
      "Exterior1st_CemntBd       22.17\n",
      "Exterior1st_HdBoard        5.61\n",
      "Exterior1st_ImStucc     2919.00\n",
      "Exterior1st_MetalSd        5.49\n",
      "Exterior1st_Plywood       12.21\n",
      "Exterior1st_Stone       1459.00\n",
      "Exterior1st_Stucco        66.91\n",
      "Exterior1st_VinylSd        1.85\n",
      "Exterior1st_Wd Sdng        6.10\n",
      "Exterior1st_WdShing       51.14\n",
      "Exterior2nd_AsbShng       75.84\n",
      "Exterior2nd_AsphShn      729.00\n",
      "Exterior2nd_Brk Cmn      131.73\n",
      "Exterior2nd_BrkFace       61.13\n",
      "Exterior2nd_CBlock       972.33\n",
      "Exterior2nd_CmentBd       22.17\n",
      "Exterior2nd_HdBoard        6.19\n",
      "Exterior2nd_ImStucc      193.67\n",
      "Exterior2nd_MetalSd        5.53\n",
      "Exterior2nd_Other       2919.00\n",
      "Exterior2nd_Plywood        9.81\n",
      "Exterior2nd_Stone        485.67\n",
      "Exterior2nd_Stucco        61.13\n",
      "Exterior2nd_VinylSd        1.88\n",
      "Exterior2nd_Wd Sdng        6.47\n",
      "Exterior2nd_Wd Shng       35.05\n",
      "Fence_GdPrv               23.75\n",
      "Fence_GdWo                25.07\n",
      "Fence_MnPrv                7.88\n",
      "Fence_MnWw               242.33\n",
      "Fence_missing_value        0.24\n",
      "FireplaceQu_Ex            66.91\n",
      "FireplaceQu_Fa            38.46\n",
      "FireplaceQu_Gd             0.35\n",
      "FireplaceQu_Po            62.48\n",
      "FireplaceQu_TA             3.93\n",
      "Fireplaces                 1.17\n",
      "Foundation_BrkTil          8.39\n",
      "Foundation_CBlock          1.36\n",
      "Foundation_PConc           1.23\n",
      "Foundation_Slab           58.59\n",
      "Foundation_Stone         264.45\n",
      "Foundation_Wood          583.00\n",
      "Functional_Maj1          152.68\n",
      "Functional_Maj2          323.44\n",
      "Functional_Min1           43.92\n",
      "Functional_Min2           40.71\n",
      "Functional_Mod            82.43\n",
      "Functional_Sev          1459.00\n",
      "Functional_Typ             0.07\n",
      "GarageArea                 0.21\n",
      "GarageCars                 0.19\n",
      "GarageCond_Ex            972.33\n",
      "GarageCond_Fa             38.46\n",
      "GarageCond_Gd            193.67\n",
      "GarageCond_Po            207.57\n",
      "GarageCond_TA              0.04\n",
      "GarageFinish_Fin           3.06\n",
      "GarageFinish_RFn           2.60\n",
      "GarageFinish_Unf           1.10\n",
      "GarageQual_Ex            972.33\n",
      "GarageQual_Fa             22.55\n",
      "GarageQual_Gd            120.67\n",
      "GarageQual_Po            583.00\n",
      "GarageQual_TA              0.06\n",
      "GarageType_2Types        125.96\n",
      "GarageType_Attchd          0.55\n",
      "GarageType_Basment        80.11\n",
      "GarageType_BuiltIn        14.70\n",
      "GarageType_CarPort       193.67\n",
      "GarageType_Detchd          2.75\n",
      "GarageYrBlt                0.00\n",
      "GardenArea                 0.74\n",
      "GrLivArea                  0.11\n",
      "HeatingQC                  0.05\n",
      "Heating_Floor           2919.00\n",
      "Heating_GasA               0.02\n",
      "Heating_GasW             107.15\n",
      "Heating_Grav             323.44\n",
      "Heating_OthW            1459.00\n",
      "Heating_Wall             485.67\n",
      "HouseStyle_1.5Fin          8.30\n",
      "HouseStyle_1.5Unf        152.68\n",
      "HouseStyle_1Story          0.98\n",
      "HouseStyle_2.5Fin        364.00\n",
      "HouseStyle_2.5Unf        120.67\n",
      "HouseStyle_2Story          2.35\n",
      "HouseStyle_SFoyer         34.18\n",
      "HouseStyle_SLvl           21.81\n",
      "Id                         0.33\n",
      "KitchenAbvGr               0.04\n",
      "KitchenQual_Ex            13.24\n",
      "KitchenQual_Fa            40.71\n",
      "KitchenQual_Gd             1.54\n",
      "KitchenQual_TA             0.96\n",
      "LandContour_Bnk           23.96\n",
      "LandContour_HLS           23.33\n",
      "LandContour_Low           47.67\n",
      "LandContour_Lvl            0.11\n",
      "LandSlope_Gtl              0.05\n",
      "LandSlope_Mod             22.36\n",
      "LandSlope_Sev            181.50\n",
      "LotConfig_Corner           4.71\n",
      "LotConfig_CulDSac         15.59\n",
      "LotConfig_FR2             33.35\n",
      "LotConfig_FR3            207.57\n",
      "LotConfig_Inside           0.37\n",
      "LotFrontage                0.10\n",
      "LotShape_IR1               2.02\n",
      "LotShape_IR2              37.42\n",
      "LotShape_IR3             181.50\n",
      "LotShape_Reg               0.57\n",
      "LowQualFinSF              97.68\n",
      "MSSubClass                 0.55\n",
      "MSZoning_C (all)         115.80\n",
      "MSZoning_FV               20.01\n",
      "MSZoning_RH              111.31\n",
      "MSZoning_RL                0.29\n",
      "MSZoning_RM                5.35\n",
      "MasVnrArea                 3.05\n",
      "MasVnrType_BrkCmn        115.80\n",
      "MasVnrType_BrkFace         2.32\n",
      "MasVnrType_None            0.65\n",
      "MasVnrType_Stone          10.73\n",
      "MiscFeature_Gar2         583.00\n",
      "MiscFeature_Othr         729.00\n",
      "MiscFeature_Shed           0.00\n",
      "MiscFeature_TenC        2919.00\n",
      "MiscVal                  124.63\n",
      "MoSold                     0.19\n",
      "Neighborhood_Blmngtn     103.29\n",
      "Neighborhood_Blueste     291.00\n",
      "Neighborhood_BrDale       96.33\n",
      "Neighborhood_BrkSide      26.04\n",
      "Neighborhood_ClearCr      65.36\n",
      "Neighborhood_CollgCr       9.94\n",
      "Neighborhood_Crawfor      27.35\n",
      "Neighborhood_Edwards      14.05\n",
      "Neighborhood_Gilbert      16.70\n",
      "Neighborhood_IDOTRR       30.40\n",
      "Neighborhood_MeadowV      77.92\n",
      "Neighborhood_Mitchel      24.61\n",
      "Neighborhood_NAmes         5.59\n",
      "Neighborhood_NPkVill     125.96\n",
      "Neighborhood_NWAmes       21.29\n",
      "Neighborhood_NoRidge      40.13\n",
      "Neighborhood_NridgHt      16.59\n",
      "Neighborhood_OldTown      11.22\n",
      "Neighborhood_SWISU        59.83\n",
      "Neighborhood_Sawyer       18.34\n",
      "Neighborhood_SawyerW      22.36\n",
      "Neighborhood_Somerst      15.04\n",
      "Neighborhood_StoneBr      56.25\n",
      "Neighborhood_Timber       39.56\n",
      "Neighborhood_Veenker     120.67\n",
      "OpenPorchSF                2.03\n",
      "OverallCond                0.04\n",
      "OverallQual                0.05\n",
      "PavedDrive_N              12.52\n",
      "PavedDrive_P              46.10\n",
      "PavedDrive_Y               0.11\n",
      "PoolArea                 250.84\n",
      "PoolQC_Ex                729.00\n",
      "PoolQC_Fa               1459.00\n",
      "PoolQC_Gd                729.00\n",
      "PoolQC_missing_value       0.00\n",
      "RoofMatl_ClyTile        2919.00\n",
      "RoofMatl_CompShg           0.01\n",
      "RoofMatl_Membran        2919.00\n",
      "RoofMatl_Metal          2919.00\n",
      "RoofMatl_Roll           2919.00\n",
      "RoofMatl_Tar&Grv         125.96\n",
      "RoofMatl_WdShake         323.44\n",
      "RoofMatl_WdShngl         416.14\n",
      "RoofStyle_Flat           145.00\n",
      "RoofStyle_Gable            0.26\n",
      "RoofStyle_Gambrel        131.73\n",
      "RoofStyle_Hip              4.30\n",
      "RoofStyle_Mansard        264.45\n",
      "RoofStyle_Shed           583.00\n",
      "SaleCondition_Abnorml     14.37\n",
      "SaleCondition_AdjLand    242.33\n",
      "SaleCondition_Alloca     120.67\n",
      "SaleCondition_Family      62.48\n",
      "SaleCondition_Normal       0.22\n",
      "SaleCondition_Partial     10.92\n",
      "SalePrice                  0.19\n",
      "SaleType_COD              32.56\n",
      "SaleType_CWD             242.33\n",
      "SaleType_Con             583.00\n",
      "SaleType_ConLD           111.31\n",
      "SaleType_ConLI           323.44\n",
      "SaleType_ConLw           364.00\n",
      "SaleType_New              11.22\n",
      "SaleType_Oth             416.14\n",
      "SaleType_WD                0.16\n",
      "ScreenPorch               12.24\n",
      "Street                     0.00\n",
      "TotRmsAbvGrd               0.06\n",
      "TotalArea                  0.10\n",
      "TotalBath                  0.17\n",
      "Type                        NaN\n",
      "Utilities               2919.00\n",
      "WoodDeckSF                 1.82\n",
      "YearBuilt                  0.00\n",
      "YearRemodAdd               0.00\n",
      "YrSold                     0.00\n",
      "dtype: float64\n"
     ]
    },
    {
     "name": "stderr",
     "output_type": "stream",
     "text": [
      "/var/folders/sq/dl_vqf5n05z5z05q_14d_wmw0000gn/T/ipykernel_55811/1724307616.py:2: FutureWarning: Dropping of nuisance columns in DataFrame reductions (with 'numeric_only=None') is deprecated; in a future version this will raise TypeError.  Select only valid columns before calling the reduction.\n",
      "  normalized_houses = houses / houses.mean()\n"
     ]
    }
   ],
   "source": [
    "pd.set_option('display.float_format', '{:.2f}'.format)\n",
    "normalized_houses = houses / houses.mean()\n",
    "pd.set_option('display.max_rows', len(normalized_houses))\n",
    "print(normalized_houses.var())"
   ]
  },
  {
   "cell_type": "code",
   "execution_count": 152,
   "id": "67ae9053",
   "metadata": {},
   "outputs": [],
   "source": [
    "no_dummies_column = [x for x in normalized_houses.columns if '_' not in x]"
   ]
  },
  {
   "cell_type": "code",
   "execution_count": 153,
   "id": "ec66e06d",
   "metadata": {},
   "outputs": [
    {
     "data": {
      "text/plain": [
       "42"
      ]
     },
     "execution_count": 153,
     "metadata": {},
     "output_type": "execute_result"
    }
   ],
   "source": [
    "len(no_dummies_column)"
   ]
  },
  {
   "cell_type": "code",
   "execution_count": 154,
   "id": "c032f645",
   "metadata": {},
   "outputs": [
    {
     "data": {
      "image/png": "[encoded data removed]",
      "text/plain": [
       "<Figure size 640x480 with 1 Axes>"
      ]
     },
     "metadata": {},
     "output_type": "display_data"
    },
    {
     "data": {
      "image/png": "[encoded data removed]",
      "text/plain": [
       "<Figure size 640x480 with 1 Axes>"
      ]
     },
     "metadata": {},
     "output_type": "display_data"
    },
    {
     "data": {
      "image/png": "[encoded data removed]",
      "text/plain": [
       "<Figure size 640x480 with 1 Axes>"
      ]
     },
     "metadata": {},
     "output_type": "display_data"
    },
    {
     "data": {
      "image/png": "[encoded data removed]",
      "text/plain": [
       "<Figure size 640x480 with 1 Axes>"
      ]
     },
     "metadata": {},
     "output_type": "display_data"
    },
    {
     "data": {
      "image/png": "[encoded data removed]",
      "text/plain": [
       "<Figure size 640x480 with 1 Axes>"
      ]
     },
     "metadata": {},
     "output_type": "display_data"
    },
    {
     "data": {
      "image/png": "[encoded data removed]",
      "text/plain": [
       "<Figure size 640x480 with 1 Axes>"
      ]
     },
     "metadata": {},
     "output_type": "display_data"
    },
    {
     "data": {
      "image/png": "[encoded data removed]",
      "text/plain": [
       "<Figure size 640x480 with 1 Axes>"
      ]
     },
     "metadata": {},
     "output_type": "display_data"
    },
    {
     "data": {
      "image/png": "[encoded data removed]",
      "text/plain": [
       "<Figure size 640x480 with 1 Axes>"
      ]
     },
     "metadata": {},
     "output_type": "display_data"
    },
    {
     "data": {
      "image/png": "[encoded data removed]",
      "text/plain": [
       "<Figure size 640x480 with 1 Axes>"
      ]
     },
     "metadata": {},
     "output_type": "display_data"
    },
    {
     "data": {
      "image/png": "[encoded data removed]",
      "text/plain": [
       "<Figure size 640x480 with 1 Axes>"
      ]
     },
     "metadata": {},
     "output_type": "display_data"
    },
    {
     "data": {
      "image/png": "[encoded data removed]",
      "text/plain": [
       "<Figure size 640x480 with 1 Axes>"
      ]
     },
     "metadata": {},
     "output_type": "display_data"
    },
    {
     "data": {
      "image/png": "[encoded data removed]",
      "text/plain": [
       "<Figure size 640x480 with 1 Axes>"
      ]
     },
     "metadata": {},
     "output_type": "display_data"
    },
    {
     "data": {
      "image/png": "[encoded data removed]",
      "text/plain": [
       "<Figure size 640x480 with 1 Axes>"
      ]
     },
     "metadata": {},
     "output_type": "display_data"
    },
    {
     "data": {
      "image/png": "[encoded data removed]",
      "text/plain": [
       "<Figure size 640x480 with 1 Axes>"
      ]
     },
     "metadata": {},
     "output_type": "display_data"
    },
    {
     "data": {
      "image/png": "[encoded data removed]",
      "text/plain": [
       "<Figure size 640x480 with 1 Axes>"
      ]
     },
     "metadata": {},
     "output_type": "display_data"
    },
    {
     "data": {
      "image/png": "[encoded data removed]",
      "text/plain": [
       "<Figure size 640x480 with 1 Axes>"
      ]
     },
     "metadata": {},
     "output_type": "display_data"
    },
    {
     "data": {
      "image/png": "[encoded data removed]",
      "text/plain": [
       "<Figure size 640x480 with 1 Axes>"
      ]
     },
     "metadata": {},
     "output_type": "display_data"
    },
    {
     "data": {
      "image/png": "[encoded data removed]",
      "text/plain": [
       "<Figure size 640x480 with 1 Axes>"
      ]
     },
     "metadata": {},
     "output_type": "display_data"
    },
    {
     "data": {
      "image/png": "[encoded data removed]",
      "text/plain": [
       "<Figure size 640x480 with 1 Axes>"
      ]
     },
     "metadata": {},
     "output_type": "display_data"
    },
    {
     "data": {
      "image/png": "[encoded data removed]",
      "text/plain": [
       "<Figure size 640x480 with 1 Axes>"
      ]
     },
     "metadata": {},
     "output_type": "display_data"
    },
    {
     "data": {
      "image/png": "[encoded data removed]",
      "text/plain": [
       "<Figure size 640x480 with 1 Axes>"
      ]
     },
     "metadata": {},
     "output_type": "display_data"
    },
    {
     "data": {
      "image/png": "[encoded data removed]",
      "text/plain": [
       "<Figure size 640x480 with 1 Axes>"
      ]
     },
     "metadata": {},
     "output_type": "display_data"
    },
    {
     "data": {
      "image/png": "[encoded data removed]",
      "text/plain": [
       "<Figure size 640x480 with 1 Axes>"
      ]
     },
     "metadata": {},
     "output_type": "display_data"
    },
    {
     "data": {
      "image/png": "[encoded data removed]",
      "text/plain": [
       "<Figure size 640x480 with 1 Axes>"
      ]
     },
     "metadata": {},
     "output_type": "display_data"
    },
    {
     "data": {
      "image/png": "[encoded data removed]",
      "text/plain": [
       "<Figure size 640x480 with 1 Axes>"
      ]
     },
     "metadata": {},
     "output_type": "display_data"
    },
    {
     "data": {
      "image/png": "[encoded data removed]",
      "text/plain": [
       "<Figure size 640x480 with 1 Axes>"
      ]
     },
     "metadata": {},
     "output_type": "display_data"
    },
    {
     "data": {
      "image/png": "[encoded data removed]",
      "text/plain": [
       "<Figure size 640x480 with 1 Axes>"
      ]
     },
     "metadata": {},
     "output_type": "display_data"
    },
    {
     "data": {
      "image/png": "[encoded data removed]",
      "text/plain": [
       "<Figure size 640x480 with 1 Axes>"
      ]
     },
     "metadata": {},
     "output_type": "display_data"
    },
    {
     "data": {
      "image/png": "[encoded data removed]",
      "text/plain": [
       "<Figure size 640x480 with 1 Axes>"
      ]
     },
     "metadata": {},
     "output_type": "display_data"
    },
    {
     "data": {
      "image/png": "[encoded data removed]",
      "text/plain": [
       "<Figure size 640x480 with 1 Axes>"
      ]
     },
     "metadata": {},
     "output_type": "display_data"
    },
    {
     "data": {
      "image/png": "[encoded data removed]",
      "text/plain": [
       "<Figure size 640x480 with 1 Axes>"
      ]
     },
     "metadata": {},
     "output_type": "display_data"
    },
    {
     "data": {
      "image/png": "[encoded data removed]",
      "text/plain": [
       "<Figure size 640x480 with 1 Axes>"
      ]
     },
     "metadata": {},
     "output_type": "display_data"
    },
    {
     "data": {
      "image/png": "[encoded data removed]",
      "text/plain": [
       "<Figure size 640x480 with 1 Axes>"
      ]
     },
     "metadata": {},
     "output_type": "display_data"
    },
    {
     "data": {
      "image/png": "[encoded data removed]",
      "text/plain": [
       "<Figure size 640x480 with 1 Axes>"
      ]
     },
     "metadata": {},
     "output_type": "display_data"
    },
    {
     "data": {
      "image/png": "[encoded data removed]",
      "text/plain": [
       "<Figure size 640x480 with 1 Axes>"
      ]
     },
     "metadata": {},
     "output_type": "display_data"
    },
    {
     "data": {
      "image/png": "[encoded data removed]",
      "text/plain": [
       "<Figure size 640x480 with 1 Axes>"
      ]
     },
     "metadata": {},
     "output_type": "display_data"
    },
    {
     "data": {
      "image/png": "[encoded data removed]",
      "text/plain": [
       "<Figure size 640x480 with 1 Axes>"
      ]
     },
     "metadata": {},
     "output_type": "display_data"
    },
    {
     "data": {
      "image/png": "[encoded data removed]",
      "text/plain": [
       "<Figure size 640x480 with 1 Axes>"
      ]
     },
     "metadata": {},
     "output_type": "display_data"
    },
    {
     "data": {
      "image/png": "[encoded data removed]",
      "text/plain": [
       "<Figure size 640x480 with 1 Axes>"
      ]
     },
     "metadata": {},
     "output_type": "display_data"
    },
    {
     "data": {
      "image/png": "[encoded data removed]",
      "text/plain": [
       "<Figure size 640x480 with 1 Axes>"
      ]
     },
     "metadata": {},
     "output_type": "display_data"
    },
    {
     "data": {
      "image/png": "[encoded data removed]",
      "text/plain": [
       "<Figure size 640x480 with 1 Axes>"
      ]
     },
     "metadata": {},
     "output_type": "display_data"
    },
    {
     "data": {
      "image/png": "[encoded data removed]",
      "text/plain": [
       "<Figure size 640x480 with 1 Axes>"
      ]
     },
     "metadata": {},
     "output_type": "display_data"
    }
   ],
   "source": [
    "for column in no_dummies_column:\n",
    "    plt.figure()\n",
    "    normalized_houses[column].plot.box()\n",
    "    plt.title(f'Box Plot of {column}')\n",
    "    plt.show()"
   ]
  },
  {
   "cell_type": "code",
   "execution_count": 155,
   "id": "39b7cd6a",
   "metadata": {},
   "outputs": [
    {
     "name": "stdout",
     "output_type": "stream",
     "text": [
      "2008.00\n",
      "2007.00\n",
      "2006.00\n",
      "2009.00\n",
      "2010.00\n"
     ]
    }
   ],
   "source": [
    "unique_values = houses['YrSold'].unique()\n",
    "\n",
    "# Format the unique values with a specific number of decimal places\n",
    "formatted_values = [\"{:.2f}\".format(value) for value in unique_values]\n",
    "\n",
    "for value in formatted_values:\n",
    "    print(value)\n"
   ]
  },
  {
   "cell_type": "markdown",
   "id": "e03ca8b7",
   "metadata": {},
   "source": [
    "#### Visualizing the correlation"
   ]
  },
  {
   "cell_type": "code",
   "execution_count": 156,
   "id": "942ccf7f",
   "metadata": {},
   "outputs": [],
   "source": [
    "houses_cor = houses[no_dummies_column]"
   ]
  },
  {
   "cell_type": "code",
   "execution_count": 157,
   "id": "2016a238",
   "metadata": {},
   "outputs": [
    {
     "data": {
      "text/html": [
       "<div>\n",
       "<style scoped>\n",
       "    .dataframe tbody tr th:only-of-type {\n",
       "        vertical-align: middle;\n",
       "    }\n",
       "\n",
       "    .dataframe tbody tr th {\n",
       "        vertical-align: top;\n",
       "    }\n",
       "\n",
       "    .dataframe thead th {\n",
       "        text-align: right;\n",
       "    }\n",
       "</style>\n",
       "<table border=\"1\" class=\"dataframe\">\n",
       "  <thead>\n",
       "    <tr style=\"text-align: right;\">\n",
       "      <th></th>\n",
       "      <th>Column1</th>\n",
       "      <th>Column2</th>\n",
       "      <th>Correlation</th>\n",
       "    </tr>\n",
       "  </thead>\n",
       "  <tbody>\n",
       "    <tr>\n",
       "      <th>0</th>\n",
       "      <td>GarageArea</td>\n",
       "      <td>GarageCars</td>\n",
       "      <td>0.89</td>\n",
       "    </tr>\n",
       "    <tr>\n",
       "      <th>1</th>\n",
       "      <td>GarageCars</td>\n",
       "      <td>GarageArea</td>\n",
       "      <td>0.89</td>\n",
       "    </tr>\n",
       "    <tr>\n",
       "      <th>2</th>\n",
       "      <td>GrLivArea</td>\n",
       "      <td>TotRmsAbvGrd</td>\n",
       "      <td>0.81</td>\n",
       "    </tr>\n",
       "    <tr>\n",
       "      <th>3</th>\n",
       "      <td>GrLivArea</td>\n",
       "      <td>TotalArea</td>\n",
       "      <td>0.87</td>\n",
       "    </tr>\n",
       "    <tr>\n",
       "      <th>4</th>\n",
       "      <td>TotRmsAbvGrd</td>\n",
       "      <td>GrLivArea</td>\n",
       "      <td>0.81</td>\n",
       "    </tr>\n",
       "    <tr>\n",
       "      <th>5</th>\n",
       "      <td>TotalArea</td>\n",
       "      <td>GrLivArea</td>\n",
       "      <td>0.87</td>\n",
       "    </tr>\n",
       "  </tbody>\n",
       "</table>\n",
       "</div>"
      ],
      "text/plain": [
       "        Column1       Column2  Correlation\n",
       "0    GarageArea    GarageCars         0.89\n",
       "1    GarageCars    GarageArea         0.89\n",
       "2     GrLivArea  TotRmsAbvGrd         0.81\n",
       "3     GrLivArea     TotalArea         0.87\n",
       "4  TotRmsAbvGrd     GrLivArea         0.81\n",
       "5     TotalArea     GrLivArea         0.87"
      ]
     },
     "execution_count": 157,
     "metadata": {},
     "output_type": "execute_result"
    }
   ],
   "source": [
    "correlation_matrix = houses_cor.corr()\n",
    "\n",
    "high_correlation_data = []\n",
    "threshold = 0.8\n",
    "\n",
    "for column in correlation_matrix.columns:\n",
    "    correlated_columns = correlation_matrix.index[correlation_matrix[column] > threshold].tolist()\n",
    "    correlated_columns.remove(column)\n",
    "    correlated_values = correlation_matrix[column][correlated_columns].tolist()\n",
    "    high_correlation_data.extend([(column, corr_column, corr_value) for corr_column, corr_value in zip(correlated_columns, correlated_values)])\n",
    "\n",
    "high_correlation_df = pd.DataFrame(high_correlation_data, columns=['Column1', 'Column2', 'Correlation'])\n",
    "\n",
    "high_correlation_df"
   ]
  },
  {
   "cell_type": "code",
   "execution_count": 158,
   "id": "1301c083",
   "metadata": {},
   "outputs": [
    {
     "data": {
      "image/png": "[encoded data removed]",
      "text/plain": [
       "<Figure size 640x480 with 1 Axes>"
      ]
     },
     "metadata": {},
     "output_type": "display_data"
    }
   ],
   "source": [
    "sns.scatterplot(x='GarageArea',y='GarageCars',data=houses_cor)\n",
    "plt.show()"
   ]
  },
  {
   "cell_type": "code",
   "execution_count": 159,
   "id": "07edb7f4",
   "metadata": {},
   "outputs": [
    {
     "data": {
      "image/png": "[encoded data removed]",
      "text/plain": [
       "<Figure size 640x480 with 1 Axes>"
      ]
     },
     "metadata": {},
     "output_type": "display_data"
    }
   ],
   "source": [
    "sns.scatterplot(x='GrLivArea',y='TotalArea',data=houses_cor)\n",
    "plt.show()"
   ]
  },
  {
   "cell_type": "code",
   "execution_count": 160,
   "id": "06fdda01",
   "metadata": {},
   "outputs": [
    {
     "data": {
      "image/png": "[encoded data removed]",
      "text/plain": [
       "<Figure size 640x480 with 1 Axes>"
      ]
     },
     "metadata": {},
     "output_type": "display_data"
    }
   ],
   "source": [
    "sns.scatterplot(x='GrLivArea',y='TotRmsAbvGrd',data=houses_cor)\n",
    "plt.show()"
   ]
  },
  {
   "cell_type": "markdown",
   "id": "7b37cfc6",
   "metadata": {},
   "source": [
    "#### Scaler data"
   ]
  },
  {
   "cell_type": "code",
   "execution_count": 161,
   "id": "d108e75a",
   "metadata": {},
   "outputs": [],
   "source": [
    "no_dummies_column = [x for x in houses.columns if '_' not in x]"
   ]
  },
  {
   "cell_type": "code",
   "execution_count": 162,
   "id": "17f77d13",
   "metadata": {},
   "outputs": [
    {
     "data": {
      "text/plain": [
       "16"
      ]
     },
     "execution_count": 162,
     "metadata": {},
     "output_type": "execute_result"
    }
   ],
   "source": [
    "len(houses['MSSubClass'].unique())"
   ]
  },
  {
   "cell_type": "code",
   "execution_count": 163,
   "id": "3bf52bb8",
   "metadata": {},
   "outputs": [],
   "source": [
    "std_column = [x for x in no_dummies_column if len(houses[x].unique())>150]"
   ]
  },
  {
   "cell_type": "code",
   "execution_count": 164,
   "id": "baa632a4",
   "metadata": {},
   "outputs": [
    {
     "data": {
      "text/plain": [
       "['Id',\n",
       " 'MasVnrArea',\n",
       " 'BsmtFinSF1',\n",
       " 'BsmtFinSF2',\n",
       " 'BsmtUnfSF',\n",
       " 'GrLivArea',\n",
       " 'GarageArea',\n",
       " 'WoodDeckSF',\n",
       " 'OpenPorchSF',\n",
       " 'EnclosedPorch',\n",
       " 'SalePrice',\n",
       " 'TotalArea',\n",
       " 'GardenArea']"
      ]
     },
     "execution_count": 164,
     "metadata": {},
     "output_type": "execute_result"
    }
   ],
   "source": [
    "std_column"
   ]
  },
  {
   "cell_type": "code",
   "execution_count": 165,
   "id": "4ecf0059",
   "metadata": {},
   "outputs": [],
   "source": [
    "from sklearn.preprocessing import StandardScaler\n",
    "\n",
    "scaler = StandardScaler()"
   ]
  },
  {
   "cell_type": "code",
   "execution_count": 166,
   "id": "cabcccaf",
   "metadata": {},
   "outputs": [
    {
     "data": {
      "text/plain": [
       "0   196.00\n",
       "1     0.00\n",
       "Name: MasVnrArea, dtype: float64"
      ]
     },
     "execution_count": 166,
     "metadata": {},
     "output_type": "execute_result"
    }
   ],
   "source": [
    "houses['MasVnrArea'].head(2)"
   ]
  },
  {
   "cell_type": "code",
   "execution_count": 167,
   "id": "d255c75b",
   "metadata": {},
   "outputs": [
    {
     "data": {
      "text/plain": [
       "0   706.00\n",
       "1   978.00\n",
       "Name: BsmtFinSF1, dtype: float64"
      ]
     },
     "execution_count": 167,
     "metadata": {},
     "output_type": "execute_result"
    }
   ],
   "source": [
    "houses['BsmtFinSF1'].head(2)"
   ]
  },
  {
   "cell_type": "code",
   "execution_count": 168,
   "id": "ad20c10d",
   "metadata": {},
   "outputs": [],
   "source": [
    "numerical_features = ['MasVnrArea',\n",
    " 'BsmtFinSF1',\n",
    " 'BsmtFinSF2',\n",
    " 'BsmtUnfSF',\n",
    " 'GrLivArea',\n",
    " 'GarageArea',\n",
    " 'WoodDeckSF',\n",
    " 'OpenPorchSF',\n",
    " 'EnclosedPorch',\n",
    " 'TotalArea',\n",
    " 'GardenArea']"
   ]
  },
  {
   "cell_type": "code",
   "execution_count": 169,
   "id": "e30cd7c9",
   "metadata": {},
   "outputs": [],
   "source": [
    "houses[numerical_features] = scaler.fit_transform(houses[numerical_features])"
   ]
  },
  {
   "cell_type": "code",
   "execution_count": 170,
   "id": "b5ff1a6f",
   "metadata": {},
   "outputs": [
    {
     "data": {
      "text/plain": [
       "0   0.58\n",
       "1   1.18\n",
       "Name: BsmtFinSF1, dtype: float64"
      ]
     },
     "execution_count": 170,
     "metadata": {},
     "output_type": "execute_result"
    }
   ],
   "source": [
    "houses['BsmtFinSF1'].head(2)"
   ]
  },
  {
   "cell_type": "code",
   "execution_count": 171,
   "id": "80fc1a7a",
   "metadata": {},
   "outputs": [
    {
     "data": {
      "text/html": [
       "<div>\n",
       "<style scoped>\n",
       "    .dataframe tbody tr th:only-of-type {\n",
       "        vertical-align: middle;\n",
       "    }\n",
       "\n",
       "    .dataframe tbody tr th {\n",
       "        vertical-align: top;\n",
       "    }\n",
       "\n",
       "    .dataframe thead th {\n",
       "        text-align: right;\n",
       "    }\n",
       "</style>\n",
       "<table border=\"1\" class=\"dataframe\">\n",
       "  <thead>\n",
       "    <tr style=\"text-align: right;\">\n",
       "      <th></th>\n",
       "      <th>Id</th>\n",
       "      <th>MSSubClass</th>\n",
       "      <th>LotFrontage</th>\n",
       "      <th>Street</th>\n",
       "      <th>Utilities</th>\n",
       "      <th>OverallQual</th>\n",
       "      <th>OverallCond</th>\n",
       "      <th>YearBuilt</th>\n",
       "      <th>YearRemodAdd</th>\n",
       "      <th>MasVnrArea</th>\n",
       "      <th>...</th>\n",
       "      <th>Fence_missing_value</th>\n",
       "      <th>SaleType_COD</th>\n",
       "      <th>SaleType_CWD</th>\n",
       "      <th>SaleType_Con</th>\n",
       "      <th>SaleType_ConLD</th>\n",
       "      <th>SaleType_ConLI</th>\n",
       "      <th>SaleType_ConLw</th>\n",
       "      <th>SaleType_New</th>\n",
       "      <th>SaleType_Oth</th>\n",
       "      <th>SaleType_WD</th>\n",
       "    </tr>\n",
       "  </thead>\n",
       "  <tbody>\n",
       "    <tr>\n",
       "      <th>0</th>\n",
       "      <td>1</td>\n",
       "      <td>60</td>\n",
       "      <td>65.00</td>\n",
       "      <td>1</td>\n",
       "      <td>0</td>\n",
       "      <td>7</td>\n",
       "      <td>5</td>\n",
       "      <td>2003</td>\n",
       "      <td>2003</td>\n",
       "      <td>0.53</td>\n",
       "      <td>...</td>\n",
       "      <td>1</td>\n",
       "      <td>0</td>\n",
       "      <td>0</td>\n",
       "      <td>0</td>\n",
       "      <td>0</td>\n",
       "      <td>0</td>\n",
       "      <td>0</td>\n",
       "      <td>0</td>\n",
       "      <td>0</td>\n",
       "      <td>1</td>\n",
       "    </tr>\n",
       "    <tr>\n",
       "      <th>1</th>\n",
       "      <td>2</td>\n",
       "      <td>20</td>\n",
       "      <td>80.00</td>\n",
       "      <td>1</td>\n",
       "      <td>0</td>\n",
       "      <td>6</td>\n",
       "      <td>8</td>\n",
       "      <td>1976</td>\n",
       "      <td>1976</td>\n",
       "      <td>-0.57</td>\n",
       "      <td>...</td>\n",
       "      <td>1</td>\n",
       "      <td>0</td>\n",
       "      <td>0</td>\n",
       "      <td>0</td>\n",
       "      <td>0</td>\n",
       "      <td>0</td>\n",
       "      <td>0</td>\n",
       "      <td>0</td>\n",
       "      <td>0</td>\n",
       "      <td>1</td>\n",
       "    </tr>\n",
       "    <tr>\n",
       "      <th>2</th>\n",
       "      <td>3</td>\n",
       "      <td>60</td>\n",
       "      <td>68.00</td>\n",
       "      <td>1</td>\n",
       "      <td>0</td>\n",
       "      <td>7</td>\n",
       "      <td>5</td>\n",
       "      <td>2001</td>\n",
       "      <td>2002</td>\n",
       "      <td>0.33</td>\n",
       "      <td>...</td>\n",
       "      <td>1</td>\n",
       "      <td>0</td>\n",
       "      <td>0</td>\n",
       "      <td>0</td>\n",
       "      <td>0</td>\n",
       "      <td>0</td>\n",
       "      <td>0</td>\n",
       "      <td>0</td>\n",
       "      <td>0</td>\n",
       "      <td>1</td>\n",
       "    </tr>\n",
       "    <tr>\n",
       "      <th>3</th>\n",
       "      <td>4</td>\n",
       "      <td>70</td>\n",
       "      <td>60.00</td>\n",
       "      <td>1</td>\n",
       "      <td>0</td>\n",
       "      <td>7</td>\n",
       "      <td>5</td>\n",
       "      <td>1915</td>\n",
       "      <td>1970</td>\n",
       "      <td>-0.57</td>\n",
       "      <td>...</td>\n",
       "      <td>1</td>\n",
       "      <td>0</td>\n",
       "      <td>0</td>\n",
       "      <td>0</td>\n",
       "      <td>0</td>\n",
       "      <td>0</td>\n",
       "      <td>0</td>\n",
       "      <td>0</td>\n",
       "      <td>0</td>\n",
       "      <td>1</td>\n",
       "    </tr>\n",
       "    <tr>\n",
       "      <th>4</th>\n",
       "      <td>5</td>\n",
       "      <td>60</td>\n",
       "      <td>84.00</td>\n",
       "      <td>1</td>\n",
       "      <td>0</td>\n",
       "      <td>8</td>\n",
       "      <td>5</td>\n",
       "      <td>2000</td>\n",
       "      <td>2000</td>\n",
       "      <td>1.39</td>\n",
       "      <td>...</td>\n",
       "      <td>1</td>\n",
       "      <td>0</td>\n",
       "      <td>0</td>\n",
       "      <td>0</td>\n",
       "      <td>0</td>\n",
       "      <td>0</td>\n",
       "      <td>0</td>\n",
       "      <td>0</td>\n",
       "      <td>0</td>\n",
       "      <td>1</td>\n",
       "    </tr>\n",
       "  </tbody>\n",
       "</table>\n",
       "<p>5 rows × 276 columns</p>\n",
       "</div>"
      ],
      "text/plain": [
       "   Id  MSSubClass  LotFrontage  Street  Utilities  OverallQual  OverallCond  \\\n",
       "0   1          60        65.00       1          0            7            5   \n",
       "1   2          20        80.00       1          0            6            8   \n",
       "2   3          60        68.00       1          0            7            5   \n",
       "3   4          70        60.00       1          0            7            5   \n",
       "4   5          60        84.00       1          0            8            5   \n",
       "\n",
       "   YearBuilt  YearRemodAdd  MasVnrArea  ...  Fence_missing_value  \\\n",
       "0       2003          2003        0.53  ...                    1   \n",
       "1       1976          1976       -0.57  ...                    1   \n",
       "2       2001          2002        0.33  ...                    1   \n",
       "3       1915          1970       -0.57  ...                    1   \n",
       "4       2000          2000        1.39  ...                    1   \n",
       "\n",
       "   SaleType_COD  SaleType_CWD  SaleType_Con  SaleType_ConLD  SaleType_ConLI  \\\n",
       "0             0             0             0               0               0   \n",
       "1             0             0             0               0               0   \n",
       "2             0             0             0               0               0   \n",
       "3             0             0             0               0               0   \n",
       "4             0             0             0               0               0   \n",
       "\n",
       "   SaleType_ConLw  SaleType_New  SaleType_Oth  SaleType_WD  \n",
       "0               0             0             0            1  \n",
       "1               0             0             0            1  \n",
       "2               0             0             0            1  \n",
       "3               0             0             0            1  \n",
       "4               0             0             0            1  \n",
       "\n",
       "[5 rows x 276 columns]"
      ]
     },
     "execution_count": 171,
     "metadata": {},
     "output_type": "execute_result"
    }
   ],
   "source": [
    "houses.head()"
   ]
  },
  {
   "cell_type": "code",
   "execution_count": null,
   "id": "541bb648",
   "metadata": {},
   "outputs": [],
   "source": []
  },
  {
   "cell_type": "code",
   "execution_count": null,
   "id": "8add65ac",
   "metadata": {},
   "outputs": [],
   "source": []
  },
  {
   "cell_type": "code",
   "execution_count": null,
   "id": "edbef65f",
   "metadata": {},
   "outputs": [],
   "source": []
  },
  {
   "cell_type": "code",
   "execution_count": null,
   "id": "9874c63c",
   "metadata": {},
   "outputs": [],
   "source": []
  },
  {
   "cell_type": "code",
   "execution_count": null,
   "id": "560a8652",
   "metadata": {},
   "outputs": [],
   "source": []
  },
  {
   "cell_type": "markdown",
   "id": "c4ae939a",
   "metadata": {},
   "source": [
    "#### Split train and test"
   ]
  },
  {
   "cell_type": "code",
   "execution_count": 172,
   "id": "00791e5a",
   "metadata": {},
   "outputs": [],
   "source": [
    "train = houses[houses['Type']=='train']"
   ]
  },
  {
   "cell_type": "code",
   "execution_count": 173,
   "id": "470a3dc0",
   "metadata": {},
   "outputs": [
    {
     "data": {
      "text/plain": [
       "(1460, 276)"
      ]
     },
     "execution_count": 173,
     "metadata": {},
     "output_type": "execute_result"
    }
   ],
   "source": [
    "train.shape"
   ]
  },
  {
   "cell_type": "code",
   "execution_count": 174,
   "id": "89fcf975",
   "metadata": {},
   "outputs": [
    {
     "name": "stderr",
     "output_type": "stream",
     "text": [
      "/var/folders/sq/dl_vqf5n05z5z05q_14d_wmw0000gn/T/ipykernel_55811/1447841662.py:1: SettingWithCopyWarning: \n",
      "A value is trying to be set on a copy of a slice from a DataFrame\n",
      "\n",
      "See the caveats in the documentation: https://pandas.pydata.org/pandas-docs/stable/user_guide/indexing.html#returning-a-view-versus-a-copy\n",
      "  train.drop('Type', axis=1, inplace=True)\n"
     ]
    }
   ],
   "source": [
    "train.drop('Type', axis=1, inplace=True)"
   ]
  },
  {
   "cell_type": "code",
   "execution_count": 175,
   "id": "4d7dd9d1",
   "metadata": {},
   "outputs": [],
   "source": [
    "test = houses[houses['Type']=='test']"
   ]
  },
  {
   "cell_type": "code",
   "execution_count": 176,
   "id": "77b8338c",
   "metadata": {},
   "outputs": [
    {
     "data": {
      "text/plain": [
       "(1459, 276)"
      ]
     },
     "execution_count": 176,
     "metadata": {},
     "output_type": "execute_result"
    }
   ],
   "source": [
    "test.shape"
   ]
  },
  {
   "cell_type": "code",
   "execution_count": 177,
   "id": "73ca35b9",
   "metadata": {},
   "outputs": [
    {
     "name": "stderr",
     "output_type": "stream",
     "text": [
      "/var/folders/sq/dl_vqf5n05z5z05q_14d_wmw0000gn/T/ipykernel_55811/1167011423.py:1: SettingWithCopyWarning: \n",
      "A value is trying to be set on a copy of a slice from a DataFrame\n",
      "\n",
      "See the caveats in the documentation: https://pandas.pydata.org/pandas-docs/stable/user_guide/indexing.html#returning-a-view-versus-a-copy\n",
      "  test.drop('Type', axis=1, inplace=True)\n"
     ]
    }
   ],
   "source": [
    "test.drop('Type', axis=1, inplace=True)"
   ]
  },
  {
   "cell_type": "markdown",
   "id": "04cf691f",
   "metadata": {},
   "source": [
    "#### Filter NA Columns"
   ]
  },
  {
   "cell_type": "code",
   "execution_count": 178,
   "id": "a4d5657c",
   "metadata": {},
   "outputs": [
    {
     "name": "stdout",
     "output_type": "stream",
     "text": [
      "Series([], dtype: int64)\n"
     ]
    }
   ],
   "source": [
    "result = train.isna().sum()\n",
    "\n",
    "pd.set_option('display.max_rows', len(result))\n",
    "\n",
    "print(result[result==1])"
   ]
  },
  {
   "cell_type": "code",
   "execution_count": 179,
   "id": "56eeee76",
   "metadata": {},
   "outputs": [
    {
     "name": "stdout",
     "output_type": "stream",
     "text": [
      "TotalArea    1\n",
      "dtype: int64\n"
     ]
    }
   ],
   "source": [
    "result = test.isna().sum()\n",
    "\n",
    "pd.set_option('display.max_rows', len(result))\n",
    "\n",
    "print(result[result==1])"
   ]
  },
  {
   "cell_type": "code",
   "execution_count": 180,
   "id": "bfacc363",
   "metadata": {},
   "outputs": [
    {
     "data": {
      "text/plain": [
       "Index(['SalePrice'], dtype='object')"
      ]
     },
     "execution_count": 180,
     "metadata": {},
     "output_type": "execute_result"
    }
   ],
   "source": [
    "test.columns[test.isna().sum() > 1]"
   ]
  },
  {
   "cell_type": "code",
   "execution_count": 181,
   "id": "b3c2a059",
   "metadata": {},
   "outputs": [
    {
     "name": "stderr",
     "output_type": "stream",
     "text": [
      "/var/folders/sq/dl_vqf5n05z5z05q_14d_wmw0000gn/T/ipykernel_55811/3434746067.py:2: SettingWithCopyWarning: \n",
      "A value is trying to be set on a copy of a slice from a DataFrame\n",
      "\n",
      "See the caveats in the documentation: https://pandas.pydata.org/pandas-docs/stable/user_guide/indexing.html#returning-a-view-versus-a-copy\n",
      "  test['TotalArea'].fillna(average_total_area, inplace=True)\n"
     ]
    }
   ],
   "source": [
    "average_total_area = test['TotalArea'].mean()\n",
    "test['TotalArea'].fillna(average_total_area, inplace=True)"
   ]
  },
  {
   "cell_type": "code",
   "execution_count": 182,
   "id": "18fccd92",
   "metadata": {},
   "outputs": [
    {
     "name": "stdout",
     "output_type": "stream",
     "text": [
      "Series([], dtype: int64)\n"
     ]
    }
   ],
   "source": [
    "result = test.isna().sum()\n",
    "\n",
    "pd.set_option('display.max_rows', len(result))\n",
    "\n",
    "print(result[result==1])"
   ]
  },
  {
   "cell_type": "code",
   "execution_count": 183,
   "id": "98c1bd93",
   "metadata": {},
   "outputs": [
    {
     "name": "stderr",
     "output_type": "stream",
     "text": [
      "/var/folders/sq/dl_vqf5n05z5z05q_14d_wmw0000gn/T/ipykernel_55811/2045763681.py:2: SettingWithCopyWarning: \n",
      "A value is trying to be set on a copy of a slice from a DataFrame\n",
      "\n",
      "See the caveats in the documentation: https://pandas.pydata.org/pandas-docs/stable/user_guide/indexing.html#returning-a-view-versus-a-copy\n",
      "  test['GarageArea'].fillna(average_total_area, inplace=True)\n"
     ]
    }
   ],
   "source": [
    "average_total_area = test['GarageArea'].mean()\n",
    "test['GarageArea'].fillna(average_total_area, inplace=True)"
   ]
  },
  {
   "cell_type": "code",
   "execution_count": 240,
   "id": "c9950189",
   "metadata": {},
   "outputs": [],
   "source": []
  },
  {
   "cell_type": "code",
   "execution_count": null,
   "id": "56be8a0f",
   "metadata": {},
   "outputs": [],
   "source": []
  },
  {
   "cell_type": "code",
   "execution_count": null,
   "id": "2eb8a50d",
   "metadata": {},
   "outputs": [],
   "source": []
  },
  {
   "cell_type": "code",
   "execution_count": null,
   "id": "74528a61",
   "metadata": {},
   "outputs": [],
   "source": []
  },
  {
   "cell_type": "code",
   "execution_count": null,
   "id": "9a8c47a1",
   "metadata": {},
   "outputs": [],
   "source": []
  },
  {
   "cell_type": "code",
   "execution_count": null,
   "id": "aa4daeee",
   "metadata": {},
   "outputs": [],
   "source": []
  },
  {
   "cell_type": "code",
   "execution_count": null,
   "id": "901f2fe3",
   "metadata": {},
   "outputs": [],
   "source": []
  },
  {
   "cell_type": "markdown",
   "id": "708fad07",
   "metadata": {},
   "source": [
    "#### Prepare the dataframe for the model"
   ]
  },
  {
   "cell_type": "code",
   "execution_count": 184,
   "id": "302cf975",
   "metadata": {},
   "outputs": [
    {
     "data": {
      "text/plain": [
       "275"
      ]
     },
     "execution_count": 184,
     "metadata": {},
     "output_type": "execute_result"
    }
   ],
   "source": [
    "len(train.columns)"
   ]
  },
  {
   "cell_type": "code",
   "execution_count": 185,
   "id": "0dbe0f0a",
   "metadata": {},
   "outputs": [],
   "source": [
    "y_temp = train['SalePrice']"
   ]
  },
  {
   "cell_type": "code",
   "execution_count": 186,
   "id": "4b4674cc",
   "metadata": {},
   "outputs": [],
   "source": [
    "X_temp = train.drop('SalePrice', axis=1)"
   ]
  },
  {
   "cell_type": "code",
   "execution_count": 187,
   "id": "4d371210",
   "metadata": {},
   "outputs": [
    {
     "data": {
      "text/plain": [
       "(1460, 274)"
      ]
     },
     "execution_count": 187,
     "metadata": {},
     "output_type": "execute_result"
    }
   ],
   "source": [
    "X_temp.shape"
   ]
  },
  {
   "cell_type": "code",
   "execution_count": 188,
   "id": "12efb37f",
   "metadata": {},
   "outputs": [
    {
     "data": {
      "text/plain": [
       "(1460,)"
      ]
     },
     "execution_count": 188,
     "metadata": {},
     "output_type": "execute_result"
    }
   ],
   "source": [
    "y_temp.shape"
   ]
  },
  {
   "cell_type": "code",
   "execution_count": 189,
   "id": "3c8e2943",
   "metadata": {},
   "outputs": [],
   "source": [
    "test = test.drop('SalePrice', axis=1)"
   ]
  },
  {
   "cell_type": "code",
   "execution_count": 190,
   "id": "cebed3c2",
   "metadata": {},
   "outputs": [
    {
     "data": {
      "text/plain": [
       "274"
      ]
     },
     "execution_count": 190,
     "metadata": {},
     "output_type": "execute_result"
    }
   ],
   "source": [
    "len(test.columns)"
   ]
  },
  {
   "cell_type": "code",
   "execution_count": null,
   "id": "171886d4",
   "metadata": {},
   "outputs": [],
   "source": []
  },
  {
   "cell_type": "code",
   "execution_count": null,
   "id": "d2b8b976",
   "metadata": {},
   "outputs": [],
   "source": []
  },
  {
   "cell_type": "markdown",
   "id": "5d477b55",
   "metadata": {},
   "source": [
    "#### Creating train, test and validation datasets"
   ]
  },
  {
   "cell_type": "code",
   "execution_count": 197,
   "id": "caea675c",
   "metadata": {},
   "outputs": [],
   "source": [
    "from sklearn.model_selection import train_test_split\n",
    "from sklearn.ensemble import RandomForestClassifier\n",
    "from sklearn.metrics import r2_score\n",
    "from sklearn.metrics import mean_absolute_error"
   ]
  },
  {
   "cell_type": "code",
   "execution_count": 199,
   "id": "4e84735d",
   "metadata": {},
   "outputs": [],
   "source": [
    "X_train, X_val, y_train, y_val = train_test_split(X_temp,y_temp,test_size=0.20,random_state=1111)"
   ]
  },
  {
   "cell_type": "markdown",
   "id": "3d37007a",
   "metadata": {},
   "source": [
    "#### Basic Validation"
   ]
  },
  {
   "cell_type": "code",
   "execution_count": 200,
   "id": "e8bccb4b",
   "metadata": {},
   "outputs": [
    {
     "data": {
      "text/plain": [
       "RandomForestRegressor(max_features=11, n_estimators=25, random_state=1111)"
      ]
     },
     "execution_count": 200,
     "metadata": {},
     "output_type": "execute_result"
    }
   ],
   "source": [
    "# First Model\n",
    "rfr = RandomForestRegressor(n_estimators=25, random_state=1111, max_features=11)\n",
    "rfr.fit(X_train,y_train)"
   ]
  },
  {
   "cell_type": "code",
   "execution_count": 201,
   "id": "cb38d7c5",
   "metadata": {},
   "outputs": [
    {
     "name": "stdout",
     "output_type": "stream",
     "text": [
      "The training error is 7839.80890410959\n"
     ]
    }
   ],
   "source": [
    "print('The training error is {}'.format(mean_absolute_error(y_train,rfr.predict(X_train))))"
   ]
  },
  {
   "cell_type": "code",
   "execution_count": 203,
   "id": "738ea097",
   "metadata": {},
   "outputs": [
    {
     "name": "stdout",
     "output_type": "stream",
     "text": [
      "The training error is 17768.64178082192\n"
     ]
    }
   ],
   "source": [
    "print('The testing error is {}'.format(mean_absolute_error(y_val, rfr.predict(X_val))))"
   ]
  },
  {
   "cell_type": "code",
   "execution_count": 216,
   "id": "907ec7d9",
   "metadata": {},
   "outputs": [
    {
     "data": {
      "text/plain": [
       "RandomForestRegressor(n_estimators=1000, random_state=1111)"
      ]
     },
     "execution_count": 216,
     "metadata": {},
     "output_type": "execute_result"
    }
   ],
   "source": [
    "# Second Model\n",
    "rfr2 = RandomForestRegressor(n_estimators=1000, random_state=1111)\n",
    "rfr2.fit(X_train,y_train)"
   ]
  },
  {
   "cell_type": "code",
   "execution_count": 217,
   "id": "02890836",
   "metadata": {},
   "outputs": [
    {
     "name": "stdout",
     "output_type": "stream",
     "text": [
      "The training error is 6464.658528253425\n",
      "The testing error is 15308.575195205482\n"
     ]
    }
   ],
   "source": [
    "print('The training error is {}'.format(mean_absolute_error(y_train, rfr2.predict(X_train))))\n",
    "print('The testing error is {}'.format(mean_absolute_error(y_val, rfr2.predict(X_val))))"
   ]
  },
  {
   "cell_type": "code",
   "execution_count": 218,
   "id": "14ebdee0",
   "metadata": {},
   "outputs": [],
   "source": [
    "test['SalePrice'] = rfr2.predict(test)"
   ]
  },
  {
   "cell_type": "code",
   "execution_count": 219,
   "id": "c51b1bce",
   "metadata": {},
   "outputs": [],
   "source": [
    "test[['Id','SalePrice']].to_csv('six_kaggle_submission.csv', index=False)"
   ]
  },
  {
   "cell_type": "code",
   "execution_count": null,
   "id": "fcabd6bf",
   "metadata": {},
   "outputs": [],
   "source": []
  },
  {
   "cell_type": "markdown",
   "id": "ba18206f",
   "metadata": {},
   "source": [
    "#### Cross Validation"
   ]
  },
  {
   "cell_type": "code",
   "execution_count": 220,
   "id": "26908b13",
   "metadata": {},
   "outputs": [],
   "source": [
    "from sklearn.model_selection import KFold"
   ]
  },
  {
   "cell_type": "code",
   "execution_count": 221,
   "id": "3334215c",
   "metadata": {},
   "outputs": [],
   "source": [
    "kf = KFold(n_splits = 5, shuffle = True, random_state = True)"
   ]
  },
  {
   "cell_type": "code",
   "execution_count": null,
   "id": "e33cb81d",
   "metadata": {},
   "outputs": [],
   "source": []
  },
  {
   "cell_type": "code",
   "execution_count": null,
   "id": "b331d6d6",
   "metadata": {},
   "outputs": [],
   "source": []
  },
  {
   "cell_type": "code",
   "execution_count": null,
   "id": "10a11664",
   "metadata": {},
   "outputs": [],
   "source": []
  },
  {
   "cell_type": "code",
   "execution_count": null,
   "id": "d16cc552",
   "metadata": {},
   "outputs": [],
   "source": []
  },
  {
   "cell_type": "code",
   "execution_count": null,
   "id": "d34a9578",
   "metadata": {},
   "outputs": [],
   "source": []
  },
  {
   "cell_type": "code",
   "execution_count": null,
   "id": "d3a93f44",
   "metadata": {},
   "outputs": [],
   "source": []
  },
  {
   "cell_type": "markdown",
   "id": "e9b91713",
   "metadata": {},
   "source": [
    "#### Feature Selection"
   ]
  },
  {
   "cell_type": "code",
   "execution_count": 177,
   "id": "2b63b02a",
   "metadata": {},
   "outputs": [],
   "source": [
    "from sklearn.model_selection import train_test_split\n",
    "from sklearn.ensemble import RandomForestClassifier\n",
    "from sklearn.metrics import r2_score"
   ]
  },
  {
   "cell_type": "code",
   "execution_count": 177,
   "id": "f797ebe5",
   "metadata": {},
   "outputs": [],
   "source": [
    "X_train, X_test, y_train, y_test = train_test_split(X, y, test_size=0.20, random_state=0)"
   ]
  },
  {
   "cell_type": "code",
   "execution_count": 178,
   "id": "ee70d56f",
   "metadata": {},
   "outputs": [],
   "source": [
    "rf = RandomForestRegressor(random_state=0)"
   ]
  },
  {
   "cell_type": "code",
   "execution_count": 179,
   "id": "ecc58d14",
   "metadata": {},
   "outputs": [
    {
     "data": {
      "text/plain": [
       "RandomForestRegressor(random_state=0)"
      ]
     },
     "execution_count": 179,
     "metadata": {},
     "output_type": "execute_result"
    }
   ],
   "source": [
    "rf.fit(X_train, y_train)"
   ]
  },
  {
   "cell_type": "code",
   "execution_count": 180,
   "id": "30352a06",
   "metadata": {},
   "outputs": [],
   "source": [
    "r2 = r2_score(y_test, rf.predict(X_test))"
   ]
  },
  {
   "cell_type": "code",
   "execution_count": 181,
   "id": "115efeb2",
   "metadata": {},
   "outputs": [
    {
     "data": {
      "text/plain": [
       "0.8367119225240831"
      ]
     },
     "execution_count": 181,
     "metadata": {},
     "output_type": "execute_result"
    }
   ],
   "source": [
    "r2"
   ]
  },
  {
   "cell_type": "code",
   "execution_count": 184,
   "id": "a8df669e",
   "metadata": {},
   "outputs": [
    {
     "name": "stdout",
     "output_type": "stream",
     "text": [
      "83.7% accuracy on test set.\n"
     ]
    }
   ],
   "source": [
    "print(f\"{r2:.1%} accuracy on test set.\") "
   ]
  },
  {
   "cell_type": "markdown",
   "id": "58c10f2e",
   "metadata": {},
   "source": [
    "#### Manual Feature Selection"
   ]
  },
  {
   "cell_type": "code",
   "execution_count": 192,
   "id": "b069f3bf",
   "metadata": {},
   "outputs": [],
   "source": [
    "mask = rf.feature_importances_ > 0.15"
   ]
  },
  {
   "cell_type": "code",
   "execution_count": 193,
   "id": "1cb1a67d",
   "metadata": {},
   "outputs": [],
   "source": [
    "reduced_X = X.loc[:,mask]"
   ]
  },
  {
   "cell_type": "code",
   "execution_count": 194,
   "id": "dd803a28",
   "metadata": {},
   "outputs": [
    {
     "data": {
      "text/plain": [
       "Index(['OverallQual', 'TotalArea'], dtype='object')"
      ]
     },
     "execution_count": 194,
     "metadata": {},
     "output_type": "execute_result"
    }
   ],
   "source": [
    "reduced_X.columns"
   ]
  },
  {
   "cell_type": "markdown",
   "id": "cad24568",
   "metadata": {},
   "source": [
    "#### Recursive Feature Selection"
   ]
  },
  {
   "cell_type": "code",
   "execution_count": 188,
   "id": "d67bee22",
   "metadata": {},
   "outputs": [],
   "source": [
    "# Select 05 features\n",
    "#rfe = RFE(estimator=RandomForestRegressor(), n_features_to_select=5, step=2, verbose=1)"
   ]
  },
  {
   "cell_type": "code",
   "execution_count": null,
   "id": "78d1ecda",
   "metadata": {},
   "outputs": [
    {
     "name": "stdout",
     "output_type": "stream",
     "text": [
      "Fitting estimator with 274 features.\n",
      "Fitting estimator with 272 features.\n",
      "Fitting estimator with 270 features.\n",
      "Fitting estimator with 268 features.\n",
      "Fitting estimator with 266 features.\n",
      "Fitting estimator with 264 features.\n",
      "Fitting estimator with 262 features.\n"
     ]
    }
   ],
   "source": [
    "#rfe.fit(X, y)"
   ]
  },
  {
   "cell_type": "code",
   "execution_count": 199,
   "id": "52fa4a1a",
   "metadata": {},
   "outputs": [],
   "source": [
    "#mask = rfe.support_"
   ]
  },
  {
   "cell_type": "code",
   "execution_count": 201,
   "id": "082a610c",
   "metadata": {},
   "outputs": [
    {
     "name": "stdout",
     "output_type": "stream",
     "text": [
      "Index(['OverallQual', 'YearBuilt', 'GrLivArea', 'TotalArea', 'GardenArea'], dtype='object')\n"
     ]
    }
   ],
   "source": [
    "#reduced_X = X.loc[:, mask]\n",
    "#print(reduced_X.columns)"
   ]
  },
  {
   "cell_type": "code",
   "execution_count": 203,
   "id": "58b9746d",
   "metadata": {},
   "outputs": [],
   "source": [
    "#r2 = r2_score(y_test, rfe.predict(X_test))"
   ]
  },
  {
   "cell_type": "code",
   "execution_count": 204,
   "id": "2e20826f",
   "metadata": {},
   "outputs": [
    {
     "data": {
      "text/plain": [
       "0.8455123957726562"
      ]
     },
     "execution_count": 204,
     "metadata": {},
     "output_type": "execute_result"
    }
   ],
   "source": [
    "#r2"
   ]
  },
  {
   "cell_type": "code",
   "execution_count": 205,
   "id": "f7220860",
   "metadata": {},
   "outputs": [],
   "source": [
    "#test['SalePrice'] = rfe.predict(test)"
   ]
  },
  {
   "cell_type": "code",
   "execution_count": 206,
   "id": "b490d6a2",
   "metadata": {},
   "outputs": [],
   "source": [
    "#test[['Id','SalePrice']].to_csv('fifth_kaggle_submission.csv', index=False)"
   ]
  },
  {
   "cell_type": "code",
   "execution_count": 178,
   "id": "2c86fd0f",
   "metadata": {},
   "outputs": [],
   "source": [
    "# Select 10 features\n",
    "rfe2 = RFE(estimator=RandomForestRegressor(), n_features_to_select=10, step=20, verbose=1)"
   ]
  },
  {
   "cell_type": "code",
   "execution_count": 180,
   "id": "4db401f9",
   "metadata": {},
   "outputs": [
    {
     "name": "stdout",
     "output_type": "stream",
     "text": [
      "Fitting estimator with 274 features.\n",
      "Fitting estimator with 254 features.\n",
      "Fitting estimator with 234 features.\n",
      "Fitting estimator with 214 features.\n",
      "Fitting estimator with 194 features.\n",
      "Fitting estimator with 174 features.\n",
      "Fitting estimator with 154 features.\n",
      "Fitting estimator with 134 features.\n",
      "Fitting estimator with 114 features.\n",
      "Fitting estimator with 94 features.\n",
      "Fitting estimator with 74 features.\n",
      "Fitting estimator with 54 features.\n",
      "Fitting estimator with 34 features.\n",
      "Fitting estimator with 14 features.\n"
     ]
    },
    {
     "data": {
      "text/plain": [
       "RFE(estimator=RandomForestRegressor(), n_features_to_select=10, step=20,\n",
       "    verbose=1)"
      ]
     },
     "execution_count": 180,
     "metadata": {},
     "output_type": "execute_result"
    }
   ],
   "source": [
    "rfe2.fit(X, y)"
   ]
  },
  {
   "cell_type": "code",
   "execution_count": 181,
   "id": "9098d592",
   "metadata": {},
   "outputs": [],
   "source": [
    "test['SalePrice'] = rfe2.predict(test)"
   ]
  },
  {
   "cell_type": "code",
   "execution_count": 182,
   "id": "25bb125e",
   "metadata": {},
   "outputs": [],
   "source": [
    "test[['Id','SalePrice']].to_csv('six_kaggle_submission.csv', index=False)"
   ]
  },
  {
   "cell_type": "code",
   "execution_count": null,
   "id": "ed9eef37",
   "metadata": {},
   "outputs": [],
   "source": []
  },
  {
   "cell_type": "code",
   "execution_count": null,
   "id": "545af1fb",
   "metadata": {},
   "outputs": [],
   "source": []
  },
  {
   "cell_type": "code",
   "execution_count": null,
   "id": "3ec41689",
   "metadata": {},
   "outputs": [],
   "source": []
  },
  {
   "cell_type": "markdown",
   "id": "7d0b2ce0",
   "metadata": {},
   "source": [
    "#### Apply the model "
   ]
  },
  {
   "cell_type": "code",
   "execution_count": 166,
   "id": "7929c669",
   "metadata": {},
   "outputs": [],
   "source": [
    "rf_3 = RandomForestRegressor()"
   ]
  },
  {
   "cell_type": "code",
   "execution_count": 167,
   "id": "a4ea0f7f",
   "metadata": {},
   "outputs": [
    {
     "name": "stdout",
     "output_type": "stream",
     "text": [
      "'TA' is not included in any column.\n"
     ]
    },
    {
     "name": "stderr",
     "output_type": "stream",
     "text": [
      "/var/folders/sq/dl_vqf5n05z5z05q_14d_wmw0000gn/T/ipykernel_32738/4108255698.py:3: FutureWarning: elementwise comparison failed; returning scalar instead, but in the future will perform elementwise comparison\n",
      "  if 'train' in dataframe[column].values:\n"
     ]
    }
   ],
   "source": [
    "def has_value_ta(dataframe):\n",
    "    for column in dataframe.columns:\n",
    "        if 'train' in dataframe[column].values:\n",
    "            return True, column\n",
    "    return False, None\n",
    "\n",
    "# Check if 'TA' is included in the dataframe and get the column name\n",
    "has_ta, column_with_ta = has_value_ta(x)\n",
    "\n",
    "if has_ta:\n",
    "    print(f\"'TA' is included in column '{column_with_ta}'.\")\n",
    "else:\n",
    "    print(\"'TA' is not included in any column.\")"
   ]
  },
  {
   "cell_type": "code",
   "execution_count": 168,
   "id": "a0846700",
   "metadata": {},
   "outputs": [
    {
     "data": {
      "text/plain": [
       "RandomForestRegressor()"
      ]
     },
     "execution_count": 168,
     "metadata": {},
     "output_type": "execute_result"
    }
   ],
   "source": [
    "rf_3.fit(X=x,y=y)"
   ]
  },
  {
   "cell_type": "code",
   "execution_count": 169,
   "id": "7703a8dd",
   "metadata": {},
   "outputs": [],
   "source": [
    "test['SalePrice'] = rf_3.predict(test)"
   ]
  },
  {
   "cell_type": "markdown",
   "id": "f694cb92",
   "metadata": {},
   "source": [
    "#### Validate name before"
   ]
  },
  {
   "cell_type": "code",
   "execution_count": 170,
   "id": "a8515fd0",
   "metadata": {},
   "outputs": [],
   "source": [
    "test[['Id','SalePrice']].to_csv('fourth_kaggle_submission.csv', index=False)"
   ]
  },
  {
   "cell_type": "code",
   "execution_count": null,
   "id": "4517b380",
   "metadata": {},
   "outputs": [],
   "source": []
  },
  {
   "cell_type": "code",
   "execution_count": null,
   "id": "caf55106",
   "metadata": {},
   "outputs": [],
   "source": []
  },
  {
   "cell_type": "code",
   "execution_count": null,
   "id": "10ac0ae2",
   "metadata": {},
   "outputs": [],
   "source": []
  }
 ],
 "metadata": {
  "kernelspec": {
   "display_name": "Python 3 (ipykernel)",
   "language": "python",
   "name": "python3"
  },
  "language_info": {
   "codemirror_mode": {
    "name": "ipython",
    "version": 3
   },
   "file_extension": ".py",
   "mimetype": "text/x-python",
   "name": "python",
   "nbconvert_exporter": "python",
   "pygments_lexer": "ipython3",
   "version": "3.9.13"
  }
 },
 "nbformat": 4,
 "nbformat_minor": 5
}
