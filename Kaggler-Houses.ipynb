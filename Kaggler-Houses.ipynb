{
 "cells": [
  {
   "cell_type": "code",
   "execution_count": 1,
   "id": "5e9303a9",
   "metadata": {},
   "outputs": [],
   "source": [
    "import pandas as pd\n",
    "from sklearn.ensemble import RandomForestRegressor\n",
    "from sklearn.preprocessing import LabelEncoder"
   ]
  },
  {
   "cell_type": "code",
   "execution_count": 2,
   "id": "ed5a34d2",
   "metadata": {},
   "outputs": [],
   "source": [
    "train = pd.read_csv(\"train.csv\")"
   ]
  },
  {
   "cell_type": "code",
   "execution_count": 3,
   "id": "18dc3d1b",
   "metadata": {},
   "outputs": [
    {
     "data": {
      "text/plain": [
       "(1460, 81)"
      ]
     },
     "execution_count": 3,
     "metadata": {},
     "output_type": "execute_result"
    }
   ],
   "source": [
    "train.shape"
   ]
  },
  {
   "cell_type": "code",
   "execution_count": 4,
   "id": "018a60ae",
   "metadata": {},
   "outputs": [],
   "source": [
    "test = pd.read_csv(\"test.csv\")"
   ]
  },
  {
   "cell_type": "code",
   "execution_count": 5,
   "id": "a630bb79",
   "metadata": {},
   "outputs": [
    {
     "data": {
      "text/plain": [
       "(1459, 80)"
      ]
     },
     "execution_count": 5,
     "metadata": {},
     "output_type": "execute_result"
    }
   ],
   "source": [
    "test.shape"
   ]
  },
  {
   "cell_type": "markdown",
   "id": "8145d800",
   "metadata": {},
   "source": [
    "### First Submission"
   ]
  },
  {
   "cell_type": "code",
   "execution_count": 6,
   "id": "6575a628",
   "metadata": {},
   "outputs": [
    {
     "data": {
      "text/plain": [
       "Index(['Id', 'MSSubClass', 'MSZoning', 'LotFrontage', 'LotArea', 'Street',\n",
       "       'Alley', 'LotShape', 'LandContour', 'Utilities', 'LotConfig',\n",
       "       'LandSlope', 'Neighborhood', 'Condition1', 'Condition2', 'BldgType',\n",
       "       'HouseStyle', 'OverallQual', 'OverallCond', 'YearBuilt', 'YearRemodAdd',\n",
       "       'RoofStyle', 'RoofMatl', 'Exterior1st', 'Exterior2nd', 'MasVnrType',\n",
       "       'MasVnrArea', 'ExterQual', 'ExterCond', 'Foundation', 'BsmtQual',\n",
       "       'BsmtCond', 'BsmtExposure', 'BsmtFinType1', 'BsmtFinSF1',\n",
       "       'BsmtFinType2', 'BsmtFinSF2', 'BsmtUnfSF', 'TotalBsmtSF', 'Heating',\n",
       "       'HeatingQC', 'CentralAir', 'Electrical', '1stFlrSF', '2ndFlrSF',\n",
       "       'LowQualFinSF', 'GrLivArea', 'BsmtFullBath', 'BsmtHalfBath', 'FullBath',\n",
       "       'HalfBath', 'BedroomAbvGr', 'KitchenAbvGr', 'KitchenQual',\n",
       "       'TotRmsAbvGrd', 'Functional', 'Fireplaces', 'FireplaceQu', 'GarageType',\n",
       "       'GarageYrBlt', 'GarageFinish', 'GarageCars', 'GarageArea', 'GarageQual',\n",
       "       'GarageCond', 'PavedDrive', 'WoodDeckSF', 'OpenPorchSF',\n",
       "       'EnclosedPorch', '3SsnPorch', 'ScreenPorch', 'PoolArea', 'PoolQC',\n",
       "       'Fence', 'MiscFeature', 'MiscVal', 'MoSold', 'YrSold', 'SaleType',\n",
       "       'SaleCondition', 'SalePrice'],\n",
       "      dtype='object')"
      ]
     },
     "execution_count": 6,
     "metadata": {},
     "output_type": "execute_result"
    }
   ],
   "source": [
    "train.columns"
   ]
  },
  {
   "cell_type": "code",
   "execution_count": 7,
   "id": "b78c57c3",
   "metadata": {},
   "outputs": [
    {
     "data": {
      "text/plain": [
       "array([  0, 512, 648, 576, 555, 480, 519, 738])"
      ]
     },
     "execution_count": 7,
     "metadata": {},
     "output_type": "execute_result"
    }
   ],
   "source": [
    "train.PoolArea.unique()"
   ]
  },
  {
   "cell_type": "code",
   "execution_count": 8,
   "id": "2520a51b",
   "metadata": {},
   "outputs": [],
   "source": [
    "rf = RandomForestRegressor()"
   ]
  },
  {
   "cell_type": "code",
   "execution_count": 9,
   "id": "38b6914a",
   "metadata": {},
   "outputs": [
    {
     "data": {
      "text/plain": [
       "RandomForestRegressor()"
      ]
     },
     "execution_count": 9,
     "metadata": {},
     "output_type": "execute_result"
    }
   ],
   "source": [
    "rf.fit(X=train[['LotArea','PoolArea']],y=train['SalePrice'])"
   ]
  },
  {
   "cell_type": "code",
   "execution_count": 10,
   "id": "b43073b9",
   "metadata": {},
   "outputs": [],
   "source": [
    "test['SalePrice'] = rf.predict(test[['LotArea','PoolArea']])"
   ]
  },
  {
   "cell_type": "code",
   "execution_count": 11,
   "id": "77922782",
   "metadata": {},
   "outputs": [],
   "source": [
    "test[['Id','SalePrice']].to_csv('first_kaggle_submission.csv', index=False)"
   ]
  },
  {
   "cell_type": "markdown",
   "id": "9a5881c0",
   "metadata": {},
   "source": [
    "#### EDA statistics"
   ]
  },
  {
   "cell_type": "code",
   "execution_count": 12,
   "id": "0fa27edc",
   "metadata": {},
   "outputs": [
    {
     "name": "stdout",
     "output_type": "stream",
     "text": [
      "Train Shape (1460, 81)\n",
      "Test Shape (1459, 81)\n"
     ]
    }
   ],
   "source": [
    "print('Train Shape', train.shape)\n",
    "print('Test Shape', test.shape)"
   ]
  },
  {
   "cell_type": "code",
   "execution_count": 13,
   "id": "a813fa84",
   "metadata": {},
   "outputs": [
    {
     "name": "stdout",
     "output_type": "stream",
     "text": [
      "0     856\n",
      "1    1262\n",
      "2     920\n",
      "3     961\n",
      "4    1145\n",
      "Name: 1stFlrSF, dtype: int64\n"
     ]
    }
   ],
   "source": [
    "print(train['1stFlrSF'].head())"
   ]
  },
  {
   "cell_type": "markdown",
   "id": "cfa27ab9",
   "metadata": {},
   "source": [
    "#### Feature Engineering"
   ]
  },
  {
   "cell_type": "code",
   "execution_count": 14,
   "id": "73f2dcef",
   "metadata": {},
   "outputs": [],
   "source": [
    "train['TotalArea'] = train['1stFlrSF'] + train['2ndFlrSF'] + train['TotalBsmtSF']"
   ]
  },
  {
   "cell_type": "code",
   "execution_count": 15,
   "id": "2593f0c5",
   "metadata": {},
   "outputs": [],
   "source": [
    "train['GardenArea'] = train['LotArea'] - train['1stFlrSF']"
   ]
  },
  {
   "cell_type": "code",
   "execution_count": 16,
   "id": "dcc6c545",
   "metadata": {},
   "outputs": [],
   "source": [
    "train['TotalBath'] = train['FullBath'] + train['HalfBath']"
   ]
  },
  {
   "cell_type": "code",
   "execution_count": 17,
   "id": "ef8160bf",
   "metadata": {},
   "outputs": [],
   "source": [
    "test['TotalArea'] = test['1stFlrSF'] + test['2ndFlrSF'] + test['TotalBsmtSF']"
   ]
  },
  {
   "cell_type": "code",
   "execution_count": 18,
   "id": "81794366",
   "metadata": {},
   "outputs": [],
   "source": [
    "test['GardenArea'] = test['LotArea'] - test['1stFlrSF']"
   ]
  },
  {
   "cell_type": "code",
   "execution_count": 19,
   "id": "58122f7d",
   "metadata": {},
   "outputs": [],
   "source": [
    "test['TotalBath'] = test['FullBath'] + test['HalfBath']"
   ]
  },
  {
   "cell_type": "code",
   "execution_count": null,
   "id": "c06de68f",
   "metadata": {},
   "outputs": [],
   "source": []
  },
  {
   "cell_type": "code",
   "execution_count": null,
   "id": "9610a6ec",
   "metadata": {},
   "outputs": [],
   "source": []
  },
  {
   "cell_type": "code",
   "execution_count": null,
   "id": "df0c0871",
   "metadata": {},
   "outputs": [],
   "source": []
  },
  {
   "cell_type": "markdown",
   "id": "d6c13259",
   "metadata": {},
   "source": [
    "#### One Hote Encodig"
   ]
  },
  {
   "cell_type": "code",
   "execution_count": 20,
   "id": "b8eda4c7",
   "metadata": {},
   "outputs": [],
   "source": [
    "train['Type'] = 'train'"
   ]
  },
  {
   "cell_type": "code",
   "execution_count": 21,
   "id": "060c1887",
   "metadata": {},
   "outputs": [],
   "source": [
    "test['Type'] = 'test'"
   ]
  },
  {
   "cell_type": "code",
   "execution_count": 22,
   "id": "4715c28a",
   "metadata": {},
   "outputs": [],
   "source": [
    "houses = pd.concat([train,test])"
   ]
  },
  {
   "cell_type": "code",
   "execution_count": 23,
   "id": "2f947969",
   "metadata": {},
   "outputs": [
    {
     "data": {
      "text/plain": [
       "Index(['Id', 'MSSubClass', 'MSZoning', 'LotFrontage', 'LotArea', 'Street',\n",
       "       'Alley', 'LotShape', 'LandContour', 'Utilities', 'LotConfig',\n",
       "       'LandSlope', 'Neighborhood', 'Condition1', 'Condition2', 'BldgType',\n",
       "       'HouseStyle', 'OverallQual', 'OverallCond', 'YearBuilt', 'YearRemodAdd',\n",
       "       'RoofStyle', 'RoofMatl', 'Exterior1st', 'Exterior2nd', 'MasVnrType',\n",
       "       'MasVnrArea', 'ExterQual', 'ExterCond', 'Foundation', 'BsmtQual',\n",
       "       'BsmtCond', 'BsmtExposure', 'BsmtFinType1', 'BsmtFinSF1',\n",
       "       'BsmtFinType2', 'BsmtFinSF2', 'BsmtUnfSF', 'TotalBsmtSF', 'Heating',\n",
       "       'HeatingQC', 'CentralAir', 'Electrical', '1stFlrSF', '2ndFlrSF',\n",
       "       'LowQualFinSF', 'GrLivArea', 'BsmtFullBath', 'BsmtHalfBath', 'FullBath',\n",
       "       'HalfBath', 'BedroomAbvGr', 'KitchenAbvGr', 'KitchenQual',\n",
       "       'TotRmsAbvGrd', 'Functional', 'Fireplaces', 'FireplaceQu', 'GarageType',\n",
       "       'GarageYrBlt', 'GarageFinish', 'GarageCars', 'GarageArea', 'GarageQual',\n",
       "       'GarageCond', 'PavedDrive', 'WoodDeckSF', 'OpenPorchSF',\n",
       "       'EnclosedPorch', '3SsnPorch', 'ScreenPorch', 'PoolArea', 'PoolQC',\n",
       "       'Fence', 'MiscFeature', 'MiscVal', 'MoSold', 'YrSold', 'SaleType',\n",
       "       'SaleCondition', 'SalePrice', 'TotalArea', 'GardenArea', 'TotalBath',\n",
       "       'Type'],\n",
       "      dtype='object')"
      ]
     },
     "execution_count": 23,
     "metadata": {},
     "output_type": "execute_result"
    }
   ],
   "source": [
    "houses.columns"
   ]
  },
  {
   "cell_type": "markdown",
   "id": "9ea62441",
   "metadata": {},
   "source": [
    "#### Categorical Variable Analyzis"
   ]
  },
  {
   "cell_type": "code",
   "execution_count": 24,
   "id": "4faf43c4",
   "metadata": {},
   "outputs": [
    {
     "data": {
      "text/plain": [
       "0"
      ]
     },
     "execution_count": 24,
     "metadata": {},
     "output_type": "execute_result"
    }
   ],
   "source": [
    "houses['OpenPorchSF'].isna().sum()"
   ]
  },
  {
   "cell_type": "code",
   "execution_count": 25,
   "id": "98c60403",
   "metadata": {},
   "outputs": [
    {
     "data": {
      "text/plain": [
       "array([ 61,   0,  42,  35,  84,  30,  57, 204,   4,  21,  33, 213, 112,\n",
       "       102, 154, 159, 110,  90,  56,  32,  50, 258,  54,  65,  38,  47,\n",
       "        64,  52, 138, 104,  82,  43, 146,  75,  72,  70,  49,  11,  36,\n",
       "       151,  29,  94, 101, 199,  99, 234, 162,  63,  68,  46,  45, 122,\n",
       "       184, 120,  20,  24, 130, 205, 108,  80,  66,  48,  25,  96, 111,\n",
       "       106,  40, 114,   8, 136, 132,  62, 228,  60, 238, 260,  27,  74,\n",
       "        16, 198,  26,  83,  34,  55,  22,  98, 172, 119, 208, 105, 140,\n",
       "       168,  28,  39, 148,  12,  51, 150, 117, 250,  10,  81,  44, 144,\n",
       "       175, 195, 128,  76,  17,  59, 214, 121,  53, 231, 134, 192, 123,\n",
       "        78, 187,  85, 133, 176, 113, 137, 125, 523, 100, 285,  88, 406,\n",
       "       155,  73, 182, 502, 274, 158, 142, 243, 235, 312, 124, 267, 265,\n",
       "        87, 288,  23, 152, 341, 116, 160, 174, 247, 291,  18, 170, 156,\n",
       "       166, 129, 418, 240,  77, 364, 188, 207,  67,  69, 131, 191,  41,\n",
       "       118, 252, 189, 282, 135,  95, 224, 169, 319,  58,  93, 244, 185,\n",
       "       200,  92, 180, 263, 304, 229, 103, 211, 287, 292, 241, 547,  91,\n",
       "        86, 262, 210, 141,  15, 126, 236, 278, 197, 273, 190, 183, 165,\n",
       "       226, 178, 177, 254, 215, 222, 193, 201, 173, 153, 251, 230, 299,\n",
       "       365, 139, 216,  89, 372, 217, 276, 164, 368, 203, 127, 256, 194,\n",
       "       324, 171, 570, 484, 742, 444, 266,  97,  37, 246,  31, 382,   6,\n",
       "       115, 253, 245, 107, 225])"
      ]
     },
     "execution_count": 25,
     "metadata": {},
     "output_type": "execute_result"
    }
   ],
   "source": [
    "houses['OpenPorchSF'].unique()"
   ]
  },
  {
   "cell_type": "markdown",
   "id": "f21b3476",
   "metadata": {},
   "source": [
    "#### One Hot Encoding"
   ]
  },
  {
   "cell_type": "code",
   "execution_count": 26,
   "id": "cb0fe26d",
   "metadata": {},
   "outputs": [
    {
     "data": {
      "text/plain": [
       "(2919, 85)"
      ]
     },
     "execution_count": 26,
     "metadata": {},
     "output_type": "execute_result"
    }
   ],
   "source": [
    "houses.shape"
   ]
  },
  {
   "cell_type": "code",
   "execution_count": 27,
   "id": "30333b54",
   "metadata": {},
   "outputs": [],
   "source": [
    "ohe = pd.get_dummies(houses['LotShape'], prefix='LotShape')\n",
    "houses = pd.concat([houses,ohe], axis=1)"
   ]
  },
  {
   "cell_type": "code",
   "execution_count": 28,
   "id": "4054a12b",
   "metadata": {},
   "outputs": [],
   "source": [
    "houses.drop('LotShape', axis=1, inplace=True)"
   ]
  },
  {
   "cell_type": "code",
   "execution_count": 29,
   "id": "f96d7d10",
   "metadata": {},
   "outputs": [],
   "source": [
    "ohe = pd.get_dummies(houses['LandContour'], prefix='LandContour')\n",
    "houses = pd.concat([houses,ohe], axis=1)"
   ]
  },
  {
   "cell_type": "code",
   "execution_count": 30,
   "id": "cc0af14a",
   "metadata": {},
   "outputs": [],
   "source": [
    "houses.drop('LandContour', axis=1, inplace=True)"
   ]
  },
  {
   "cell_type": "code",
   "execution_count": 31,
   "id": "f27ef03a",
   "metadata": {},
   "outputs": [],
   "source": [
    "ohe = pd.get_dummies(houses['LotConfig'], prefix='LotConfig')\n",
    "houses = pd.concat([houses,ohe], axis=1)"
   ]
  },
  {
   "cell_type": "code",
   "execution_count": 32,
   "id": "0f300ad2",
   "metadata": {},
   "outputs": [],
   "source": [
    "houses.drop('LotConfig', axis=1, inplace=True)"
   ]
  },
  {
   "cell_type": "code",
   "execution_count": 33,
   "id": "eca799ab",
   "metadata": {},
   "outputs": [],
   "source": [
    "ohe = pd.get_dummies(houses['LandSlope'], prefix='LandSlope')\n",
    "houses = pd.concat([houses,ohe], axis=1)"
   ]
  },
  {
   "cell_type": "code",
   "execution_count": 34,
   "id": "183ef45a",
   "metadata": {},
   "outputs": [],
   "source": [
    "houses.drop('LandSlope', axis=1, inplace=True)"
   ]
  },
  {
   "cell_type": "code",
   "execution_count": 35,
   "id": "daf38ce4",
   "metadata": {},
   "outputs": [],
   "source": [
    "ohe = pd.get_dummies(houses['Neighborhood'], prefix='Neighborhood')\n",
    "houses = pd.concat([houses,ohe], axis=1)"
   ]
  },
  {
   "cell_type": "code",
   "execution_count": 36,
   "id": "d8ec4415",
   "metadata": {},
   "outputs": [],
   "source": [
    "houses.drop('Neighborhood', axis=1, inplace=True)"
   ]
  },
  {
   "cell_type": "code",
   "execution_count": 37,
   "id": "3c548894",
   "metadata": {},
   "outputs": [],
   "source": [
    "ohe = pd.get_dummies(houses['Condition1'], prefix='Condition1')\n",
    "houses = pd.concat([houses,ohe], axis=1)"
   ]
  },
  {
   "cell_type": "code",
   "execution_count": 38,
   "id": "47c3514e",
   "metadata": {},
   "outputs": [],
   "source": [
    "houses.drop('Condition1', axis=1, inplace=True)"
   ]
  },
  {
   "cell_type": "code",
   "execution_count": 39,
   "id": "340b19ef",
   "metadata": {},
   "outputs": [],
   "source": [
    "ohe = pd.get_dummies(houses['Condition2'], prefix='Condition2')\n",
    "houses = pd.concat([houses,ohe], axis=1)"
   ]
  },
  {
   "cell_type": "code",
   "execution_count": 40,
   "id": "9aea3050",
   "metadata": {},
   "outputs": [],
   "source": [
    "houses.drop('Condition2', axis=1, inplace=True)"
   ]
  },
  {
   "cell_type": "code",
   "execution_count": 41,
   "id": "fb7e5cd0",
   "metadata": {},
   "outputs": [],
   "source": [
    "ohe = pd.get_dummies(houses['BldgType'], prefix='BldgType')\n",
    "houses = pd.concat([houses,ohe], axis=1)"
   ]
  },
  {
   "cell_type": "code",
   "execution_count": 42,
   "id": "43e4f8ef",
   "metadata": {},
   "outputs": [],
   "source": [
    "houses.drop('BldgType', axis=1, inplace=True)"
   ]
  },
  {
   "cell_type": "code",
   "execution_count": 43,
   "id": "8234e93e",
   "metadata": {},
   "outputs": [],
   "source": [
    "ohe = pd.get_dummies(houses['HouseStyle'], prefix='HouseStyle')\n",
    "houses = pd.concat([houses,ohe], axis=1)"
   ]
  },
  {
   "cell_type": "code",
   "execution_count": 44,
   "id": "d578f7bf",
   "metadata": {},
   "outputs": [],
   "source": [
    "houses.drop('HouseStyle', axis=1, inplace=True)"
   ]
  },
  {
   "cell_type": "code",
   "execution_count": 45,
   "id": "21da4725",
   "metadata": {},
   "outputs": [],
   "source": [
    "ohe = pd.get_dummies(houses['RoofStyle'], prefix='RoofStyle')\n",
    "houses = pd.concat([houses,ohe], axis=1)"
   ]
  },
  {
   "cell_type": "code",
   "execution_count": 46,
   "id": "0b74ca1b",
   "metadata": {},
   "outputs": [],
   "source": [
    "houses.drop('RoofStyle', axis=1, inplace=True)"
   ]
  },
  {
   "cell_type": "code",
   "execution_count": 47,
   "id": "7d1bfdc2",
   "metadata": {},
   "outputs": [],
   "source": [
    "ohe = pd.get_dummies(houses['RoofMatl'], prefix='RoofMatl')\n",
    "houses = pd.concat([houses,ohe], axis=1)"
   ]
  },
  {
   "cell_type": "code",
   "execution_count": 48,
   "id": "ae2c8f18",
   "metadata": {},
   "outputs": [],
   "source": [
    "houses.drop('RoofMatl', axis=1, inplace=True)"
   ]
  },
  {
   "cell_type": "code",
   "execution_count": 49,
   "id": "32bd239c",
   "metadata": {},
   "outputs": [],
   "source": [
    "ohe = pd.get_dummies(houses['Foundation'], prefix='Foundation')\n",
    "houses = pd.concat([houses,ohe], axis=1)"
   ]
  },
  {
   "cell_type": "code",
   "execution_count": 50,
   "id": "ab10d09e",
   "metadata": {},
   "outputs": [],
   "source": [
    "houses.drop('Foundation', axis=1, inplace=True)"
   ]
  },
  {
   "cell_type": "code",
   "execution_count": 51,
   "id": "a77937d5",
   "metadata": {},
   "outputs": [],
   "source": [
    "ohe = pd.get_dummies(houses['Heating'], prefix='Heating')\n",
    "houses = pd.concat([houses,ohe], axis=1)"
   ]
  },
  {
   "cell_type": "code",
   "execution_count": 52,
   "id": "72ca199a",
   "metadata": {},
   "outputs": [],
   "source": [
    "houses.drop('Heating', axis=1, inplace=True)"
   ]
  },
  {
   "cell_type": "code",
   "execution_count": 53,
   "id": "81b7bbca",
   "metadata": {},
   "outputs": [],
   "source": [
    "ohe = pd.get_dummies(houses['PavedDrive'], prefix='PavedDrive')\n",
    "houses = pd.concat([houses,ohe], axis=1)"
   ]
  },
  {
   "cell_type": "code",
   "execution_count": 54,
   "id": "39332e1c",
   "metadata": {},
   "outputs": [],
   "source": [
    "houses.drop('PavedDrive', axis=1, inplace=True)"
   ]
  },
  {
   "cell_type": "code",
   "execution_count": null,
   "id": "fe8071ff",
   "metadata": {},
   "outputs": [],
   "source": []
  },
  {
   "cell_type": "code",
   "execution_count": null,
   "id": "cb6089a8",
   "metadata": {},
   "outputs": [],
   "source": []
  },
  {
   "cell_type": "code",
   "execution_count": null,
   "id": "e8fcf1da",
   "metadata": {},
   "outputs": [],
   "source": []
  },
  {
   "cell_type": "code",
   "execution_count": null,
   "id": "1ab9f0ff",
   "metadata": {},
   "outputs": [],
   "source": []
  },
  {
   "cell_type": "code",
   "execution_count": null,
   "id": "47b35986",
   "metadata": {},
   "outputs": [],
   "source": []
  },
  {
   "cell_type": "code",
   "execution_count": null,
   "id": "7d2bf606",
   "metadata": {},
   "outputs": [],
   "source": []
  },
  {
   "cell_type": "code",
   "execution_count": null,
   "id": "2e31c31d",
   "metadata": {},
   "outputs": [],
   "source": [
    "# include LowQualFinSF,GrLivArea,BedroomAbvGr,KitchenAbvGr,TotRmsAbvGrd,Fireplaces,GarageArea,WoodDeckSF,OpenPorchSF"
   ]
  },
  {
   "cell_type": "markdown",
   "id": "01a557e1",
   "metadata": {},
   "source": [
    "#### Graphics for analyzis"
   ]
  },
  {
   "cell_type": "code",
   "execution_count": 153,
   "id": "38c27762",
   "metadata": {},
   "outputs": [],
   "source": [
    "import matplotlib.pyplot as plt"
   ]
  },
  {
   "cell_type": "code",
   "execution_count": 156,
   "id": "34a6f752",
   "metadata": {},
   "outputs": [
    {
     "data": {
      "image/png": "[encoded data removed]",
      "text/plain": [
       "<Figure size 640x480 with 1 Axes>"
      ]
     },
     "metadata": {},
     "output_type": "display_data"
    }
   ],
   "source": [
    "plt.bar(train['PavedDrive'], train['SalePrice'])\n",
    "plt.show()"
   ]
  },
  {
   "cell_type": "code",
   "execution_count": null,
   "id": "b8159767",
   "metadata": {},
   "outputs": [],
   "source": []
  },
  {
   "cell_type": "code",
   "execution_count": null,
   "id": "ad965d9c",
   "metadata": {},
   "outputs": [],
   "source": []
  },
  {
   "cell_type": "code",
   "execution_count": null,
   "id": "a895a0b1",
   "metadata": {},
   "outputs": [],
   "source": []
  },
  {
   "cell_type": "markdown",
   "id": "e7aacc56",
   "metadata": {},
   "source": [
    "#### Label Encoding"
   ]
  },
  {
   "cell_type": "code",
   "execution_count": 55,
   "id": "9e957aa5",
   "metadata": {},
   "outputs": [
    {
     "data": {
      "text/plain": [
       "array([1, 0])"
      ]
     },
     "execution_count": 55,
     "metadata": {},
     "output_type": "execute_result"
    }
   ],
   "source": [
    "le = LabelEncoder()\n",
    "houses['CentralAir'] = le.fit_transform(houses['CentralAir'])\n",
    "houses['CentralAir'].unique()"
   ]
  },
  {
   "cell_type": "code",
   "execution_count": 56,
   "id": "87d6aa71",
   "metadata": {},
   "outputs": [
    {
     "data": {
      "text/plain": [
       "array([1, 0])"
      ]
     },
     "execution_count": 56,
     "metadata": {},
     "output_type": "execute_result"
    }
   ],
   "source": [
    "le = LabelEncoder()\n",
    "houses['Street'] = le.fit_transform(houses['Street'])\n",
    "houses['Street'].unique()"
   ]
  },
  {
   "cell_type": "code",
   "execution_count": 57,
   "id": "7148a82d",
   "metadata": {},
   "outputs": [],
   "source": [
    "mapping = {'Ex': 5, 'Gd': 4, 'TA': 3, 'Fa': 2, 'Po':1}"
   ]
  },
  {
   "cell_type": "code",
   "execution_count": 58,
   "id": "e24750d6",
   "metadata": {},
   "outputs": [],
   "source": [
    "houses['ExterQual'] = houses['ExterQual'].replace(mapping)"
   ]
  },
  {
   "cell_type": "code",
   "execution_count": 59,
   "id": "6fc2a4d4",
   "metadata": {},
   "outputs": [],
   "source": [
    "houses['ExterCond'] = houses['ExterCond'].replace(mapping)"
   ]
  },
  {
   "cell_type": "code",
   "execution_count": 60,
   "id": "9bb1de7d",
   "metadata": {},
   "outputs": [],
   "source": [
    "houses['HeatingQC'] = houses['HeatingQC'].replace(mapping)"
   ]
  },
  {
   "cell_type": "code",
   "execution_count": null,
   "id": "57a179f4",
   "metadata": {},
   "outputs": [],
   "source": []
  },
  {
   "cell_type": "code",
   "execution_count": null,
   "id": "33169ebe",
   "metadata": {},
   "outputs": [],
   "source": []
  },
  {
   "cell_type": "code",
   "execution_count": null,
   "id": "9fbaf847",
   "metadata": {},
   "outputs": [],
   "source": []
  },
  {
   "cell_type": "code",
   "execution_count": null,
   "id": "2c922cd6",
   "metadata": {},
   "outputs": [],
   "source": []
  },
  {
   "cell_type": "markdown",
   "id": "777c54f8",
   "metadata": {},
   "source": [
    "#### Convert Dates"
   ]
  },
  {
   "cell_type": "code",
   "execution_count": 116,
   "id": "b720637e",
   "metadata": {},
   "outputs": [],
   "source": [
    "#houses['GarageYrBlt'] = pd.to_datetime(houses['GarageYrBlt'], format='%Y', errors='coerce')"
   ]
  },
  {
   "cell_type": "code",
   "execution_count": 117,
   "id": "eaeb2930",
   "metadata": {},
   "outputs": [
    {
     "data": {
      "text/plain": [
       "0   2003-01-01\n",
       "1   1976-01-01\n",
       "2   2001-01-01\n",
       "3   1998-01-01\n",
       "4   2000-01-01\n",
       "Name: GarageYrBlt, dtype: datetime64[ns]"
      ]
     },
     "execution_count": 117,
     "metadata": {},
     "output_type": "execute_result"
    }
   ],
   "source": [
    "#houses['GarageYrBlt'].head()"
   ]
  },
  {
   "cell_type": "code",
   "execution_count": 119,
   "id": "6f9f8634",
   "metadata": {},
   "outputs": [
    {
     "data": {
      "text/plain": [
       "159"
      ]
     },
     "execution_count": 119,
     "metadata": {},
     "output_type": "execute_result"
    }
   ],
   "source": [
    "#houses['GarageYrBlt'].isna().sum()"
   ]
  },
  {
   "cell_type": "code",
   "execution_count": null,
   "id": "32ec2de0",
   "metadata": {},
   "outputs": [],
   "source": []
  },
  {
   "cell_type": "markdown",
   "id": "a56bf797",
   "metadata": {},
   "source": [
    "#### Select Columns"
   ]
  },
  {
   "cell_type": "code",
   "execution_count": 66,
   "id": "3e8b5887",
   "metadata": {},
   "outputs": [],
   "source": [
    "correct_columns = ['Street','TotalArea','GardenArea','TotalBath','LowQualFinSF','GrLivArea','BedroomAbvGr','KitchenAbvGr','TotRmsAbvGrd','Fireplaces','GarageArea','WoodDeckSF','OpenPorchSF']"
   ]
  },
  {
   "cell_type": "code",
   "execution_count": 67,
   "id": "da46a2ef",
   "metadata": {},
   "outputs": [],
   "source": [
    "columns = []"
   ]
  },
  {
   "cell_type": "code",
   "execution_count": 68,
   "id": "74a09bbf",
   "metadata": {},
   "outputs": [],
   "source": [
    "columns += correct_columns"
   ]
  },
  {
   "cell_type": "code",
   "execution_count": 69,
   "id": "584d583b",
   "metadata": {},
   "outputs": [
    {
     "data": {
      "text/plain": [
       "['Street',\n",
       " 'TotalArea',\n",
       " 'GardenArea',\n",
       " 'TotalBath',\n",
       " 'LowQualFinSF',\n",
       " 'GrLivArea',\n",
       " 'BedroomAbvGr',\n",
       " 'KitchenAbvGr',\n",
       " 'TotRmsAbvGrd',\n",
       " 'Fireplaces',\n",
       " 'GarageArea',\n",
       " 'WoodDeckSF',\n",
       " 'OpenPorchSF']"
      ]
     },
     "execution_count": 69,
     "metadata": {},
     "output_type": "execute_result"
    }
   ],
   "source": [
    "columns"
   ]
  },
  {
   "cell_type": "code",
   "execution_count": 70,
   "id": "5d7154bf",
   "metadata": {},
   "outputs": [],
   "source": [
    "x = ([col for col in houses.columns if 'LotShape' in col])\n",
    "columns += x"
   ]
  },
  {
   "cell_type": "code",
   "execution_count": 71,
   "id": "a1f40628",
   "metadata": {},
   "outputs": [],
   "source": [
    "x = ([col for col in houses.columns if 'LandContour' in col])\n",
    "columns += x"
   ]
  },
  {
   "cell_type": "code",
   "execution_count": 72,
   "id": "595b9232",
   "metadata": {},
   "outputs": [],
   "source": [
    "x = ([col for col in houses.columns if 'LotConfig' in col])\n",
    "columns += x"
   ]
  },
  {
   "cell_type": "code",
   "execution_count": 73,
   "id": "18d388f1",
   "metadata": {},
   "outputs": [],
   "source": [
    "x = ([col for col in houses.columns if 'LandSlope' in col])\n",
    "columns += x"
   ]
  },
  {
   "cell_type": "code",
   "execution_count": 74,
   "id": "22e5f9f9",
   "metadata": {},
   "outputs": [],
   "source": [
    "x = ([col for col in houses.columns if 'Neighborhood' in col])\n",
    "columns += x"
   ]
  },
  {
   "cell_type": "code",
   "execution_count": 75,
   "id": "3a87631a",
   "metadata": {},
   "outputs": [],
   "source": [
    "x = ([col for col in houses.columns if 'Condition1' in col])\n",
    "columns += x"
   ]
  },
  {
   "cell_type": "code",
   "execution_count": 76,
   "id": "637d090f",
   "metadata": {},
   "outputs": [],
   "source": [
    "x = ([col for col in houses.columns if 'Condition2' in col])\n",
    "columns += x"
   ]
  },
  {
   "cell_type": "code",
   "execution_count": 77,
   "id": "8a8e1b0a",
   "metadata": {},
   "outputs": [],
   "source": [
    "x = ([col for col in houses.columns if 'BldgType' in col])\n",
    "columns += x"
   ]
  },
  {
   "cell_type": "code",
   "execution_count": 78,
   "id": "254ce29f",
   "metadata": {},
   "outputs": [],
   "source": [
    "x = ([col for col in houses.columns if 'HouseStyle' in col])\n",
    "columns += x"
   ]
  },
  {
   "cell_type": "code",
   "execution_count": 79,
   "id": "6982ba48",
   "metadata": {},
   "outputs": [],
   "source": [
    "x = ([col for col in houses.columns if 'RoofStyle' in col])\n",
    "columns += x"
   ]
  },
  {
   "cell_type": "code",
   "execution_count": 80,
   "id": "8459650a",
   "metadata": {},
   "outputs": [],
   "source": [
    "x = ([col for col in houses.columns if 'RoofMatl' in col])\n",
    "columns += x"
   ]
  },
  {
   "cell_type": "code",
   "execution_count": 81,
   "id": "fdef655c",
   "metadata": {},
   "outputs": [],
   "source": [
    "x = ([col for col in houses.columns if 'Foundation' in col])\n",
    "columns += x"
   ]
  },
  {
   "cell_type": "code",
   "execution_count": 82,
   "id": "a15f62a4",
   "metadata": {},
   "outputs": [],
   "source": [
    "x = ([col for col in houses.columns if 'Heating' in col])\n",
    "columns += x"
   ]
  },
  {
   "cell_type": "code",
   "execution_count": 83,
   "id": "3370b6cb",
   "metadata": {},
   "outputs": [],
   "source": [
    "x = ([col for col in houses.columns if 'PavedDrive' in col])\n",
    "columns += x"
   ]
  },
  {
   "cell_type": "code",
   "execution_count": null,
   "id": "bffcd5a3",
   "metadata": {},
   "outputs": [],
   "source": []
  },
  {
   "cell_type": "code",
   "execution_count": null,
   "id": "39b7cd6a",
   "metadata": {},
   "outputs": [],
   "source": []
  },
  {
   "cell_type": "code",
   "execution_count": null,
   "id": "8417a1e6",
   "metadata": {},
   "outputs": [],
   "source": []
  },
  {
   "cell_type": "code",
   "execution_count": null,
   "id": "0cf44ab3",
   "metadata": {},
   "outputs": [],
   "source": []
  },
  {
   "cell_type": "code",
   "execution_count": null,
   "id": "61f62199",
   "metadata": {},
   "outputs": [],
   "source": []
  },
  {
   "cell_type": "code",
   "execution_count": 84,
   "id": "d1250a47",
   "metadata": {},
   "outputs": [
    {
     "data": {
      "text/plain": [
       "['Street',\n",
       " 'TotalArea',\n",
       " 'GardenArea',\n",
       " 'TotalBath',\n",
       " 'LowQualFinSF',\n",
       " 'GrLivArea',\n",
       " 'BedroomAbvGr',\n",
       " 'KitchenAbvGr',\n",
       " 'TotRmsAbvGrd',\n",
       " 'Fireplaces',\n",
       " 'GarageArea',\n",
       " 'WoodDeckSF',\n",
       " 'OpenPorchSF',\n",
       " 'LotShape_IR1',\n",
       " 'LotShape_IR2',\n",
       " 'LotShape_IR3',\n",
       " 'LotShape_Reg',\n",
       " 'LandContour_Bnk',\n",
       " 'LandContour_HLS',\n",
       " 'LandContour_Low',\n",
       " 'LandContour_Lvl',\n",
       " 'LotConfig_Corner',\n",
       " 'LotConfig_CulDSac',\n",
       " 'LotConfig_FR2',\n",
       " 'LotConfig_FR3',\n",
       " 'LotConfig_Inside',\n",
       " 'LandSlope_Gtl',\n",
       " 'LandSlope_Mod',\n",
       " 'LandSlope_Sev',\n",
       " 'Neighborhood_Blmngtn',\n",
       " 'Neighborhood_Blueste',\n",
       " 'Neighborhood_BrDale',\n",
       " 'Neighborhood_BrkSide',\n",
       " 'Neighborhood_ClearCr',\n",
       " 'Neighborhood_CollgCr',\n",
       " 'Neighborhood_Crawfor',\n",
       " 'Neighborhood_Edwards',\n",
       " 'Neighborhood_Gilbert',\n",
       " 'Neighborhood_IDOTRR',\n",
       " 'Neighborhood_MeadowV',\n",
       " 'Neighborhood_Mitchel',\n",
       " 'Neighborhood_NAmes',\n",
       " 'Neighborhood_NPkVill',\n",
       " 'Neighborhood_NWAmes',\n",
       " 'Neighborhood_NoRidge',\n",
       " 'Neighborhood_NridgHt',\n",
       " 'Neighborhood_OldTown',\n",
       " 'Neighborhood_SWISU',\n",
       " 'Neighborhood_Sawyer',\n",
       " 'Neighborhood_SawyerW',\n",
       " 'Neighborhood_Somerst',\n",
       " 'Neighborhood_StoneBr',\n",
       " 'Neighborhood_Timber',\n",
       " 'Neighborhood_Veenker',\n",
       " 'Condition1_Artery',\n",
       " 'Condition1_Feedr',\n",
       " 'Condition1_Norm',\n",
       " 'Condition1_PosA',\n",
       " 'Condition1_PosN',\n",
       " 'Condition1_RRAe',\n",
       " 'Condition1_RRAn',\n",
       " 'Condition1_RRNe',\n",
       " 'Condition1_RRNn',\n",
       " 'Condition2_Artery',\n",
       " 'Condition2_Feedr',\n",
       " 'Condition2_Norm',\n",
       " 'Condition2_PosA',\n",
       " 'Condition2_PosN',\n",
       " 'Condition2_RRAe',\n",
       " 'Condition2_RRAn',\n",
       " 'Condition2_RRNn',\n",
       " 'BldgType_1Fam',\n",
       " 'BldgType_2fmCon',\n",
       " 'BldgType_Duplex',\n",
       " 'BldgType_Twnhs',\n",
       " 'BldgType_TwnhsE',\n",
       " 'HouseStyle_1.5Fin',\n",
       " 'HouseStyle_1.5Unf',\n",
       " 'HouseStyle_1Story',\n",
       " 'HouseStyle_2.5Fin',\n",
       " 'HouseStyle_2.5Unf',\n",
       " 'HouseStyle_2Story',\n",
       " 'HouseStyle_SFoyer',\n",
       " 'HouseStyle_SLvl',\n",
       " 'RoofStyle_Flat',\n",
       " 'RoofStyle_Gable',\n",
       " 'RoofStyle_Gambrel',\n",
       " 'RoofStyle_Hip',\n",
       " 'RoofStyle_Mansard',\n",
       " 'RoofStyle_Shed',\n",
       " 'RoofMatl_ClyTile',\n",
       " 'RoofMatl_CompShg',\n",
       " 'RoofMatl_Membran',\n",
       " 'RoofMatl_Metal',\n",
       " 'RoofMatl_Roll',\n",
       " 'RoofMatl_Tar&Grv',\n",
       " 'RoofMatl_WdShake',\n",
       " 'RoofMatl_WdShngl',\n",
       " 'Foundation_BrkTil',\n",
       " 'Foundation_CBlock',\n",
       " 'Foundation_PConc',\n",
       " 'Foundation_Slab',\n",
       " 'Foundation_Stone',\n",
       " 'Foundation_Wood',\n",
       " 'HeatingQC',\n",
       " 'Heating_Floor',\n",
       " 'Heating_GasA',\n",
       " 'Heating_GasW',\n",
       " 'Heating_Grav',\n",
       " 'Heating_OthW',\n",
       " 'Heating_Wall',\n",
       " 'PavedDrive_N',\n",
       " 'PavedDrive_P',\n",
       " 'PavedDrive_Y']"
      ]
     },
     "execution_count": 84,
     "metadata": {},
     "output_type": "execute_result"
    }
   ],
   "source": [
    "columns"
   ]
  },
  {
   "cell_type": "code",
   "execution_count": null,
   "id": "295d14cc",
   "metadata": {},
   "outputs": [],
   "source": []
  },
  {
   "cell_type": "code",
   "execution_count": null,
   "id": "bfc80622",
   "metadata": {},
   "outputs": [],
   "source": []
  },
  {
   "cell_type": "code",
   "execution_count": null,
   "id": "0ed2f3cb",
   "metadata": {},
   "outputs": [],
   "source": []
  },
  {
   "cell_type": "code",
   "execution_count": null,
   "id": "74e51908",
   "metadata": {},
   "outputs": [],
   "source": []
  },
  {
   "cell_type": "code",
   "execution_count": null,
   "id": "b7363216",
   "metadata": {},
   "outputs": [],
   "source": []
  },
  {
   "cell_type": "code",
   "execution_count": null,
   "id": "65f7ca88",
   "metadata": {},
   "outputs": [],
   "source": []
  },
  {
   "cell_type": "code",
   "execution_count": null,
   "id": "2016a238",
   "metadata": {},
   "outputs": [],
   "source": []
  },
  {
   "cell_type": "code",
   "execution_count": null,
   "id": "1301c083",
   "metadata": {},
   "outputs": [],
   "source": []
  },
  {
   "cell_type": "markdown",
   "id": "c4ae939a",
   "metadata": {},
   "source": [
    "#### Split train and test"
   ]
  },
  {
   "cell_type": "code",
   "execution_count": 85,
   "id": "00791e5a",
   "metadata": {},
   "outputs": [],
   "source": [
    "train = houses[houses['Type']=='train']"
   ]
  },
  {
   "cell_type": "code",
   "execution_count": 86,
   "id": "4d7dd9d1",
   "metadata": {},
   "outputs": [],
   "source": [
    "test = houses[houses['Type']=='test']"
   ]
  },
  {
   "cell_type": "markdown",
   "id": "04cf691f",
   "metadata": {},
   "source": [
    "#### Filter Columns"
   ]
  },
  {
   "cell_type": "code",
   "execution_count": 87,
   "id": "8757fc5a",
   "metadata": {},
   "outputs": [
    {
     "name": "stdout",
     "output_type": "stream",
     "text": [
      "Index([], dtype='object')\n"
     ]
    }
   ],
   "source": [
    "# Filter columns with more than one missing value\n",
    "selected_columns = train[columns].columns[train[columns].isna().sum() == 1]\n",
    "print(selected_columns)"
   ]
  },
  {
   "cell_type": "code",
   "execution_count": 88,
   "id": "09ffd2c2",
   "metadata": {},
   "outputs": [
    {
     "name": "stdout",
     "output_type": "stream",
     "text": [
      "Index(['TotalArea', 'GarageArea'], dtype='object')\n"
     ]
    }
   ],
   "source": [
    "# Filter columns with more than one missing value\n",
    "selected_columns = test[columns].columns[test[columns].isna().sum() == 1]\n",
    "print(selected_columns)"
   ]
  },
  {
   "cell_type": "code",
   "execution_count": 93,
   "id": "9418beec",
   "metadata": {},
   "outputs": [
    {
     "data": {
      "text/plain": [
       "0"
      ]
     },
     "execution_count": 93,
     "metadata": {},
     "output_type": "execute_result"
    }
   ],
   "source": [
    "test['TotalArea'].isna().sum()"
   ]
  },
  {
   "cell_type": "code",
   "execution_count": 94,
   "id": "56eeee76",
   "metadata": {},
   "outputs": [
    {
     "data": {
      "text/plain": [
       "0"
      ]
     },
     "execution_count": 94,
     "metadata": {},
     "output_type": "execute_result"
    }
   ],
   "source": [
    "test['GarageArea'].isna().sum()"
   ]
  },
  {
   "cell_type": "code",
   "execution_count": 91,
   "id": "b3c2a059",
   "metadata": {},
   "outputs": [
    {
     "name": "stderr",
     "output_type": "stream",
     "text": [
      "/var/folders/sq/dl_vqf5n05z5z05q_14d_wmw0000gn/T/ipykernel_62301/3434746067.py:2: SettingWithCopyWarning: \n",
      "A value is trying to be set on a copy of a slice from a DataFrame\n",
      "\n",
      "See the caveats in the documentation: https://pandas.pydata.org/pandas-docs/stable/user_guide/indexing.html#returning-a-view-versus-a-copy\n",
      "  test['TotalArea'].fillna(average_total_area, inplace=True)\n"
     ]
    }
   ],
   "source": [
    "average_total_area = test['TotalArea'].mean()\n",
    "test['TotalArea'].fillna(average_total_area, inplace=True)"
   ]
  },
  {
   "cell_type": "code",
   "execution_count": 92,
   "id": "98c1bd93",
   "metadata": {},
   "outputs": [
    {
     "name": "stderr",
     "output_type": "stream",
     "text": [
      "/var/folders/sq/dl_vqf5n05z5z05q_14d_wmw0000gn/T/ipykernel_62301/2045763681.py:2: SettingWithCopyWarning: \n",
      "A value is trying to be set on a copy of a slice from a DataFrame\n",
      "\n",
      "See the caveats in the documentation: https://pandas.pydata.org/pandas-docs/stable/user_guide/indexing.html#returning-a-view-versus-a-copy\n",
      "  test['GarageArea'].fillna(average_total_area, inplace=True)\n"
     ]
    }
   ],
   "source": [
    "average_total_area = test['GarageArea'].mean()\n",
    "test['GarageArea'].fillna(average_total_area, inplace=True)"
   ]
  },
  {
   "cell_type": "markdown",
   "id": "7d0b2ce0",
   "metadata": {},
   "source": [
    "#### Apply the model "
   ]
  },
  {
   "cell_type": "code",
   "execution_count": 95,
   "id": "7929c669",
   "metadata": {},
   "outputs": [],
   "source": [
    "rf_2 = RandomForestRegressor()"
   ]
  },
  {
   "cell_type": "code",
   "execution_count": 96,
   "id": "a0846700",
   "metadata": {},
   "outputs": [
    {
     "data": {
      "text/plain": [
       "RandomForestRegressor()"
      ]
     },
     "execution_count": 96,
     "metadata": {},
     "output_type": "execute_result"
    }
   ],
   "source": [
    "rf_2.fit(X=train[columns],y=train['SalePrice'])"
   ]
  },
  {
   "cell_type": "code",
   "execution_count": 97,
   "id": "7703a8dd",
   "metadata": {},
   "outputs": [
    {
     "name": "stderr",
     "output_type": "stream",
     "text": [
      "/var/folders/sq/dl_vqf5n05z5z05q_14d_wmw0000gn/T/ipykernel_62301/3444888542.py:1: SettingWithCopyWarning: \n",
      "A value is trying to be set on a copy of a slice from a DataFrame.\n",
      "Try using .loc[row_indexer,col_indexer] = value instead\n",
      "\n",
      "See the caveats in the documentation: https://pandas.pydata.org/pandas-docs/stable/user_guide/indexing.html#returning-a-view-versus-a-copy\n",
      "  test['SalePrice'] = rf_2.predict(test[columns])\n"
     ]
    }
   ],
   "source": [
    "test['SalePrice'] = rf_2.predict(test[columns])"
   ]
  },
  {
   "cell_type": "markdown",
   "id": "f694cb92",
   "metadata": {},
   "source": [
    "#### Validate name before"
   ]
  },
  {
   "cell_type": "code",
   "execution_count": 100,
   "id": "a8515fd0",
   "metadata": {},
   "outputs": [],
   "source": [
    "test[['Id','SalePrice']].to_csv('third_kaggle_submission.csv', index=False)"
   ]
  },
  {
   "cell_type": "code",
   "execution_count": null,
   "id": "4517b380",
   "metadata": {},
   "outputs": [],
   "source": []
  },
  {
   "cell_type": "code",
   "execution_count": null,
   "id": "caf55106",
   "metadata": {},
   "outputs": [],
   "source": []
  },
  {
   "cell_type": "code",
   "execution_count": null,
   "id": "10ac0ae2",
   "metadata": {},
   "outputs": [],
   "source": []
  }
 ],
 "metadata": {
  "kernelspec": {
   "display_name": "Python 3 (ipykernel)",
   "language": "python",
   "name": "python3"
  },
  "language_info": {
   "codemirror_mode": {
    "name": "ipython",
    "version": 3
   },
   "file_extension": ".py",
   "mimetype": "text/x-python",
   "name": "python",
   "nbconvert_exporter": "python",
   "pygments_lexer": "ipython3",
   "version": "3.9.13"
  }
 },
 "nbformat": 4,
 "nbformat_minor": 5
}
